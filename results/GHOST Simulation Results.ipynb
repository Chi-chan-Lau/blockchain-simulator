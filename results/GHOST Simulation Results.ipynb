{
 "cells": [
  {
   "cell_type": "markdown",
   "metadata": {},
   "source": [
    "### Experimental Parameters"
   ]
  },
  {
   "cell_type": "code",
   "execution_count": 1,
   "metadata": {},
   "outputs": [],
   "source": [
    "import numpy as np\n",
    "%matplotlib inline\n",
    "\n",
    "proposal_rates = np.linspace(0.05, 0.2, 1)\n",
    "n_trials = 1\n",
    "show_optimistic_confirmation_histogram = True"
   ]
  },
  {
   "cell_type": "markdown",
   "metadata": {},
   "source": [
    "### Setup JSON File"
   ]
  },
  {
   "cell_type": "code",
   "execution_count": 2,
   "metadata": {},
   "outputs": [],
   "source": [
    "import json\n",
    "\n",
    "# Create experimental parameters and write to JSON file\n",
    "\n",
    "params = {'Block proposal rate parameter': 0,\n",
    " 'Block size (txs)': 50,\n",
    " 'Duration (sec)': 0,\n",
    " 'Fork choice rule': 'GHOST',\n",
    " 'Network model': 'Decker-Wattenhorf',\n",
    " 'Number of adversaries': 1,\n",
    " 'Number of nodes': 100,\n",
    " 'Probability of error in transaction confirmation': 0.1,\n",
    " 'Transaction dataset': 'poisson'}\n"
   ]
  },
  {
   "cell_type": "markdown",
   "metadata": {},
   "source": [
    "### Helper Functions to Get Histogram Data for Optimistic Confirmation Times"
   ]
  },
  {
   "cell_type": "code",
   "execution_count": 3,
   "metadata": {},
   "outputs": [],
   "source": [
    "def get_histogram_data():\n",
    "    data = []\n",
    "    for filename in glob.glob('./logs/*-transactions.csv'):\n",
    "        optimistic_confirmation_times = {}\n",
    "        with open(f'{filename}', newline='') as csvfile:\n",
    "            reader = csv.DictReader(csvfile)\n",
    "            first_row = True\n",
    "            for row in reader:\n",
    "                if first_row:\n",
    "                    first_row = False\n",
    "                    continue\n",
    "                else:\n",
    "                    optimistic_confirmation_times[row['id']] = float(row['Optimistic confirmation timestamp'])\n",
    "        with open(f'./logs/transactions.csv', newline='') as csvfile:\n",
    "            reader = csv.DictReader(csvfile)\n",
    "            first_row = True\n",
    "            for row in reader:\n",
    "                if first_row:\n",
    "                    first_row = False\n",
    "                    continue\n",
    "                else:\n",
    "                    if row['id'] in optimistic_confirmation_times:\n",
    "                        optimistic_confirmation_times[row['id']] -= float(row['Arrival Timestamp'])\n",
    "        data += optimistic_confirmation_times.values()\n",
    "    return data"
   ]
  },
  {
   "cell_type": "markdown",
   "metadata": {},
   "source": [
    "### Run experiments"
   ]
  },
  {
   "cell_type": "code",
   "execution_count": 4,
   "metadata": {},
   "outputs": [
    {
     "name": "stdout",
     "output_type": "stream",
     "text": [
      "Parameters:\n",
      "{'GHOST-test': {'Block proposal rate parameter': 0.05,\n",
      "                'Block size (txs)': 50,\n",
      "                'Duration (sec)': 2400,\n",
      "                'Fork choice rule': 'GHOST',\n",
      "                'Network model': 'Decker-Wattenhorf',\n",
      "                'Number of adversaries': 1,\n",
      "                'Number of nodes': 100,\n",
      "                'Probability of error in transaction confirmation': 0.1,\n",
      "                'Transaction dataset': 'poisson'},\n",
      " 'setting-name': 'GHOST-test'}\n",
      "Throughputs:\n",
      " {0.05: [1]}\n",
      "Main Chain Arrival Latencies:\n",
      " {0.05: [17.605889174666235]}\n",
      "Finalization Latencies:\n",
      " {0.05: [126.54496081759629]}\n",
      "Optimistic Confirmation Times:\n",
      " {0.05: [17.74171912521613]}\n"
     ]
    }
   ],
   "source": [
    "import os, shutil, pprint, glob, csv\n",
    "\n",
    "pp = pprint.PrettyPrinter()\n",
    "os.system('touch GHOST.json')\n",
    "os.chdir('..')\n",
    "\n",
    "import metrics\n",
    "\n",
    "throughputs = {}\n",
    "main_chain_arrival_latencies = {}\n",
    "optimistic_confirmation_times = {}\n",
    "finalization_latencies = {}\n",
    "hist_data = {}\n",
    "\n",
    "for i in range(0, len(proposal_rates)):\n",
    "    rate = proposal_rates[i]\n",
    "    params['Block proposal rate parameter'] = rate\n",
    "    params['Duration (sec)'] = 2400\n",
    "    d = {}\n",
    "    d['setting-name'] = f'GHOST-test'\n",
    "    d[f'GHOST-test'] = params\n",
    "    print('Parameters:')\n",
    "    pp.pprint(d)\n",
    "    with open('results/GHOST.json', 'w+') as outfile:\n",
    "        json.dump(d, outfile)\n",
    "    throughputs[rate] = []\n",
    "    main_chain_arrival_latencies[rate] = []\n",
    "    finalization_latencies[rate] = []\n",
    "    optimistic_confirmation_times[rate] = []\n",
    "    for trial in range(0, n_trials):\n",
    "        os.system('python3 main.py -f results/GHOST.json')\n",
    "        throughput = metrics.compute_throughput()\n",
    "        optimistic_confirmation_time = metrics.compute_optimistic_confirmation_time()\n",
    "        avg_main_chain_arrival_latency, avg_finalization_latency = metrics.compute_latency()\n",
    "        throughputs[rate].append(throughput)\n",
    "        main_chain_arrival_latencies[rate].append(avg_main_chain_arrival_latency)\n",
    "        finalization_latencies[rate].append(avg_finalization_latency)\n",
    "        optimistic_confirmation_times[rate].append(optimistic_confirmation_time)\n",
    "        if show_optimistic_confirmation_histogram:\n",
    "            hist_data[rate] = get_histogram_data()\n",
    "\n",
    "os.chdir('results/')\n",
    "os.remove('GHOST.json')\n",
    "\n",
    "print('Throughputs:\\n', throughputs)\n",
    "print('Main Chain Arrival Latencies:\\n', main_chain_arrival_latencies)\n",
    "print('Finalization Latencies:\\n', finalization_latencies)\n",
    "print('Optimistic Confirmation Times:\\n', optimistic_confirmation_times)"
   ]
  },
  {
   "cell_type": "markdown",
   "metadata": {},
   "source": [
    "### Compute Averages\n",
    "\n",
    "Average main chain latency is the time for a transaction to be added to the global blocktree - the timestamp the transaction was created.\n",
    "\n",
    "Average finalization latency is the time for a transaction to be k blocks deep - to be added to the global blocktree."
   ]
  },
  {
   "cell_type": "code",
   "execution_count": 5,
   "metadata": {},
   "outputs": [
    {
     "name": "stdout",
     "output_type": "stream",
     "text": [
      "Average Main Chain Arrival Latency: {0.05: 17.605889174666235}\n",
      "Average Finalization Latency: {0.05: 126.54496081759629}\n",
      "Average Optimistic Confirmation Time: {0.05: 17.74171912521613}\n"
     ]
    }
   ],
   "source": [
    "avg_main_chain_latencies = {}\n",
    "for rate in main_chain_arrival_latencies:\n",
    "    avg_main_chain_latencies[rate] = sum(main_chain_arrival_latencies[rate])/len(main_chain_arrival_latencies[rate])\n",
    "\n",
    "print(\"Average Main Chain Arrival Latency:\", avg_main_chain_latencies)\n",
    "avg_finalization_latencies = {}\n",
    "for rate in finalization_latencies:\n",
    "    avg_finalization_latencies[rate] = sum(finalization_latencies[rate])/len(finalization_latencies[rate])\n",
    "    \n",
    "print(\"Average Finalization Latency:\", avg_finalization_latencies)\n",
    "\n",
    "avg_optimistic_confirmation_times = {}\n",
    "for rate in optimistic_confirmation_times:\n",
    "    avg_optimistic_confirmation_times[rate] = sum(optimistic_confirmation_times[rate])/len(optimistic_confirmation_times[rate])\n",
    "    \n",
    "print(\"Average Optimistic Confirmation Time:\", avg_optimistic_confirmation_times)"
   ]
  },
  {
   "cell_type": "markdown",
   "metadata": {},
   "source": [
    "### Extract Finalization Depth and Delta for Blocks"
   ]
  },
  {
   "cell_type": "code",
   "execution_count": 6,
   "metadata": {},
   "outputs": [],
   "source": [
    "import csv\n",
    "with open('../logs/stats.csv', newline='') as csvfile:\n",
    "    reader = csv.reader(csvfile, delimiter=',')\n",
    "    for row in reader:\n",
    "        if row[0]=='Finalization depth':\n",
    "            k = int(row[1])\n",
    "        elif row[0]=='Average network latency for blocks (sec)':\n",
    "            delta = float(row[1])"
   ]
  },
  {
   "cell_type": "markdown",
   "metadata": {},
   "source": [
    "### Plotting the results"
   ]
  },
  {
   "cell_type": "code",
   "execution_count": 7,
   "metadata": {},
   "outputs": [
    {
     "data": {
      "text/plain": [
       "<Figure size 640x480 with 1 Axes>"
      ]
     },
     "metadata": {},
     "output_type": "display_data"
    }
   ],
   "source": [
    "import matplotlib.pylab as plt\n",
    "x = avg_main_chain_latencies.keys()\n",
    "y1 = avg_main_chain_latencies.values()\n",
    "expected_y1 = (1.0/delta+1.0/proposal_rates)\n",
    "y2 = avg_finalization_latencies.values()\n",
    "expected_y2 = k*(delta+1.0/proposal_rates)\n",
    "y3 = avg_optimistic_confirmation_times.values()\n",
    "expected_y3 = 1.0/proposal_rates\n",
    "\n",
    "plt.xlabel('Block Proposal Rate (blocks/sec)')\n",
    "plt.ylabel('Main Chain Arrival Latency (sec)')\n",
    "plt.title(f'Main Chain Arrival Latency vs. Proposal Rate (k={k}, delta={delta})')\n",
    "plt.grid(True)\n",
    "\n",
    "plt.plot(x, y1, label='observed rate')\n",
    "plt.plot(x, expected_y1, '--', label='expected rate')\n",
    "plt.legend()\n",
    "plt.show()"
   ]
  },
  {
   "cell_type": "code",
   "execution_count": 8,
   "metadata": {},
   "outputs": [
    {
     "data": {
      "image/png": "[encoded data removed]",
      "text/plain": [
       "<Figure size 432x288 with 1 Axes>"
      ]
     },
     "metadata": {
      "needs_background": "light"
     },
     "output_type": "display_data"
    }
   ],
   "source": [
    "plt.xlabel('Block Proposal Rate (blocks/sec)')\n",
    "plt.ylabel('Finalization Latency (sec)')\n",
    "plt.title(f'Finalization Latency vs. Proposal Rate (k={k}, delta={delta})')\n",
    "plt.grid(True)\n",
    "\n",
    "plt.plot(x, y2, label='observed rate')\n",
    "plt.plot(x, expected_y2, '--', label='expected rate')\n",
    "plt.legend()\n",
    "plt.show()"
   ]
  },
  {
   "cell_type": "code",
   "execution_count": 9,
   "metadata": {},
   "outputs": [
    {
     "data": {
      "image/png": "[encoded data removed]",
      "text/plain": [
       "<Figure size 432x288 with 1 Axes>"
      ]
     },
     "metadata": {
      "needs_background": "light"
     },
     "output_type": "display_data"
    }
   ],
   "source": [
    "plt.xlabel('Block Proposal Rate (blocks/sec)')\n",
    "plt.ylabel('Optimistic Confirmation Time (sec)')\n",
    "plt.title(f'Optimistic Confirmation Time vs. Proposal Rate (k={k}, delta={delta})')\n",
    "plt.grid(True)\n",
    "\n",
    "plt.plot(x, y3, label='observed rate')\n",
    "plt.plot(x, expected_y3, '--', label='expected rate')\n",
    "plt.legend()\n",
    "plt.show()"
   ]
  },
  {
   "cell_type": "code",
   "execution_count": 10,
   "metadata": {},
   "outputs": [
    {
     "data": {
      "image/png": "[encoded data removed]",
      "text/plain": [
       "<Figure size 432x288 with 1 Axes>"
      ]
     },
     "metadata": {
      "needs_background": "light"
     },
     "output_type": "display_data"
    }
   ],
   "source": [
    "if show_optimistic_confirmation_histogram:\n",
    "    for rate in hist_data:\n",
    "        n, bins, patches = plt.hist(hist_data[rate], 50, facecolor='green', alpha=0.75)\n",
    "        plt.xlabel(f'Optimistic Confirmation Time (sec)')\n",
    "        plt.ylabel('Frequency')\n",
    "        plt.title(f'Optimistic Confirmation Time Distribution for f={rate}')\n",
    "        plt.grid(True)\n",
    "\n",
    "        plt.show()"
   ]
  },
  {
   "cell_type": "code",
   "execution_count": null,
   "metadata": {},
   "outputs": [],
   "source": []
  }
 ],
 "metadata": {
  "kernelspec": {
   "display_name": "Python 3",
   "language": "python",
   "name": "python3"
  },
  "language_info": {
   "codemirror_mode": {
    "name": "ipython",
    "version": 3
   },
   "file_extension": ".py",
   "mimetype": "text/x-python",
   "name": "python",
   "nbconvert_exporter": "python",
   "pygments_lexer": "ipython3",
   "version": "3.7.0"
  }
 },
 "nbformat": 4,
 "nbformat_minor": 2
}
