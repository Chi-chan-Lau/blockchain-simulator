{
 "cells": [
  {
   "cell_type": "code",
   "execution_count": 5,
   "metadata": {},
   "outputs": [],
   "source": [
    "import pandas as pd\n",
    "import numpy as np\n",
    "\n",
    "blocks_df = pd.read_csv('../logs/blocks.csv')\n",
    "transactions_df = pd.read_csv('../logs/transactions.csv')\n",
    "stats_df = pd.read_csv('../logs/stats.csv')"
   ]
  },
  {
   "cell_type": "code",
   "execution_count": 8,
   "metadata": {},
   "outputs": [
    {
     "name": "stdout",
     "output_type": "stream",
     "text": [
      "  Average network latency for blocks (sec)  2.3333333333333335\n",
      "0    Average network latency for txs (sec)            1.026667\n",
      "1                       Finalization depth            1.000000\n",
      "2                         Number of blocks           94.000000\n",
      "3                        Main chain length           81.000000\n",
      "4                  Number of orphan blocks           13.000000\n",
      "5                Fraction of orphan blocks            0.138298\n"
     ]
    }
   ],
   "source": [
    "print(stats_df)"
   ]
  },
  {
   "cell_type": "code",
   "execution_count": null,
   "metadata": {},
   "outputs": [],
   "source": []
  },
  {
   "cell_type": "code",
   "execution_count": null,
   "metadata": {},
   "outputs": [],
   "source": []
  }
 ],
 "metadata": {
  "kernelspec": {
   "display_name": "Python 3",
   "language": "python",
   "name": "python3"
  },
  "language_info": {
   "codemirror_mode": {
    "name": "ipython",
    "version": 3
   },
   "file_extension": ".py",
   "mimetype": "text/x-python",
   "name": "python",
   "nbconvert_exporter": "python",
   "pygments_lexer": "ipython3",
   "version": "3.7.0"
  }
 },
 "nbformat": 4,
 "nbformat_minor": 2
}
