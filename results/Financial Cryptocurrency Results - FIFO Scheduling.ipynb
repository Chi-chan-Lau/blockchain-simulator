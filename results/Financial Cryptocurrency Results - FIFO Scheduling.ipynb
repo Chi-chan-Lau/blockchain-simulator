{
 "cells": [
  {
   "cell_type": "markdown",
   "metadata": {},
   "source": [
    "## Introduction\n",
    "\n",
    "### Definitions\n",
    "\n",
    "##### Global Blocktree\n",
    "A global tree maintained during the simulation used to determine certain statistics\n",
    "\n",
    "##### Node Tree\n",
    "A Node has a tree structure consisting of tree blocks just like in the Longest Chain Protocol.\n",
    "\n",
    "##### Main Chain\n",
    "On a tree structure, the main chain is defined in this protocol as the Longest Chain from the Genesis block to a leaf block.\n",
    "\n",
    "##### Node Pool\n",
    "A node also has a pool structure consisting of pool blocks. \n",
    "\n",
    "##### Tree Block\n",
    "A block on the global blocktree or in a node's local tree.\n",
    "\n",
    "##### Pool Block\n",
    "A block in a node's local pool. The block may or may not be referenced by the next tree block proposed by the node.\n",
    "\n",
    "##### Finalized\n",
    "A block is considered finalized in two cases:\n",
    "\n",
    "1) If in a tree block - if the block is `k` blocks deep on the main chain\n",
    "2) If in a pool block - if the pool block is referenced by a tree block that is finalized\n",
    "\n",
    "A transaction is considered finalized if it is in a finalized block"
   ]
  },
  {
   "cell_type": "markdown",
   "metadata": {},
   "source": [
    "## Simulation Description\n",
    "\n",
    "We measure multiple metrics to understand a transactions behavior during the simulation. \n",
    "\n",
    "#### Throughput\n",
    "How many of the transactions generated actually get finalized in the simulation? \n",
    "\n",
    "#### Unique Throughput\n",
    "How many of the unique transactions generated actually get finalized in the simulation? \n",
    "\n",
    "#### Pool Block Arrival Latency\n",
    "How long does it take for a transaction to make it into a pool block?\n",
    "\n",
    "#### Pool Block Reference Latency\n",
    "How long does it take for a transaction to make it into a pool block and get referenced?\n",
    "\n",
    "#### Main Chain Arrival Latency\n",
    "How long does it take for a transaction to make it onto the main chain (for both pool blocks and tree blocks)?\n",
    "\n",
    "#### Finalization Latency\n",
    "How long does it take for a transaction to be finalized once it arrives on the main chain?\n"
   ]
  },
  {
   "cell_type": "markdown",
   "metadata": {},
   "source": [
    "### Experimental Parameters"
   ]
  },
  {
   "cell_type": "code",
   "execution_count": 1,
   "metadata": {},
   "outputs": [],
   "source": [
    "import numpy as np, json\n",
    "%matplotlib inline\n",
    "'''\n",
    "num_tests = 2\n",
    "n_trials = 1\n",
    "tree_proposal_rates = np.linspace(0.1, 0.1, num_tests)\n",
    "pool_proposal_rates = np.linspace(4, 5, num_tests)\n",
    "'''\n",
    "# Use these to overwrite and run real tests\n",
    "num_tests = 5\n",
    "n_trials = 3\n",
    "tree_proposal_rates = np.linspace(0.1, 0.1, num_tests)\n",
    "pool_proposal_rates = np.linspace(0.1, 3, num_tests)\n",
    "\n",
    "# Create experimental parameters and write to JSON file\n",
    "\n",
    "params = {'Block tree proposal rate parameter': 0,\n",
    " 'Block pool proposal rate parameter': 0,\n",
    " 'Transaction rate parameter': 0,\n",
    " 'Block size (txs)': 30,\n",
    " 'Duration (sec)': 0,\n",
    " 'Fork choice rule': 'longest-chain-with-pool',\n",
    " 'Transaction scheduling rule': 'FIFO',\n",
    " 'Network model': 'Decker-Wattenhorf',\n",
    " 'Number of adversaries': 1,\n",
    " 'Number of nodes': 10,\n",
    " 'Probability of error in transaction confirmation': 0.1,\n",
    " 'Transaction dataset': 'poisson',\n",
    " 'Logging enabled': True}"
   ]
  },
  {
   "cell_type": "markdown",
   "metadata": {},
   "source": [
    "### Run experiments"
   ]
  },
  {
   "cell_type": "code",
   "execution_count": 2,
   "metadata": {},
   "outputs": [
    {
     "name": "stdout",
     "output_type": "stream",
     "text": [
      "Parameters:\n",
      "{'longest-chain-with-pool': {'Block pool proposal rate parameter': 0.1,\n",
      "                             'Block size (txs)': 30,\n",
      "                             'Block tree proposal rate parameter': 0.1,\n",
      "                             'Duration (sec)': 400,\n",
      "                             'Fork choice rule': 'longest-chain-with-pool',\n",
      "                             'Logging enabled': True,\n",
      "                             'Network model': 'Decker-Wattenhorf',\n",
      "                             'Number of adversaries': 1,\n",
      "                             'Number of nodes': 10,\n",
      "                             'Probability of error in transaction confirmation': 0.1,\n",
      "                             'Transaction dataset': 'poisson',\n",
      "                             'Transaction rate parameter': 5.4,\n",
      "                             'Transaction scheduling rule': 'FIFO'},\n",
      " 'setting-name': 'longest-chain-with-pool'}\n",
      "Parameters:\n",
      "{'longest-chain-with-pool': {'Block pool proposal rate parameter': 0.825,\n",
      "                             'Block size (txs)': 30,\n",
      "                             'Block tree proposal rate parameter': 0.1,\n",
      "                             'Duration (sec)': 400,\n",
      "                             'Fork choice rule': 'longest-chain-with-pool',\n",
      "                             'Logging enabled': True,\n",
      "                             'Network model': 'Decker-Wattenhorf',\n",
      "                             'Number of adversaries': 1,\n",
      "                             'Number of nodes': 10,\n",
      "                             'Probability of error in transaction confirmation': 0.1,\n",
      "                             'Transaction dataset': 'poisson',\n",
      "                             'Transaction rate parameter': 24.974999999999998,\n",
      "                             'Transaction scheduling rule': 'FIFO'},\n",
      " 'setting-name': 'longest-chain-with-pool'}\n",
      "Parameters:\n",
      "{'longest-chain-with-pool': {'Block pool proposal rate parameter': 1.55,\n",
      "                             'Block size (txs)': 30,\n",
      "                             'Block tree proposal rate parameter': 0.1,\n",
      "                             'Duration (sec)': 400,\n",
      "                             'Fork choice rule': 'longest-chain-with-pool',\n",
      "                             'Logging enabled': True,\n",
      "                             'Network model': 'Decker-Wattenhorf',\n",
      "                             'Number of adversaries': 1,\n",
      "                             'Number of nodes': 10,\n",
      "                             'Probability of error in transaction confirmation': 0.1,\n",
      "                             'Transaction dataset': 'poisson',\n",
      "                             'Transaction rate parameter': 44.550000000000004,\n",
      "                             'Transaction scheduling rule': 'FIFO'},\n",
      " 'setting-name': 'longest-chain-with-pool'}\n",
      "Parameters:\n",
      "{'longest-chain-with-pool': {'Block pool proposal rate parameter': 2.275,\n",
      "                             'Block size (txs)': 30,\n",
      "                             'Block tree proposal rate parameter': 0.1,\n",
      "                             'Duration (sec)': 400,\n",
      "                             'Fork choice rule': 'longest-chain-with-pool',\n",
      "                             'Logging enabled': True,\n",
      "                             'Network model': 'Decker-Wattenhorf',\n",
      "                             'Number of adversaries': 1,\n",
      "                             'Number of nodes': 10,\n",
      "                             'Probability of error in transaction confirmation': 0.1,\n",
      "                             'Transaction dataset': 'poisson',\n",
      "                             'Transaction rate parameter': 64.125,\n",
      "                             'Transaction scheduling rule': 'FIFO'},\n",
      " 'setting-name': 'longest-chain-with-pool'}\n",
      "Parameters:\n",
      "{'longest-chain-with-pool': {'Block pool proposal rate parameter': 3.0,\n",
      "                             'Block size (txs)': 30,\n",
      "                             'Block tree proposal rate parameter': 0.1,\n",
      "                             'Duration (sec)': 400,\n",
      "                             'Fork choice rule': 'longest-chain-with-pool',\n",
      "                             'Logging enabled': True,\n",
      "                             'Network model': 'Decker-Wattenhorf',\n",
      "                             'Number of adversaries': 1,\n",
      "                             'Number of nodes': 10,\n",
      "                             'Probability of error in transaction confirmation': 0.1,\n",
      "                             'Transaction dataset': 'poisson',\n",
      "                             'Transaction rate parameter': 83.7,\n",
      "                             'Transaction scheduling rule': 'FIFO'},\n",
      " 'setting-name': 'longest-chain-with-pool'}\n",
      "Throughputs:\n",
      " {(0.1, 0.1): [2.1625, 3.3375, 2.095], (0.1, 0.825): [22.74, 21.185, 21.3375], (0.1, 1.55): [42.4325, 43.195, 41.695], (0.1, 2.275): [61.6975, 61.485, 58.2175], (0.1, 3.0): [77.26, 68.19, 79.0925]}\n",
      "Unique Throughputs:\n",
      " {(0.1, 0.1): [3.7375, 3.7325, 3.8425], (0.1, 0.825): [9.47, 8.025, 7.7125], (0.1, 1.55): [8.575, 7.47, 7.035], (0.1, 2.275): [12.84, 9.4625, 13.0925], (0.1, 3.0): [10.7375, 14.935, 10.79]}\n",
      "Pool Block Arrival Latencies:\n",
      " {(0.1, 0.1): [68.60443545023999, 60.70462051791794, 50.405976970046524], (0.1, 0.825): [117.75922357786085, 141.08539946726563, 138.76358823495562], (0.1, 1.55): [173.37453656051667, 175.4537870426876, 176.87926643703375], (0.1, 2.275): [172.40474191932873, 163.38390835248035, 170.5545660561965], (0.1, 3.0): [198.30476861082713, 184.5988051242103, 212.4451573752016]}\n",
      "Pool Block Reference Latencies:\n",
      " {(0.1, 0.1): [5.516672203188671, 7.83392279996769, 8.45431751050033], (0.1, 0.825): [4.92111356955789, 5.371372687563695, 5.669460824491077], (0.1, 1.55): [5.95170812577907, 7.131484642493983, 6.822443388430108], (0.1, 2.275): [4.987558178720891, 7.4764409234814115, 5.04778800421394], (0.1, 3.0): [6.965889992949663, 4.054535952074162, 6.033118521371467]}\n",
      "Main Chain Arrival Latencies:\n",
      " {(0.1, 0.1): [9.99299022748443, 7.49501880416735, 8.757434158324322], (0.1, 0.825): [4.7311376873649635, 4.942393821262346, 5.6415242350806585], (0.1, 1.55): [5.688682432004262, 7.25253682021811, 6.422321512421832], (0.1, 2.275): [4.979468996279539, 7.49895338519662, 5.075935644381099], (0.1, 3.0): [7.207486219412949, 3.5704760151471375, 6.009487957058274]}\n",
      "Finalization Latencies:\n",
      " {(0.1, 0.1): [19.303032260492408, 21.34815096246202, 20.59742112530746], (0.1, 0.825): [16.847481426205412, 18.52129643622197, 23.065453680925906], (0.1, 1.55): [24.47435213822523, 22.556860729248772, 29.198855941987638], (0.1, 2.275): [20.745033484016922, 26.71251826378854, 16.895306581746908], (0.1, 3.0): [26.51120904597965, 16.559942531970258, 21.546547785788324]}\n",
      "Emptiness:\n",
      " {(0.1, 0.1): [-0.9864864864864865, -0.7525773195876289, -0.26666666666666666], (0.1, 0.825): [-0.6770025839793282, -0.9974683544303797, -0.9044943820224719], (0.1, 1.55): [-0.8230647709320695, -0.9299867899603699, -0.8421052631578947], (0.1, 2.275): [-0.9780941949616648, -0.8328141225337488, -0.9087799315849487], (0.1, 3.0): [-0.945374449339207, -0.9137134052388289, -0.9901440485216073]}\n"
     ]
    }
   ],
   "source": [
    "import os, shutil, pprint, glob, csv, time\n",
    "\n",
    "pp = pprint.PrettyPrinter()\n",
    "os.system('touch longest_chain_with_pool.json')\n",
    "dirname = f'longest_chain_with_pool_' + str(int(time.time()))\n",
    "os.system(f'mkdir {dirname}')\n",
    "os.chdir('..')\n",
    "import metrics\n",
    "\n",
    "throughputs = {}\n",
    "unique_throughputs = {}\n",
    "pool_block_arrival_latencies = {}\n",
    "pool_block_ref_latencies = {}\n",
    "main_chain_arrival_latencies = {}\n",
    "finalization_latencies = {}\n",
    "emptiness = {}\n",
    "\n",
    "for i in range(0, num_tests):\n",
    "    tree_rate = tree_proposal_rates[i]\n",
    "    pool_rate = pool_proposal_rates[i]\n",
    "    params['Block tree proposal rate parameter'] = tree_rate\n",
    "    params['Block pool proposal rate parameter'] = pool_rate\n",
    "    params['Transaction rate parameter'] = 0.9*(tree_rate+pool_rate)*int(params['Block size (txs)'])\n",
    "    params['Duration (sec)'] = 400\n",
    "    d = {}\n",
    "    d['setting-name'] = f'longest-chain-with-pool'\n",
    "    d[f'longest-chain-with-pool'] = params\n",
    "    print('Parameters:')\n",
    "    pp.pprint(d)\n",
    "    with open('results/longest_chain_with_pool.json', 'w+') as outfile:\n",
    "        json.dump(d, outfile)\n",
    "    throughputs[(tree_rate, pool_rate)] = []\n",
    "    unique_throughputs[(tree_rate, pool_rate)] = []\n",
    "    pool_block_arrival_latencies[(tree_rate, pool_rate)] = []\n",
    "    pool_block_ref_latencies[(tree_rate, pool_rate)] = []\n",
    "    main_chain_arrival_latencies[(tree_rate, pool_rate)] = []\n",
    "    finalization_latencies[(tree_rate, pool_rate)] = []\n",
    "    emptiness[(tree_rate, pool_rate)] = []\n",
    "    for trial in range(0, n_trials):\n",
    "        os.system('python3.7 main.py -f results/longest_chain_with_pool.json')\n",
    "        throughput, unique_throughput = metrics.compute_throughputs(filename='results/longest_chain_with_pool.json')\n",
    "        \n",
    "        throughputs[(tree_rate, pool_rate)].append(throughput)\n",
    "        unique_throughputs[(tree_rate, pool_rate)].append(unique_throughput)\n",
    "        \n",
    "        avg_pool_block_arr_latency, avg_pool_block_ref_latency, avg_main_chain_arrival_latency, avg_finalization_latency = metrics.compute_latency()\n",
    "        \n",
    "        pool_block_arrival_latencies[(tree_rate, pool_rate)].append(avg_pool_block_arr_latency)\n",
    "        pool_block_ref_latencies[(tree_rate, pool_rate)].append(avg_pool_block_ref_latency)\n",
    "        main_chain_arrival_latencies[(tree_rate, pool_rate)].append(avg_main_chain_arrival_latency)\n",
    "        finalization_latencies[(tree_rate, pool_rate)].append(avg_finalization_latency)\n",
    "        \n",
    "        _emptiness = metrics.compute_emptiness()\n",
    "        emptiness[(tree_rate, pool_rate)].append(_emptiness)\n",
    "        \n",
    "        nested_dirname = f'logs_{tree_rate}_{pool_rate}'\n",
    "        os.system(f'mkdir results/{dirname}/{nested_dirname}')\n",
    "        os.system(f'cp logs/* results/{dirname}/{nested_dirname}/')\n",
    "    \n",
    "os.chdir('results/')\n",
    "os.remove('longest_chain_with_pool.json')\n",
    "print('Throughputs:\\n', throughputs)\n",
    "print('Unique Throughputs:\\n', unique_throughputs)\n",
    "print('Pool Block Arrival Latencies:\\n', pool_block_arrival_latencies)\n",
    "print('Pool Block Reference Latencies:\\n', pool_block_ref_latencies)\n",
    "print('Main Chain Arrival Latencies:\\n', main_chain_arrival_latencies)\n",
    "print('Finalization Latencies:\\n', finalization_latencies)\n",
    "print('Emptiness:\\n', emptiness)"
   ]
  },
  {
   "cell_type": "markdown",
   "metadata": {},
   "source": [
    "### Compute Averages\n",
    "\n",
    "Average throughput is the number of finalized transactions divided by the duration of the experiment.\n",
    "\n",
    "Average main chain latency is the time for a transaction to be added to the global blocktree - the timestamp the transaction was generated.\n",
    "\n",
    "Average pool block latency is the time for a transaction to be added to a pool block AND referenced by a tree block.\n",
    "\n",
    "Average finalization latency is the time for a transaction to be k blocks deep - to be added to the global blocktree."
   ]
  },
  {
   "cell_type": "code",
   "execution_count": 3,
   "metadata": {},
   "outputs": [
    {
     "name": "stdout",
     "output_type": "stream",
     "text": [
      "{(0.1, 0.1): [2.1625, 3.3375, 2.095], (0.1, 0.825): [22.74, 21.185, 21.3375], (0.1, 1.55): [42.4325, 43.195, 41.695], (0.1, 2.275): [61.6975, 61.485, 58.2175], (0.1, 3.0): [77.26, 68.19, 79.0925]}\n",
      "avg_throughputs_d:\n",
      " {(0.1, 0.1): 2.5316666666666667, (0.1, 0.825): 21.754166666666663, (0.1, 1.55): 42.44083333333333, (0.1, 2.275): 60.46666666666667, (0.1, 3.0): 74.8475}\n"
     ]
    },
    {
     "data": {
      "text/plain": [
       "\"\\nprint('avg_uniq_throughputs_d:\\n', avg_uniq_throughputs_d)\\nprint('avg_pool_block_arr_lat_d:\\n', avg_pool_block_arr_lat_d)\\nprint('avg_pool_block_ref_lat_d:\\n', avg_pool_block_ref_lat_d)\\nprint('avg_mca_lat_d:\\n', avg_mca_lat_d)\\nprint('avg_fin_lat_d:\\n', avg_fin_lat_d)\\nprint('avg_emp_d:\\n', avg_emp_d)\\n\""
      ]
     },
     "execution_count": 3,
     "metadata": {},
     "output_type": "execute_result"
    }
   ],
   "source": [
    "def compute_avg_std_dev(d):\n",
    "    avgs = {}\n",
    "    std_devs = {}\n",
    "    for rate in d:\n",
    "        if len(d[rate])!=0:\n",
    "            avgs[rate] = sum(d[rate])/len(d[rate])\n",
    "            std_devs[rate] = np.std(d[rate])\n",
    "            \n",
    "    return avgs, std_devs\n",
    "\n",
    "print(throughputs)\n",
    "avg_throughputs_d, throughput_sd = compute_avg_std_dev(throughputs)\n",
    "'''\n",
    "avg_uniq_throughputs_d, uniq_throughput_sd = compute_avg_std_dev(unique_throughputs)\n",
    "avg_pool_block_arr_lat_d, pool_block_arr_sd = compute_avg_std_dev(pool_block_arrival_latencies)\n",
    "avg_pool_block_ref_lat_d, pool_block_ref_sd = compute_avg_std_dev(pool_block_ref_latencies)\n",
    "avg_mca_lat_d, mca_lat_sd  = compute_avg_std_dev(main_chain_arrival_latencies)\n",
    "avg_fin_lat_d, fin_lat_sd  = compute_avg_std_dev(finalization_latencies)\n",
    "avg_emp_d, emp_sd = compute_avg_std_dev(emptiness)\n",
    "'''\n",
    "print('avg_throughputs_d:\\n', avg_throughputs_d)\n",
    "'''\n",
    "print('avg_uniq_throughputs_d:\\n', avg_uniq_throughputs_d)\n",
    "print('avg_pool_block_arr_lat_d:\\n', avg_pool_block_arr_lat_d)\n",
    "print('avg_pool_block_ref_lat_d:\\n', avg_pool_block_ref_lat_d)\n",
    "print('avg_mca_lat_d:\\n', avg_mca_lat_d)\n",
    "print('avg_fin_lat_d:\\n', avg_fin_lat_d)\n",
    "print('avg_emp_d:\\n', avg_emp_d)\n",
    "'''"
   ]
  },
  {
   "cell_type": "markdown",
   "metadata": {},
   "source": [
    "### Extract Finalization Depth and Delta for Blocks"
   ]
  },
  {
   "cell_type": "code",
   "execution_count": 4,
   "metadata": {},
   "outputs": [
    {
     "name": "stdout",
     "output_type": "stream",
     "text": [
      "/Users/vishaalagartha/blockchain-simulator/results\n",
      "here\n",
      "here\n",
      "['{\"num_nodes\": 10', ' \"num_adversaries\": 1', ' \"max_block_size\": 30', ' \"tx_error_prob\": 0.1', ' \"fork_choice_rule\": \"longest-chain-with-pool\"', ' \"tree_proposal_rate\": 0.1', ' \"pool_proposal_rate\": 3.0', ' \"transaction_rate\": 83.7', ' \"transaction_schedule\": \"FIFO\"', ' \"dataset\": \"poisson\"', ' \"model\": \"Decker-Wattenhorf\"', ' \"duration\": 400', ' \"logging\": true}']\n",
      "['Time elapsed', '1147.7547941207886']\n",
      "['Average network latency for blocks (sec)', '0.9500000000000001']\n",
      "['Average network latency for txs (sec)', '0.03166666666666667']\n",
      "['Finalization depth', '2']\n",
      "['Number of blocks', '39']\n",
      "['Main chain length', '34']\n",
      "['Fraction of main blocks', '0.8717948717948718']\n",
      "['Expected fraction of main blocks', '0.9132420091324202']\n",
      "['Number of orphan blocks', '5']\n",
      "['Fraction of orphan blocks', '0.1282051282051282']\n",
      "['Expected fraction of orphan blocks', '0.08675799086757992']\n",
      "['Expected arrival rate', '0.09132420091324202']\n",
      "['Expected finalization latency', '21.9']\n"
     ]
    },
    {
     "data": {
      "text/plain": [
       "\"\\nexp_pool_block_arr_lat = np.empty(x.shape)\\n\\nfor i in range(0, x.shape[0]):\\n    tx_rate = 0.9*pool_proposal_rates[i]*int(params['Block size (txs)'])\\n    if False: #tx_rate>avg_uniq_throughputs[i]:\\n        exp_pool_block_arr_lat[i] = 200\\n    else:\\n        exp_pool_block_arr_lat[i] = 1/(f_pool[i]+f_tree[i]) + delta\\n        \\nexp_pool_block_ref_lat = 1/f_tree + delta\\nexp_mca_lat = np.full(x.shape, delta)\\nexp_fin_lat = k*(delta+1.0/f_tree) #k/(f_tree/(1+f_tree*delta_blocks))\\n# forking in the tree causes an attentuation factor\\n# for every block generated on the main chain, we have f_tree*delta_blocks being generated\\n# and wasted\\nexp_emp = params['Block size (txs)']*f_pool\\n\""
      ]
     },
     "execution_count": 4,
     "metadata": {},
     "output_type": "execute_result"
    }
   ],
   "source": [
    "import csv\n",
    "print(os.getcwd())\n",
    "if os.path.isfile('../logs/stats.csv'):\n",
    "    print('here')\n",
    "    with open('../logs/stats.csv', newline='') as csvfile:\n",
    "        print('here')\n",
    "        reader = csv.reader(csvfile, delimiter=',')\n",
    "        for row in reader:\n",
    "            print(row)\n",
    "            if row[0]=='Finalization depth':\n",
    "                k = int(row[1])\n",
    "            elif row[0]=='Average network latency for blocks (sec)':\n",
    "                delta_blocks = float(row[1])\n",
    "            elif row[0]=='Average network latency for txs (sec)':\n",
    "                delta_txs = float(row[1])\n",
    "                \n",
    "delta = delta_blocks+delta_txs                \n",
    "f_tree = tree_proposal_rates\n",
    "f_pool = pool_proposal_rates\n",
    "x = pool_proposal_rates\n",
    "\n",
    "avg_throughputs = np.array(list(avg_throughputs_d.values()))\n",
    "'''\n",
    "avg_uniq_throughputs = np.array(list(avg_uniq_throughputs_d.values()))\n",
    "avg_pool_block_arr_lat = np.array(list(avg_pool_block_arr_lat_d.values()))\n",
    "avg_pool_block_ref_lat = np.array(list(avg_pool_block_ref_lat_d.values()))\n",
    "\n",
    "avg_mca_lat = np.array(list(avg_mca_lat_d.values()))\n",
    "avg_fin_lat = np.array(list(avg_fin_lat_d.values()))\n",
    "avg_emp = np.array(list(avg_emp_d.values()))\n",
    "print(avg_throughputs, avg_uniq_throughputs)\n",
    "'''\n",
    "exp_throughput = 0.9*(f_tree+f_pool)*params['Block size (txs)']\n",
    "'''\n",
    "exp_uniq_throughput_avg_throughput = avg_throughputs/(1+(f_tree+f_pool)*delta)\n",
    "exp_uniq_throughput_exp_throughput = exp_throughput/(1+(f_tree+f_pool)*delta)\n",
    "'''\n",
    "'''\n",
    "exp_pool_block_arr_lat = np.empty(x.shape)\n",
    "\n",
    "for i in range(0, x.shape[0]):\n",
    "    tx_rate = 0.9*pool_proposal_rates[i]*int(params['Block size (txs)'])\n",
    "    if False: #tx_rate>avg_uniq_throughputs[i]:\n",
    "        exp_pool_block_arr_lat[i] = 200\n",
    "    else:\n",
    "        exp_pool_block_arr_lat[i] = 1/(f_pool[i]+f_tree[i]) + delta\n",
    "        \n",
    "exp_pool_block_ref_lat = 1/f_tree + delta\n",
    "exp_mca_lat = np.full(x.shape, delta)\n",
    "exp_fin_lat = k*(delta+1.0/f_tree) #k/(f_tree/(1+f_tree*delta_blocks))\n",
    "# forking in the tree causes an attentuation factor\n",
    "# for every block generated on the main chain, we have f_tree*delta_blocks being generated\n",
    "# and wasted\n",
    "exp_emp = params['Block size (txs)']*f_pool\n",
    "'''"
   ]
  },
  {
   "cell_type": "markdown",
   "metadata": {},
   "source": [
    "## Plotting the results"
   ]
  },
  {
   "cell_type": "code",
   "execution_count": 5,
   "metadata": {
    "scrolled": true
   },
   "outputs": [
    {
     "name": "stdout",
     "output_type": "stream",
     "text": [
      "[ 2.53166667 21.75416667 42.44083333 60.46666667 74.8475    ] [ 5.4   24.975 44.55  64.125 83.7  ]\n"
     ]
    },
    {
     "data": {
      "image/png": "[encoded data removed]",
      "text/plain": [
       "<Figure size 432x288 with 1 Axes>"
      ]
     },
     "metadata": {
      "needs_background": "light"
     },
     "output_type": "display_data"
    }
   ],
   "source": [
    "import matplotlib.pylab as plt\n",
    "\n",
    "\n",
    "def plot_results(title, xlabel, ylabel, x, y, std_dev, y_exp):\n",
    "    sd = np.array(list(std_dev.values()))\n",
    "    plt.xlabel(xlabel)\n",
    "    plt.ylabel(ylabel)\n",
    "    plt.title(title)\n",
    "    plt.grid(True)\n",
    "    \n",
    "    plt.plot(x, y, label='observed rate')\n",
    "    plt.plot(x, y_exp, label='expected rate')\n",
    "    plt.errorbar(x, y, sd, capsize=5, linestyle='None', marker='*')\n",
    "    plt.show()\n",
    "\n",
    "print(avg_throughputs, exp_throughput)\n",
    "plot_results(\n",
    "f'Transaction Throughput via Avg Throughputs vs. Pool Block Proposal Rate (k={k}, delta={delta})',\n",
    "'Pool Block Proposal Rate (blocks/sec)',\n",
    "'Throughput (txs/sec)',\n",
    "x,\n",
    "avg_throughputs,\n",
    "throughput_sd,\n",
    "exp_throughput\n",
    ")"
   ]
  },
  {
   "cell_type": "markdown",
   "metadata": {},
   "source": [
    "Note how the expected throughput is slightly greater than the computed throughput. This descrepancy is caused by the finalization depth of blocks. The expected throughput is computed based on a main chain where **all** blocks on the main chain are finalized, but this is not the case in a temporary simulation. Hence, the computed throughput is slightly lower."
   ]
  },
  {
   "cell_type": "code",
   "execution_count": 6,
   "metadata": {},
   "outputs": [
    {
     "data": {
      "text/plain": [
       "\"\\nplot_results(\\nf'Unique Transaction Throughput via Avg Throughput vs. Pool Block Proposal Rate (k={k}, delta={delta})',\\n'Pool Block Proposal Rate (blocks/sec)',\\n'Unique Throughput (txs/sec)',\\nx,\\navg_uniq_throughputs,\\nuniq_throughput_sd,\\nexp_uniq_throughput_avg_throughput\\n)\\n\\nplot_results(\\nf'Unique Transaction Throughput via Expected Throughput vs. Pool Block Proposal Rate (k={k}, delta={delta})',\\n'Pool Block Proposal Rate (blocks/sec)',\\n'Unique Throughput (txs/sec)',\\nx,\\navg_uniq_throughputs,\\nuniq_throughput_sd,\\nexp_uniq_throughput_exp_throughput\\n)\\n\""
      ]
     },
     "execution_count": 6,
     "metadata": {},
     "output_type": "execute_result"
    }
   ],
   "source": [
    "'''\n",
    "plot_results(\n",
    "f'Unique Transaction Throughput via Avg Throughput vs. Pool Block Proposal Rate (k={k}, delta={delta})',\n",
    "'Pool Block Proposal Rate (blocks/sec)',\n",
    "'Unique Throughput (txs/sec)',\n",
    "x,\n",
    "avg_uniq_throughputs,\n",
    "uniq_throughput_sd,\n",
    "exp_uniq_throughput_avg_throughput\n",
    ")\n",
    "\n",
    "plot_results(\n",
    "f'Unique Transaction Throughput via Expected Throughput vs. Pool Block Proposal Rate (k={k}, delta={delta})',\n",
    "'Pool Block Proposal Rate (blocks/sec)',\n",
    "'Unique Throughput (txs/sec)',\n",
    "x,\n",
    "avg_uniq_throughputs,\n",
    "uniq_throughput_sd,\n",
    "exp_uniq_throughput_exp_throughput\n",
    ")\n",
    "'''"
   ]
  },
  {
   "cell_type": "code",
   "execution_count": 7,
   "metadata": {},
   "outputs": [
    {
     "data": {
      "text/plain": [
       "\"\\nplot_results(\\nf'Pool Block Arrival Latency vs. Pool Block Proposal Rate (k={k}, delta={delta})',\\n'Pool Block Proposal Rate (blocks/sec)',\\n'Pool Block Arrival Latency (sec)',\\nx,\\navg_pool_block_arr_lat,\\npool_block_arr_sd,\\nexp_pool_block_arr_lat\\n)\\n\""
      ]
     },
     "execution_count": 7,
     "metadata": {},
     "output_type": "execute_result"
    }
   ],
   "source": [
    "'''\n",
    "plot_results(\n",
    "f'Pool Block Arrival Latency vs. Pool Block Proposal Rate (k={k}, delta={delta})',\n",
    "'Pool Block Proposal Rate (blocks/sec)',\n",
    "'Pool Block Arrival Latency (sec)',\n",
    "x,\n",
    "avg_pool_block_arr_lat,\n",
    "pool_block_arr_sd,\n",
    "exp_pool_block_arr_lat\n",
    ")\n",
    "'''"
   ]
  },
  {
   "cell_type": "code",
   "execution_count": 8,
   "metadata": {},
   "outputs": [
    {
     "data": {
      "text/plain": [
       "\"\\nplot_results(\\nf'Pool Block Reference Latency vs. Pool Block Proposal Rate (k={k}, delta={delta})',\\n'Pool Block Proposal Rate (blocks/sec)',\\n'Pool Block Reference Latency (sec)',\\nx,\\navg_pool_block_ref_lat,\\npool_block_ref_sd,\\nexp_pool_block_ref_lat\\n)\\n\""
      ]
     },
     "execution_count": 8,
     "metadata": {},
     "output_type": "execute_result"
    }
   ],
   "source": [
    "'''\n",
    "plot_results(\n",
    "f'Pool Block Reference Latency vs. Pool Block Proposal Rate (k={k}, delta={delta})',\n",
    "'Pool Block Proposal Rate (blocks/sec)',\n",
    "'Pool Block Reference Latency (sec)',\n",
    "x,\n",
    "avg_pool_block_ref_lat,\n",
    "pool_block_ref_sd,\n",
    "exp_pool_block_ref_lat\n",
    ")\n",
    "'''"
   ]
  },
  {
   "cell_type": "code",
   "execution_count": 9,
   "metadata": {},
   "outputs": [
    {
     "data": {
      "text/plain": [
       "\"\\nplot_results(\\nf'Main Chain Arrival Latency vs. Pool Block Proposal Rate (k={k}, delta={delta})',\\n'Pool Block Proposal Rate (blocks/sec)',\\n'Main Chain Arrival Latency (sec)',\\nx,\\navg_mca_lat,\\nmca_lat_sd,\\nexp_mca_lat\\n)\\n\""
      ]
     },
     "execution_count": 9,
     "metadata": {},
     "output_type": "execute_result"
    }
   ],
   "source": [
    "'''\n",
    "plot_results(\n",
    "f'Main Chain Arrival Latency vs. Pool Block Proposal Rate (k={k}, delta={delta})',\n",
    "'Pool Block Proposal Rate (blocks/sec)',\n",
    "'Main Chain Arrival Latency (sec)',\n",
    "x,\n",
    "avg_mca_lat,\n",
    "mca_lat_sd,\n",
    "exp_mca_lat\n",
    ")\n",
    "'''"
   ]
  },
  {
   "cell_type": "code",
   "execution_count": 10,
   "metadata": {},
   "outputs": [
    {
     "data": {
      "text/plain": [
       "\"\\nplot_results(\\nf'Finalization Latency vs. Pool Block Proposal Rate (k={k}, delta={delta})',\\n'Pool Block Proposal Rate (blocks/sec)',\\n'Finalization Latency (sec)',\\nx,\\navg_fin_lat,\\nfin_lat_sd,\\nexp_fin_lat\\n)\\n\""
      ]
     },
     "execution_count": 10,
     "metadata": {},
     "output_type": "execute_result"
    }
   ],
   "source": [
    "'''\n",
    "plot_results(\n",
    "f'Finalization Latency vs. Pool Block Proposal Rate (k={k}, delta={delta})',\n",
    "'Pool Block Proposal Rate (blocks/sec)',\n",
    "'Finalization Latency (sec)',\n",
    "x,\n",
    "avg_fin_lat,\n",
    "fin_lat_sd,\n",
    "exp_fin_lat\n",
    ")\n",
    "'''"
   ]
  },
  {
   "cell_type": "code",
   "execution_count": 11,
   "metadata": {},
   "outputs": [
    {
     "data": {
      "text/plain": [
       "\"\\nplot_results(\\nf'Emptiness vs. Pool Block Proposal Rate (k={k}, delta={delta})',\\n'Pool Block Proposal Rate (blocks/sec)',\\n'Emptiness (txs)',\\nx,\\navg_emp,\\nemp_sd,\\nexp_emp\\n)\\n\""
      ]
     },
     "execution_count": 11,
     "metadata": {},
     "output_type": "execute_result"
    }
   ],
   "source": [
    "'''\n",
    "plot_results(\n",
    "f'Emptiness vs. Pool Block Proposal Rate (k={k}, delta={delta})',\n",
    "'Pool Block Proposal Rate (blocks/sec)',\n",
    "'Emptiness (txs)',\n",
    "x,\n",
    "avg_emp,\n",
    "emp_sd,\n",
    "exp_emp\n",
    ")\n",
    "'''"
   ]
  },
  {
   "cell_type": "markdown",
   "metadata": {},
   "source": [
    "### Results\n",
    "\n",
    "We can look through the logs of the blocks to understand the process a block undergoes:"
   ]
  },
  {
   "cell_type": "code",
   "execution_count": 12,
   "metadata": {},
   "outputs": [
    {
     "name": "stdout",
     "output_type": "stream",
     "text": [
      "id,parent id,proposal timestamp,pool block timestamp,finalization timestamp,depth,finalized,emptiness,pool blocks,transactions\n",
      "\n",
      "Genesis,None,0,None,38.6978947369803,0,True,0,,\n",
      "\n",
      "f446d,Genesis,16.398076263355854,None,40.54261717726019,1,True,-1,3bdc7;dae2e;12139;fce2d;c6cb4;eb28c;250c3;31b4b;55a8c;11dde;c0bcf;b2780;fecef;5578d;c49e3;1e5f1;9b7b0;0cda0;bbd89;39551;f7051;b2ab4;93fff;cbe05;b0d0f;8e9e6;3f079;31ee1;eef36;21c31;50ed6;e042b;972b8;3f4c5;81cb1;b2324;72833;69ec7;b02f8;51216;f40c2;207ee;10ee2,037e6aa1a0;c051746561;3a5f08f16b;20eee4a256;d3e8bbb30f;18c11c3f19;dae77dfb4f;5bb1af750a;abdcc3639b;a9562cd209;3ac8752243;4063fdf0a6;8460370d4f;d6d07ee9b2;34edc1b0eb;7a9c5a1ecd;aa82d5bd1a;d02c57126f;1e0c6991c9;c3a9c10fa6;2076c9fe6b;9985af7f64;5af23ea61f;bcb8784d12;08784abbcd;2fc9567fff;afd0fa9fb5;2ca92272ce;561a885d85;8452a1864f;799bc8e40b\n",
      "\n",
      "3bdc7,None,0.7824936685985426,,40.54261717726019,NA,True,11,NA,d3da6d33d4;c764cb03c9;6822e47b9f;037e6aa1a0;0c509305ea;b40746c309;f864f4f6d8;08dfe4723c;4790827036;122bfa26fe;0d3a434fa5;c051746561;4508693f79;d0b33c7c48;bfa818d03f;3a5f08f16b;c0d89b2cb1;7e2991dc21;8c9d5e4b20\n",
      "\n",
      "dae2e,None,1.8499488895071272,,40.54261717726019,NA,True,-1,NA,122bfa26fe;8c9d5e4b20;13272c543a;4afb7adfbb;4c20de427f;a4967d927c;a2712d13e9;fb4a3ecbd1;f3bf1c8c2e;abe2572bfe;9932a108bd;6822e47b9f;037e6aa1a0;0c509305ea;b40746c309;f864f4f6d8;08dfe4723c;4790827036;0d3a434fa5;c051746561;4508693f79;d0b33c7c48;d3da6d33d4;c764cb03c9;bfa818d03f;3a5f08f16b;c0d89b2cb1;7e2991dc21;3d9709158a;e6488f20eb;6ee2251996\n",
      "\n",
      "12139,None,1.907348558950472,,40.54261717726019,NA,True,-1,NA,7e2991dc21;3d9709158a;6ee2251996;b6fc9fcd8d;b4614e740a;f06991d2f0;1b050b20ae;79d666c34c;fe7198251c;557f2e7a2f;e36787c2c7;474b2c07c5;6822e47b9f;037e6aa1a0;0c509305ea;b40746c309;f864f4f6d8;08dfe4723c;4790827036;122bfa26fe;0d3a434fa5;c051746561;4508693f79;d0b33c7c48;d3da6d33d4;c764cb03c9;bfa818d03f;3a5f08f16b;c0d89b2cb1;8c9d5e4b20;13272c543a\n",
      "\n",
      "fce2d,None,2.4592416092148417,,40.54261717726019,NA,True,-1,NA,451d02cb5a;9a48feb232;0bb004b1a3;b11cc0be9a;a8540fe596;e31770e394;9bde88d172;d0b37cab5d;6822e47b9f;037e6aa1a0;0c509305ea;b40746c309;f864f4f6d8;08dfe4723c;4790827036;122bfa26fe;0d3a434fa5;c051746561;4508693f79;d0b33c7c48;d3da6d33d4;c764cb03c9;bfa818d03f;3a5f08f16b;c0d89b2cb1;7e2991dc21;8c9d5e4b20;13272c543a;3d9709158a;e6488f20eb;6ee2251996\n",
      "\n",
      "c6cb4,None,3.230121592009004,,40.54261717726019,NA,True,-1,NA,08dfe4723c;70a12a575c;ef57158da1;f079d085e9;f11d946910;4c69930060;deb5b54933;842078c014;7910f79282;fa39c1d76d;fa8afb4cd7;e61907f21d;9a3056fc51;f064086576;3914b754a7;4d1a5281b3;6822e47b9f;037e6aa1a0;0c509305ea;b40746c309;f864f4f6d8;4790827036;122bfa26fe;0d3a434fa5;c051746561;4508693f79;d0b33c7c48;d3da6d33d4;c764cb03c9;bfa818d03f;3a5f08f16b\n",
      "\n",
      "eb28c,None,4.10533444543915,,40.54261717726019,NA,True,-1,NA,037e6aa1a0;c051746561;3a5f08f16b;20eee4a256;d3e8bbb30f;18c11c3f19;dae77dfb4f;5bb1af750a;abdcc3639b;a9562cd209;3ac8752243;4063fdf0a6;8460370d4f;d6d07ee9b2;34edc1b0eb;7a9c5a1ecd;aa82d5bd1a;d02c57126f;1e0c6991c9;c3a9c10fa6;2076c9fe6b;9985af7f64;5af23ea61f;bcb8784d12;08784abbcd;2fc9567fff;afd0fa9fb5;2ca92272ce;561a885d85;8452a1864f;799bc8e40b\n",
      "\n",
      "250c3,None,4.130871467208429,,40.54261717726019,NA,True,-1,NA,e6488f20eb;9728a25911;a5de28654a;f02cb256a4;4200cd6866;c56991f631;e5d1698876;211b64ef08;9809e2d522;9337ed1043;8b3eb64d71;04797b9ccc;0a6f7e6a75;23ffad4d7d;1cd5d323c2;4805cfce93;de8845e1e0;afd0636f0b;1b7a54efe2;4bf56676a3;1d8af384aa;ff6898cc76;fd5f9de5a7;1429d50e66;509e18a76d;adce36f658;efd39ed612;d8f13f62a8;06b2533e38;6822e47b9f;037e6aa1a0\n",
      "\n"
     ]
    }
   ],
   "source": [
    "with open('../logs/blocks.csv') as f:\n",
    "    for line in f.readlines()[:10]:\n",
    "        print(line)"
   ]
  },
  {
   "cell_type": "markdown",
   "metadata": {},
   "source": [
    "Additionally, we can visualize the results to see the global blocktree. In the following image, blue nodes indicate tree blocks on the main chain and yellow blocks indicate tree blocks\n",
    "off the main chain (i.e. 'orphan blocks').\n",
    "![title](../logs/blocktree.png)"
   ]
  },
  {
   "cell_type": "markdown",
   "metadata": {},
   "source": [
    "We can look through the logs to understand the process a transaction undergoes. A transaction can\n",
    "\n",
    "1) Be a pool or a tree transaction\n",
    "2) Be on the main chain or not on the main chain\n",
    "3) Be finalized or not finalized\n",
    "\n",
    "Hence, we will analyze each of the following cases:\n",
    "1) A pool transaction on the main chain that is finalized\n",
    "2) A pool transaction not on the main chain\n",
    "3) A tree transaction on the main chain that is finalized\n",
    "4) A tree transaction on the main chain that is not finalized\n",
    "5) A tree transaction not on the main chain"
   ]
  },
  {
   "cell_type": "code",
   "execution_count": 13,
   "metadata": {},
   "outputs": [
    {
     "name": "stdout",
     "output_type": "stream",
     "text": [
      "OrderedDict([('id', '6822e47b9f'), ('source node', '7'), ('generated timestamp', '0.030064122456812153'), ('pool block arrival timestamp', '16.803871507529074'), ('pool block reference timestamp', '38.6978947369803'), ('main chain arrival timestamp', '38.6978947369803'), ('finalization timestamps', '40.54261717726019;40.54261717726019;40.54261717726019;40.54261717726019;40.54261717726019;40.54261717726019;40.54261717726019;40.54261717726019;40.54261717726019;40.54261717726019;40.54261717726019;40.54261717726019;40.54261717726019;40.54261717726019;40.54261717726019;40.54261717726019;40.54261717726019;40.54261717726019;40.54261717726019;40.54261717726019;40.54261717726019;40.54261717726019;40.54261717726019;40.54261717726019;40.54261717726019;40.54261717726019;40.54261717726019;40.54261717726019;40.54261717726019;40.54261717726019;40.54261717726019;52.26913539557582;52.26913539557582')])\n",
      "OrderedDict([('id', '037e6aa1a0'), ('source node', '0'), ('generated timestamp', '0.05689360620168051'), ('pool block arrival timestamp', '16.803871507529074'), ('pool block reference timestamp', '38.6978947369803'), ('main chain arrival timestamp', '38.6978947369803'), ('finalization timestamps', '40.54261717726019;40.54261717726019;40.54261717726019;40.54261717726019;40.54261717726019;40.54261717726019;40.54261717726019;40.54261717726019;40.54261717726019;40.54261717726019;40.54261717726019;40.54261717726019;40.54261717726019;40.54261717726019;40.54261717726019;40.54261717726019;40.54261717726019;40.54261717726019;40.54261717726019;40.54261717726019;40.54261717726019;40.54261717726019;40.54261717726019;40.54261717726019;40.54261717726019;40.54261717726019;40.54261717726019;40.54261717726019;40.54261717726019;40.54261717726019;40.54261717726019;40.54261717726019;40.54261717726019;40.54261717726019;40.54261717726019;40.54261717726019;40.54261717726019;40.54261717726019;40.54261717726019;52.26913539557582;52.26913539557582')])\n",
      "OrderedDict([('id', '0c509305ea'), ('source node', '6'), ('generated timestamp', '0.07788517917505919'), ('pool block arrival timestamp', '16.684023697220592'), ('pool block reference timestamp', '38.6978947369803'), ('main chain arrival timestamp', '38.6978947369803'), ('finalization timestamps', '40.54261717726019;40.54261717726019;40.54261717726019;40.54261717726019;40.54261717726019;40.54261717726019;40.54261717726019;40.54261717726019;40.54261717726019;40.54261717726019;40.54261717726019;40.54261717726019;40.54261717726019;40.54261717726019;40.54261717726019;40.54261717726019;40.54261717726019;40.54261717726019;40.54261717726019;40.54261717726019;40.54261717726019;40.54261717726019;40.54261717726019;40.54261717726019;40.54261717726019;40.54261717726019;40.54261717726019;52.26913539557582')])\n",
      "OrderedDict([('id', 'b40746c309'), ('source node', '7'), ('generated timestamp', '0.10197002772906232'), ('pool block arrival timestamp', '16.66009045956875'), ('pool block reference timestamp', '16.398076263355854'), ('main chain arrival timestamp', '16.398076263355854'), ('finalization timestamps', '40.54261717726019;40.54261717726019;40.54261717726019;40.54261717726019;40.54261717726019;40.54261717726019;40.54261717726019;40.54261717726019;40.54261717726019;40.54261717726019;40.54261717726019;40.54261717726019;40.54261717726019;40.54261717726019;40.54261717726019;40.54261717726019;40.54261717726019;40.54261717726019;40.54261717726019;40.54261717726019;40.54261717726019;40.54261717726019;40.54261717726019;40.54261717726019;40.54261717726019;40.54261717726019;40.54261717726019')])\n",
      "OrderedDict([('id', 'f864f4f6d8'), ('source node', '8'), ('generated timestamp', '0.10453181977469811'), ('pool block arrival timestamp', '17.008336951943605'), ('pool block reference timestamp', '38.6978947369803'), ('main chain arrival timestamp', '38.6978947369803'), ('finalization timestamps', '40.54261717726019;40.54261717726019;40.54261717726019;40.54261717726019;40.54261717726019;40.54261717726019;40.54261717726019;40.54261717726019;40.54261717726019;40.54261717726019;40.54261717726019;40.54261717726019;40.54261717726019;40.54261717726019;40.54261717726019;40.54261717726019;40.54261717726019;40.54261717726019;40.54261717726019;40.54261717726019;40.54261717726019;40.54261717726019;40.54261717726019;40.54261717726019;40.54261717726019;40.54261717726019;52.26913539557582')])\n",
      "OrderedDict([('id', '08dfe4723c'), ('source node', '2'), ('generated timestamp', '0.0930473330265574'), ('pool block arrival timestamp', '16.333443303182925'), ('pool block reference timestamp', '16.398076263355854'), ('main chain arrival timestamp', '16.398076263355854'), ('finalization timestamps', '40.54261717726019;40.54261717726019;40.54261717726019;40.54261717726019;40.54261717726019;40.54261717726019;40.54261717726019;40.54261717726019;40.54261717726019;40.54261717726019;40.54261717726019;40.54261717726019;40.54261717726019;40.54261717726019;40.54261717726019;40.54261717726019;40.54261717726019;40.54261717726019;40.54261717726019;40.54261717726019;40.54261717726019;40.54261717726019;40.54261717726019;40.54261717726019;40.54261717726019')])\n",
      "OrderedDict([('id', '4790827036'), ('source node', '7'), ('generated timestamp', '0.11418850809953329'), ('pool block arrival timestamp', '16.66009045956875'), ('pool block reference timestamp', '16.398076263355854'), ('main chain arrival timestamp', '16.398076263355854'), ('finalization timestamps', '40.54261717726019;40.54261717726019;40.54261717726019;40.54261717726019;40.54261717726019;40.54261717726019;40.54261717726019;40.54261717726019;40.54261717726019;40.54261717726019;40.54261717726019;40.54261717726019;40.54261717726019;40.54261717726019;40.54261717726019;40.54261717726019;40.54261717726019;40.54261717726019;40.54261717726019;40.54261717726019;40.54261717726019;40.54261717726019;40.54261717726019;40.54261717726019;40.54261717726019;40.54261717726019;40.54261717726019')])\n",
      "OrderedDict([('id', '122bfa26fe'), ('source node', '3'), ('generated timestamp', '0.19155738815810974'), ('pool block arrival timestamp', '16.333443303182925'), ('pool block reference timestamp', '16.398076263355854'), ('main chain arrival timestamp', '16.398076263355854'), ('finalization timestamps', '40.54261717726019;40.54261717726019;40.54261717726019;40.54261717726019;40.54261717726019;40.54261717726019;40.54261717726019;40.54261717726019;40.54261717726019;40.54261717726019;40.54261717726019;40.54261717726019;40.54261717726019;40.54261717726019;40.54261717726019;40.54261717726019;40.54261717726019;40.54261717726019;40.54261717726019;40.54261717726019;40.54261717726019;40.54261717726019;40.54261717726019;40.54261717726019;40.54261717726019')])\n",
      "OrderedDict([('id', '0d3a434fa5'), ('source node', '6'), ('generated timestamp', '0.13091237002935202'), ('pool block arrival timestamp', '16.684023697220592'), ('pool block reference timestamp', '38.6978947369803'), ('main chain arrival timestamp', '38.6978947369803'), ('finalization timestamps', '40.54261717726019;40.54261717726019;40.54261717726019;40.54261717726019;40.54261717726019;40.54261717726019;40.54261717726019;40.54261717726019;40.54261717726019;40.54261717726019;40.54261717726019;40.54261717726019;40.54261717726019;40.54261717726019;40.54261717726019;40.54261717726019;40.54261717726019;40.54261717726019;40.54261717726019;40.54261717726019;40.54261717726019;40.54261717726019;40.54261717726019;40.54261717726019;40.54261717726019;40.54261717726019;40.54261717726019;52.26913539557582')])\n",
      "OrderedDict([('id', 'c051746561'), ('source node', '0'), ('generated timestamp', '0.2037310104090766'), ('pool block arrival timestamp', '16.333443303182925'), ('pool block reference timestamp', '16.398076263355854'), ('main chain arrival timestamp', '16.398076263355854'), ('finalization timestamps', '40.54261717726019;40.54261717726019;40.54261717726019;40.54261717726019;40.54261717726019;40.54261717726019;40.54261717726019;40.54261717726019;40.54261717726019;40.54261717726019;40.54261717726019;40.54261717726019;40.54261717726019;40.54261717726019;40.54261717726019;40.54261717726019;40.54261717726019;40.54261717726019;40.54261717726019;40.54261717726019;40.54261717726019;40.54261717726019;40.54261717726019;40.54261717726019;40.54261717726019;40.54261717726019;40.54261717726019;40.54261717726019;40.54261717726019;40.54261717726019;40.54261717726019;40.54261717726019;40.54261717726019;40.54261717726019;40.54261717726019')])\n"
     ]
    }
   ],
   "source": [
    "import csv\n",
    "\n",
    "finalized_main_chain_pool_tx = None\n",
    "not_on_main_chain_pool_tx = None\n",
    "finalized_main_chain_tree_tx = None\n",
    "unfinalized_main_chain_tree_tx = None\n",
    "not_on_main_chain_tree_tx = None\n",
    "\n",
    "with open('../logs/transactions.csv', newline='') as csvfile:\n",
    "    reader = csv.DictReader(csvfile)\n",
    "    row_count = 0\n",
    "    for row in reader:\n",
    "        if row['finalization timestamps']!='None'and row['main chain arrival timestamp']!='None' and row['pool block reference timestamp']!='None' and finalized_main_chain_pool_tx==None:\n",
    "            finalized_main_chain_pool_tx = row\n",
    "        elif row['main chain arrival timestamp']=='None' and row['pool block reference timestamp']!='None' and not_on_main_chain_pool_tx==None:\n",
    "            not_on_main_chain_pool_tx = row\n",
    "        elif row['finalization timestamps']!='None' and row['main chain arrival timestamp']!='None' and row['pool block reference timestamp']=='None' and finalized_main_chain_tree_tx==None:\n",
    "            finalized_main_chain_tree_tx = row\n",
    "        elif row['finalization timestamps']=='None' and row['main chain arrival timestamp']!='None' and row['pool block reference timestamp']=='None' and unfinalized_main_chain_tree_tx==None:\n",
    "            unfinalized_main_chain_tree_tx = row\n",
    "        elif row['main chain arrival timestamp']=='None' and row['pool block reference timestamp']=='None' and not_on_main_chain_tree_tx==None: \n",
    "            not_on_main_chain_tree_tx = row\n",
    "        if row_count<10:\n",
    "            print(row)\n",
    "        row_count+=1"
   ]
  },
  {
   "cell_type": "code",
   "execution_count": 14,
   "metadata": {},
   "outputs": [
    {
     "name": "stdout",
     "output_type": "stream",
     "text": [
      "Finalized Pool Transaction:\n",
      "OrderedDict([('id', '6822e47b9f'), ('source node', '7'), ('generated timestamp', '0.030064122456812153'), ('pool block arrival timestamp', '16.803871507529074'), ('pool block reference timestamp', '38.6978947369803'), ('main chain arrival timestamp', '38.6978947369803'), ('finalization timestamps', '40.54261717726019;40.54261717726019;40.54261717726019;40.54261717726019;40.54261717726019;40.54261717726019;40.54261717726019;40.54261717726019;40.54261717726019;40.54261717726019;40.54261717726019;40.54261717726019;40.54261717726019;40.54261717726019;40.54261717726019;40.54261717726019;40.54261717726019;40.54261717726019;40.54261717726019;40.54261717726019;40.54261717726019;40.54261717726019;40.54261717726019;40.54261717726019;40.54261717726019;40.54261717726019;40.54261717726019;40.54261717726019;40.54261717726019;40.54261717726019;40.54261717726019;52.26913539557582;52.26913539557582')])\n",
      "Pool Transaction Not on Main Chain:\n",
      "OrderedDict([('id', '2d65a4b2e4'), ('source node', '4'), ('generated timestamp', '54.05918390008604'), ('pool block arrival timestamp', '388.8683859317357'), ('pool block reference timestamp', '400'), ('main chain arrival timestamp', 'None'), ('finalization timestamps', 'None')])\n",
      "Finalized Tree Transaction:\n",
      "OrderedDict([('id', '9afe23ec45'), ('source node', '4'), ('generated timestamp', '4.057021682353211'), ('pool block arrival timestamp', 'None'), ('pool block reference timestamp', 'None'), ('main chain arrival timestamp', '40.54261717726019'), ('finalization timestamps', '56.5176592454012')])\n",
      "Unfinalized Tree Transaction:\n",
      "None\n",
      "Tree Transaction Not on Main Chain:\n",
      "OrderedDict([('id', 'ff8239839f'), ('source node', '0'), ('generated timestamp', '8.614426137568838'), ('pool block arrival timestamp', '56.45307474313506'), ('pool block reference timestamp', 'None'), ('main chain arrival timestamp', 'None'), ('finalization timestamps', 'None')])\n"
     ]
    }
   ],
   "source": [
    "print(f'Finalized Pool Transaction:\\n{finalized_main_chain_pool_tx}')\n",
    "print(f'Pool Transaction Not on Main Chain:\\n{not_on_main_chain_pool_tx}')\n",
    "print(f'Finalized Tree Transaction:\\n{finalized_main_chain_tree_tx}')\n",
    "print(f'Unfinalized Tree Transaction:\\n{unfinalized_main_chain_tree_tx}')\n",
    "print(f'Tree Transaction Not on Main Chain:\\n{not_on_main_chain_tree_tx}')\n"
   ]
  },
  {
   "cell_type": "markdown",
   "metadata": {},
   "source": [
    "Let's consider the first case of the finalized pool transaction. If we look into `blocks.csv`,\n",
    "we should be able to see that the transaction's main chain arrival timestamp and pool block timestamp\n",
    "should be equivalent to a tree block's proposal time. Additionally, the finalization time should be\n",
    "the tree block's finalization time."
   ]
  },
  {
   "cell_type": "code",
   "execution_count": 15,
   "metadata": {},
   "outputs": [
    {
     "name": "stdout",
     "output_type": "stream",
     "text": [
      "OrderedDict([('id', '3bdc7'), ('parent id', 'None'), ('proposal timestamp', '0.7824936685985426'), ('pool block timestamp', ''), ('finalization timestamp', '40.54261717726019'), ('depth', 'NA'), ('finalized', 'True'), ('emptiness', '11'), ('pool blocks', 'NA'), ('transactions', 'd3da6d33d4;c764cb03c9;6822e47b9f;037e6aa1a0;0c509305ea;b40746c309;f864f4f6d8;08dfe4723c;4790827036;122bfa26fe;0d3a434fa5;c051746561;4508693f79;d0b33c7c48;bfa818d03f;3a5f08f16b;c0d89b2cb1;7e2991dc21;8c9d5e4b20')])\n"
     ]
    }
   ],
   "source": [
    "with open('../logs/blocks.csv', newline='') as csvfile:\n",
    "    reader = csv.DictReader(csvfile)\n",
    "    if finalized_main_chain_pool_tx!=None:\n",
    "        for row in reader:\n",
    "            if finalized_main_chain_pool_tx['id'] in row['transactions']:\n",
    "                print(row)\n",
    "                break"
   ]
  },
  {
   "cell_type": "markdown",
   "metadata": {},
   "source": [
    "Now let's consider the second case of the pool transaction not on the main chain.\n",
    "We should see that it belongs to a block that is not finalized and not on the main chain, indicated\n",
    "by the fact the block's finalization timestamp and main chain arrival timestamp will both be `'None'`. However, the pool block timestamp should be equal to the block's proposal timestamp."
   ]
  },
  {
   "cell_type": "code",
   "execution_count": 16,
   "metadata": {},
   "outputs": [
    {
     "name": "stdout",
     "output_type": "stream",
     "text": [
      "OrderedDict([('id', '500e5'), ('parent id', '3fbd7'), ('proposal timestamp', '387.9258914785497'), ('pool block timestamp', 'None'), ('finalization timestamp', 'None'), ('depth', '32'), ('finalized', 'False'), ('emptiness', '-1'), ('pool blocks', '7defe;e08da;400e2'), ('transactions', '2d65a4b2e4;6af784d6a0;d0053975b9;1fdba2e3a8;7a610e0536;c7faf85c43;99a7dd1e03;9a6ac00b46;f0f0d67e5b;3513f79e9d;8ffcc41114;0f45d16830;b60da1feb7;312bcf2c8a;ca65cd9355;87a967cf59;b32e7af458;5579905e9c;a4a972e01c;60a48b955b;c40b86e3af;4f59cfc6a2;526c7a929c;d71df97048;19b268323f;79d75afba6;6a4da1449f;45d7c3106d;1f33e08509;72b43e2be0;c47960c9f9')])\n"
     ]
    }
   ],
   "source": [
    "with open('../logs/blocks.csv', newline='') as csvfile:\n",
    "    reader = csv.DictReader(csvfile)\n",
    "    if not_on_main_chain_pool_tx!=None:\n",
    "        for row in reader:\n",
    "            if not_on_main_chain_pool_tx['id'] in row['transactions']:\n",
    "                print(row)\n",
    "                break"
   ]
  },
  {
   "cell_type": "markdown",
   "metadata": {},
   "source": [
    "The third case is the tree finalized tree transaction on the main chain. We should see that it\n",
    "belongs to a block with equal finalization and main chain arrival timestamps, but a pool block timestamp equal to `'None'`."
   ]
  },
  {
   "cell_type": "code",
   "execution_count": 17,
   "metadata": {},
   "outputs": [
    {
     "name": "stdout",
     "output_type": "stream",
     "text": [
      "OrderedDict([('id', '1126b'), ('parent id', 'd8861'), ('proposal timestamp', '40.54261717726019'), ('pool block timestamp', 'None'), ('finalization timestamp', '56.5176592454012'), ('depth', '3'), ('finalized', 'True'), ('emptiness', '-1'), ('pool blocks', 'ce9a0;00383'), ('transactions', '48496baf7d;4434f6793a;d8c771e1a9;8e987fc226;ec11b732e3;0d75627ab8;9b78cf1752;0a34d62c0b;a5eb64cdd4;e5d551d42b;f01e20d653;29276b75e6;90e142cfaa;7252de8ff5;f5ed8a5367;6b07855a3c;4ed3fa443c;f115f79ec3;431549d0bf;8317832aa0;f1db8ede67;2b35fa9344;292fc47d24;9ad24da093;6cba30bf34;5773d89c48;dd9dcc0993;686f1398bc;0d48f02262;9afe23ec45;8c89bb6b4b')])\n"
     ]
    }
   ],
   "source": [
    "with open('../logs/blocks.csv', newline='') as csvfile:\n",
    "    reader = csv.DictReader(csvfile)\n",
    "    if finalized_main_chain_tree_tx!=None:\n",
    "        for row in reader:\n",
    "            if finalized_main_chain_tree_tx['id'] in row['transactions']:\n",
    "                print(row)\n",
    "                break"
   ]
  },
  {
   "cell_type": "markdown",
   "metadata": {},
   "source": [
    "The fourth case is the unfinalized tree transaction on the main chain. We should see that it\n",
    "belongs to a block with equal main chain arrival timestamp, but pool block and finalization\n",
    "timestamps equal to `'None'`."
   ]
  },
  {
   "cell_type": "code",
   "execution_count": 18,
   "metadata": {},
   "outputs": [],
   "source": [
    "with open('../logs/blocks.csv', newline='') as csvfile:\n",
    "    reader = csv.DictReader(csvfile)\n",
    "    if unfinalized_main_chain_tree_tx!=None:\n",
    "        for row in reader:\n",
    "            if unfinalized_main_chain_tree_tx['id'] in row['transactions']:\n",
    "                print(row)\n",
    "                break"
   ]
  },
  {
   "cell_type": "markdown",
   "metadata": {},
   "source": [
    "The final case is the tree transaction not on the main chain. The block is not used for any statistics and is not logged."
   ]
  },
  {
   "cell_type": "code",
   "execution_count": null,
   "metadata": {},
   "outputs": [],
   "source": []
  },
  {
   "cell_type": "code",
   "execution_count": null,
   "metadata": {},
   "outputs": [],
   "source": []
  }
 ],
 "metadata": {
  "kernelspec": {
   "display_name": "Python 3",
   "language": "python",
   "name": "python3"
  },
  "language_info": {
   "codemirror_mode": {
    "name": "ipython",
    "version": 3
   },
   "file_extension": ".py",
   "mimetype": "text/x-python",
   "name": "python",
   "nbconvert_exporter": "python",
   "pygments_lexer": "ipython3",
   "version": "3.7.0"
  }
 },
 "nbformat": 4,
 "nbformat_minor": 2
}
