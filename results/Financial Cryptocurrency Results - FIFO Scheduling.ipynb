{
 "cells": [
  {
   "cell_type": "markdown",
   "metadata": {},
   "source": [
    "## Introduction\n",
    "\n",
    "### Definitions\n",
    "\n",
    "##### Global Blocktree\n",
    "A global tree maintained during the simulation used to determine certain statistics\n",
    "\n",
    "##### Node Tree\n",
    "A Node has a tree structure consisting of tree blocks just like in the Longest Chain Protocol.\n",
    "\n",
    "##### Main Chain\n",
    "On a tree structure, the main chain is defined in this protocol as the Longest Chain from the Genesis block to a leaf block.\n",
    "\n",
    "##### Node Pool\n",
    "A node also has a pool structure consisting of pool blocks. \n",
    "\n",
    "##### Tree Block\n",
    "A block on the global blocktree or in a node's local tree.\n",
    "\n",
    "##### Pool Block\n",
    "A block in a node's local pool. The block may or may not be referenced by the next tree block proposed by the node.\n",
    "\n",
    "##### Finalized\n",
    "A block is considered finalized in two cases:\n",
    "\n",
    "1) If in a tree block - if the block is `k` blocks deep on the main chain\n",
    "2) If in a pool block - if the pool block is referenced by a tree block that is finalized\n",
    "\n",
    "A transaction is considered finalized if it is in a finalized block"
   ]
  },
  {
   "cell_type": "markdown",
   "metadata": {},
   "source": [
    "## Simulation Description\n",
    "\n",
    "We measure multiple metrics to understand a transactions behavior during the simulation. \n",
    "\n",
    "#### Throughput\n",
    "How many of the transactions generated actually get finalized in the simulation? \n",
    "\n",
    "#### Pool Block Arrival Latency\n",
    "How long does it take for a transaction to make it into a pool block and get referenced?\n",
    "\n",
    "#### Main Chain Arrival Latency\n",
    "How long does it take for a transaction to make it onto the main chain?\n",
    "\n",
    "#### Finalization Latency\n",
    "How long does it take for a transaction to be finalized once it arrives on the main chain?\n"
   ]
  },
  {
   "cell_type": "markdown",
   "metadata": {},
   "source": [
    "### Experimental Parameters"
   ]
  },
  {
   "cell_type": "code",
   "execution_count": 1,
   "metadata": {},
   "outputs": [],
   "source": [
    "import numpy as np\n",
    "%matplotlib inline\n",
    "\n",
    "num_tests = 1\n",
    "\n",
    "tree_proposal_rates = np.linspace(0.1, 0.1, num_tests)\n",
    "pool_proposal_rates = np.linspace(0.1, 0.2, num_tests)\n",
    "n_trials = 1\n",
    "import json\n",
    "\n",
    "# Create experimental parameters and write to JSON file\n",
    "\n",
    "params = {'Block tree proposal rate parameter': 0,\n",
    " 'Block pool proposal rate parameter': 0,\n",
    " 'Transaction rate parameter': 0,\n",
    " 'Block size (txs)': 50,\n",
    " 'Duration (sec)': 0,\n",
    " 'Fork choice rule': 'longest-chain-with-pool',\n",
    " 'Transaction scheduling rule': 'FIFO',\n",
    " 'Network model': 'Decker-Wattenhorf',\n",
    " 'Number of adversaries': 1,\n",
    " 'Number of nodes': 10,\n",
    " 'Probability of error in transaction confirmation': 0.1,\n",
    " 'Transaction dataset': 'poisson',\n",
    " 'Logging enabled': True}"
   ]
  },
  {
   "cell_type": "markdown",
   "metadata": {},
   "source": [
    "### Run experiments"
   ]
  },
  {
   "cell_type": "code",
   "execution_count": 2,
   "metadata": {},
   "outputs": [
    {
     "name": "stdout",
     "output_type": "stream",
     "text": [
      "Parameters:\n",
      "{'longest-chain-with-pool': {'Block pool proposal rate parameter': 0.1,\n",
      "                             'Block size (txs)': 50,\n",
      "                             'Block tree proposal rate parameter': 0.1,\n",
      "                             'Duration (sec)': 600,\n",
      "                             'Fork choice rule': 'longest-chain-with-pool',\n",
      "                             'Logging enabled': True,\n",
      "                             'Network model': 'Decker-Wattenhorf',\n",
      "                             'Number of adversaries': 1,\n",
      "                             'Number of nodes': 10,\n",
      "                             'Probability of error in transaction confirmation': 0.1,\n",
      "                             'Transaction dataset': 'poisson',\n",
      "                             'Transaction rate parameter': 5.0,\n",
      "                             'Transaction scheduling rule': 'FIFO'},\n",
      " 'setting-name': 'longest-chain-with-pool'}\n",
      "Throughputs:\n",
      " {(0.1, 0.1): [2.423]}\n",
      "Unique Throughputs:\n",
      " {(0.1, 0.1): [1.104]}\n",
      "Pool Block Arrival Latencies:\n",
      " {(0.1, 0.1): [48.4879025573864]}\n",
      "Pool Block Reference Latencies:\n",
      " {(0.1, 0.1): [60.26791182638138]}\n",
      "Main Chain Arrival Latencies:\n",
      " {(0.1, 0.1): [55.427159043263316]}\n",
      "Finalization Latencies:\n",
      " {(0.1, 0.1): [40.8209202309667]}\n"
     ]
    }
   ],
   "source": [
    "import os, shutil, pprint, glob, csv\n",
    "\n",
    "pp = pprint.PrettyPrinter()\n",
    "os.system('touch longest_chain_with_pool.json')\n",
    "os.chdir('..')\n",
    "\n",
    "import metrics\n",
    "\n",
    "throughputs = {}\n",
    "unique_throughputs = {}\n",
    "pool_block_arrival_latencies = {}\n",
    "pool_block_ref_latencies = {}\n",
    "main_chain_arrival_latencies = {}\n",
    "finalization_latencies = {}\n",
    "hist_data = {}\n",
    "\n",
    "for i in range(0, num_tests):\n",
    "    tree_rate = tree_proposal_rates[i]\n",
    "    pool_rate = pool_proposal_rates[i]\n",
    "    params['Block tree proposal rate parameter'] = tree_rate\n",
    "    params['Block pool proposal rate parameter'] = pool_rate\n",
    "    params['Transaction rate parameter'] = pool_rate*int(params['Block size (txs)'])\n",
    "    params['Duration (sec)'] = 600\n",
    "    d = {}\n",
    "    d['setting-name'] = f'longest-chain-with-pool'\n",
    "    d[f'longest-chain-with-pool'] = params\n",
    "    print('Parameters:')\n",
    "    pp.pprint(d)\n",
    "    with open('results/longest_chain_with_pool.json', 'w+') as outfile:\n",
    "        json.dump(d, outfile)\n",
    "    throughputs[(tree_rate, pool_rate)] = []\n",
    "    unique_throughputs[(tree_rate, pool_rate)] = []\n",
    "    pool_block_arrival_latencies[(tree_rate, pool_rate)] = []\n",
    "    pool_block_ref_latencies[(tree_rate, pool_rate)] = []\n",
    "    main_chain_arrival_latencies[(tree_rate, pool_rate)] = []\n",
    "    finalization_latencies[(tree_rate, pool_rate)] = []\n",
    "    for trial in range(0, n_trials):\n",
    "        os.system('python3 main.py -f results/longest_chain_with_pool.json')\n",
    "        throughput, unique_throughput = metrics.compute_throughputs()\n",
    "        \n",
    "        throughputs[(tree_rate, pool_rate)].append(throughput)\n",
    "        unique_throughputs[(tree_rate, pool_rate)].append(unique_throughput)\n",
    "        \n",
    "        avg_pool_block_arr_latency, avg_pool_block_ref_latency, avg_main_chain_arrival_latency, avg_finalization_latency = metrics.compute_latency()\n",
    "        \n",
    "        pool_block_arrival_latencies[(tree_rate, pool_rate)].append(avg_pool_block_arr_latency)\n",
    "        pool_block_ref_latencies[(tree_rate, pool_rate)].append(avg_pool_block_ref_latency)\n",
    "        main_chain_arrival_latencies[(tree_rate, pool_rate)].append(avg_main_chain_arrival_latency)\n",
    "        finalization_latencies[(tree_rate, pool_rate)].append(avg_finalization_latency)\n",
    "    \n",
    "os.chdir('results/')\n",
    "os.remove('longest_chain_with_pool.json')\n",
    "print('Throughputs:\\n', throughputs)\n",
    "print('Unique Throughputs:\\n', unique_throughputs)\n",
    "print('Pool Block Arrival Latencies:\\n', pool_block_arrival_latencies)\n",
    "print('Pool Block Reference Latencies:\\n', pool_block_ref_latencies)\n",
    "print('Main Chain Arrival Latencies:\\n', main_chain_arrival_latencies)\n",
    "print('Finalization Latencies:\\n', finalization_latencies)"
   ]
  },
  {
   "cell_type": "markdown",
   "metadata": {},
   "source": [
    "### Compute Averages\n",
    "\n",
    "Average throughput is the number of finalized transactions divided by the duration of the experiment.\n",
    "\n",
    "Average main chain latency is the time for a transaction to be added to the global blocktree - the timestamp the transaction was generated.\n",
    "\n",
    "Average pool block latency is the time for a transaction to be added to a pool block AND referenced by a tree block.\n",
    "\n",
    "Average finalization latency is the time for a transaction to be k blocks deep - to be added to the global blocktree."
   ]
  },
  {
   "cell_type": "code",
   "execution_count": 3,
   "metadata": {},
   "outputs": [
    {
     "name": "stdout",
     "output_type": "stream",
     "text": [
      "Average Throughputs: {(0.1, 0.1): 2.423}\n",
      "Average Unique Throughputs: {(0.1, 0.1): 1.104}\n",
      "Average Pool Block Arrival Latencies: {(0.1, 0.1): 48.4879025573864}\n",
      "Average Pool Block Reference Latencies: {(0.1, 0.1): 60.26791182638138}\n",
      "Average Main Chain Arrival Latency: {(0.1, 0.1): 55.427159043263316}\n",
      "Average Finalization Latency: {(0.1, 0.1): 40.8209202309667}\n"
     ]
    }
   ],
   "source": [
    "avg_throughputs = {}\n",
    "for rate in throughputs:\n",
    "    avg_throughputs[rate] = sum(throughputs[rate])/len(throughputs[rate])\n",
    "\n",
    "print(\"Average Throughputs:\", avg_throughputs)\n",
    "\n",
    "avg_uniq_throughputs = {}\n",
    "for rate in unique_throughputs:\n",
    "    avg_uniq_throughputs[rate] = sum(unique_throughputs[rate])/len(unique_throughputs[rate])\n",
    "\n",
    "print(\"Average Unique Throughputs:\", avg_uniq_throughputs)\n",
    "\n",
    "avg_pool_block_arrival_latencies = {}\n",
    "for rate in pool_block_arrival_latencies:\n",
    "    avg_pool_block_arrival_latencies[rate] = sum(pool_block_arrival_latencies[rate])/len(pool_block_arrival_latencies[rate])\n",
    "\n",
    "print(\"Average Pool Block Arrival Latencies:\", avg_pool_block_arrival_latencies)\n",
    "    \n",
    "avg_pool_block_ref_latencies = {}\n",
    "for rate in pool_block_ref_latencies:\n",
    "    avg_pool_block_ref_latencies[rate] = sum(pool_block_ref_latencies[rate])/len(pool_block_ref_latencies[rate])\n",
    "\n",
    "print(\"Average Pool Block Reference Latencies:\", avg_pool_block_ref_latencies)    \n",
    "        \n",
    "avg_main_chain_latencies = {}\n",
    "for rate in main_chain_arrival_latencies:\n",
    "    avg_main_chain_latencies[rate] = sum(main_chain_arrival_latencies[rate])/len(main_chain_arrival_latencies[rate])\n",
    "\n",
    "print(\"Average Main Chain Arrival Latency:\", avg_main_chain_latencies)\n",
    "\n",
    "avg_finalization_latencies = {}\n",
    "for rate in finalization_latencies:\n",
    "    avg_finalization_latencies[rate] = sum(finalization_latencies[rate])/len(finalization_latencies[rate])\n",
    "    \n",
    "print(\"Average Finalization Latency:\", avg_finalization_latencies)"
   ]
  },
  {
   "cell_type": "markdown",
   "metadata": {},
   "source": [
    "### Extract Finalization Depth and Delta for Blocks"
   ]
  },
  {
   "cell_type": "code",
   "execution_count": 4,
   "metadata": {},
   "outputs": [],
   "source": [
    "import csv\n",
    "with open('../logs/stats.csv', newline='') as csvfile:\n",
    "    reader = csv.reader(csvfile, delimiter=',')\n",
    "    for row in reader:\n",
    "        if row[0]=='Finalization depth':\n",
    "            k = int(row[1])\n",
    "        elif row[0]=='Average network latency for blocks (sec)':\n",
    "            delta = float(row[1])"
   ]
  },
  {
   "cell_type": "markdown",
   "metadata": {},
   "source": [
    "### Plotting the results"
   ]
  },
  {
   "cell_type": "code",
   "execution_count": 5,
   "metadata": {},
   "outputs": [],
   "source": [
    "import matplotlib.pylab as plt\n",
    "x = [key[1] for key in avg_main_chain_latencies.keys()]\n",
    "y1 = avg_throughputs.values()\n",
    "y2 = avg_uniq_throughputs.values()\n",
    "y3 = avg_pool_block_arrival_latencies.values()\n",
    "y4 = avg_pool_block_ref_latencies.values()\n",
    "y5 = avg_main_chain_latencies.values()\n",
    "y6 = avg_finalization_latencies.values()"
   ]
  },
  {
   "cell_type": "code",
   "execution_count": 6,
   "metadata": {},
   "outputs": [
    {
     "data": {
      "image/png": "[encoded data removed]",
      "text/plain": [
       "<Figure size 432x288 with 1 Axes>"
      ]
     },
     "metadata": {
      "needs_background": "light"
     },
     "output_type": "display_data"
    }
   ],
   "source": [
    "plt.xlabel('Pool Block Proposal Rate (blocks/sec)')\n",
    "plt.ylabel('Throughput (txs/sec)')\n",
    "plt.title(f'Transaction Throughput vs. Pool Block Proposal Rate (k={k}, delta={delta})')\n",
    "plt.grid(True)\n",
    "\n",
    "plt.plot(x, y1, label='observed rate')\n",
    "plt.legend()\n",
    "plt.show()"
   ]
  },
  {
   "cell_type": "code",
   "execution_count": 7,
   "metadata": {},
   "outputs": [
    {
     "data": {
      "image/png": "[encoded data removed]",
      "text/plain": [
       "<Figure size 432x288 with 1 Axes>"
      ]
     },
     "metadata": {
      "needs_background": "light"
     },
     "output_type": "display_data"
    }
   ],
   "source": [
    "plt.xlabel('Pool Block Proposal Rate (blocks/sec)')\n",
    "plt.ylabel('Unique Throughput (txs/sec)')\n",
    "plt.title(f'Unique Transaction Throughput vs. Pool Block Proposal Rate (k={k}, delta={delta})')\n",
    "plt.grid(True)\n",
    "\n",
    "plt.plot(x, y2, label='observed rate')\n",
    "plt.legend()\n",
    "plt.show()"
   ]
  },
  {
   "cell_type": "code",
   "execution_count": 8,
   "metadata": {},
   "outputs": [
    {
     "data": {
      "image/png": "[encoded data removed]",
      "text/plain": [
       "<Figure size 432x288 with 1 Axes>"
      ]
     },
     "metadata": {
      "needs_background": "light"
     },
     "output_type": "display_data"
    }
   ],
   "source": [
    "plt.xlabel('Pool Block Proposal Rate (blocks/sec)')\n",
    "plt.ylabel('Pool Block Arrival Latency (sec)')\n",
    "plt.title(f'Pool Block Arrival Latency vs. Pool Block Proposal Rate (k={k}, delta={delta})')\n",
    "plt.grid(True)\n",
    "\n",
    "plt.plot(x, y3, label='observed rate')\n",
    "plt.legend()\n",
    "plt.show()"
   ]
  },
  {
   "cell_type": "code",
   "execution_count": 9,
   "metadata": {},
   "outputs": [
    {
     "data": {
      "image/png": "[encoded data removed]",
      "text/plain": [
       "<Figure size 432x288 with 1 Axes>"
      ]
     },
     "metadata": {
      "needs_background": "light"
     },
     "output_type": "display_data"
    }
   ],
   "source": [
    "plt.xlabel('Pool Block Proposal Rate (blocks/sec)')\n",
    "plt.ylabel('Pool Block Reference Latency (sec)')\n",
    "plt.title(f'Pool Block Reference Latency vs. Pool Block Proposal Rate (k={k}, delta={delta})')\n",
    "plt.grid(True)\n",
    "\n",
    "plt.plot(x, y4, label='observed rate')\n",
    "plt.legend()\n",
    "plt.show()"
   ]
  },
  {
   "cell_type": "code",
   "execution_count": 10,
   "metadata": {},
   "outputs": [
    {
     "data": {
      "image/png": "[encoded data removed]",
      "text/plain": [
       "<Figure size 432x288 with 1 Axes>"
      ]
     },
     "metadata": {
      "needs_background": "light"
     },
     "output_type": "display_data"
    }
   ],
   "source": [
    "plt.xlabel('Pool Block Proposal Rate (blocks/sec)')\n",
    "plt.ylabel('Main Chain Arrival Latency (sec)')\n",
    "plt.title(f'Main Chain Arrival Latency vs. Pool Block Proposal Rate (k={k}, delta={delta})')\n",
    "plt.grid(True)\n",
    "\n",
    "plt.plot(x, y5, label='observed rate')\n",
    "plt.legend()\n",
    "plt.show()"
   ]
  },
  {
   "cell_type": "code",
   "execution_count": 11,
   "metadata": {},
   "outputs": [
    {
     "data": {
      "image/png": "[encoded data removed]",
      "text/plain": [
       "<Figure size 432x288 with 1 Axes>"
      ]
     },
     "metadata": {
      "needs_background": "light"
     },
     "output_type": "display_data"
    }
   ],
   "source": [
    "plt.xlabel('Pool Block Proposal Rate (blocks/sec)')\n",
    "plt.ylabel('Finalization Latency (sec)')\n",
    "plt.title(f'Finalization Latency vs. Pool Block Proposal Rate (k={k}, delta={delta})')\n",
    "plt.grid(True)\n",
    "plt.plot(x, y6, label='observed rate')\n",
    "plt.legend()\n",
    "plt.show()"
   ]
  },
  {
   "cell_type": "markdown",
   "metadata": {},
   "source": [
    "### Results\n",
    "\n",
    "We can look through the logs of the blocks to understand the process a block undergoes:"
   ]
  },
  {
   "cell_type": "code",
   "execution_count": 12,
   "metadata": {},
   "outputs": [
    {
     "name": "stdout",
     "output_type": "stream",
     "text": [
      "id,parent id,proposal timestamp,pool block timestamp,finalization timestamp,depth,finalized,transactions\n",
      "\n",
      "Genesis,None,0,None,50.19655760646296,0,True,\n",
      "\n",
      "71aa8,Genesis,14.516354411364066,None,54.506008065621884,1,True,81b8f4cff5;7e564c36c4;e01328b4cb\n",
      "\n",
      "804be,71aa8,38.47225260611451,None,95.60365967537935,2,True,555610a1c9;772c6a0522;47c109eea0;a40d363ab9;15912eba54;85c62bfe53;99c38fc64c;39854adb25;7514ec5cbb;a22d88b959;4ce2a465c1;6fac578d24;8b1672c259;7b679fc6fc;95ad5ec69c;e3380d2108;9b6f271695;e85dbc8d0c;14e6615e17;f5144bce3c;fcd9246419;5d94393692;173f924596;93c5448a99;a650db868f;c9a2e91ac4;06c5f04dce;6fe957e3a4;6ad03c7dcd;b61fad58d4;9e3ed60771;33cf43c876;5968690f09;74eb78f582;b988ae70e3;1fd530d88d;938024f9b9;cbfce670fd;df37bfa911;42b3a1fa9b;1e063afb6e;d3c8a6c98c;0b02083f32;914a93a955;b859407ec3;5d11f46f60;cfacc36026;7405198f95;142a154258;3113bf9a06;f4d9829af6\n",
      "\n",
      "13085,None,19.21639607089116,,95.60365967537935,NA,True,8b1672c259;6ad03c7dcd;74eb78f582;df37bfa911;6fac578d24;7b679fc6fc;95ad5ec69c;e3380d2108;9b6f271695;e85dbc8d0c;14e6615e17;f5144bce3c;fcd9246419;5d94393692;173f924596;93c5448a99;a650db868f;c9a2e91ac4;06c5f04dce;6fe957e3a4;b61fad58d4;9e3ed60771;33cf43c876;555610a1c9\n",
      "\n",
      "306ce,None,21.590293217150606,,95.60365967537935,NA,True,6fe957e3a4;5968690f09;42b3a1fa9b;46de1c4b2c\n",
      "\n",
      "e3f0a,None,37.7053818206631,,95.60365967537935,NA,True,f5144bce3c;173f924596;06c5f04dce;142a154258;eb25899b8c;6fac578d24;8b1672c259;7b679fc6fc;95ad5ec69c;e3380d2108;9b6f271695;e85dbc8d0c;14e6615e17;fcd9246419;5d94393692;93c5448a99;a650db868f;c9a2e91ac4;6fe957e3a4;6ad03c7dcd;b61fad58d4;9e3ed60771;33cf43c876;555610a1c9;5968690f09;74eb78f582;b988ae70e3;1fd530d88d;938024f9b9;cbfce670fd;df37bfa911;42b3a1fa9b;1e063afb6e;d3c8a6c98c;0b02083f32;914a93a955;b859407ec3;5d11f46f60;cfacc36026;7405198f95;3113bf9a06;f4d9829af6;46de1c4b2c;f8773777ff;772c6a0522;b560829deb;2ae7018ee4;a282afe2bc;b24d6c8ca1;acd297b95a;47c109eea0\n",
      "\n",
      "f62fd,71aa8,41.0677171535262,None,None,2,False,a650db868f;c9a2e91ac4;b859407ec3;f4d9829af6;b560829deb;522d510ec4;9511c0549e;4474e048d8;96e476e9cd;86382dc8f7;7291b0a289;134129f04e;fc0ee73b4e;3444ccc05e;6ab6a57850\n",
      "\n",
      "13085,None,19.21639607089116,,None,NA,False,8b1672c259;6ad03c7dcd;74eb78f582;df37bfa911;6fac578d24;7b679fc6fc;95ad5ec69c;e3380d2108;9b6f271695;e85dbc8d0c;14e6615e17;f5144bce3c;fcd9246419;5d94393692;173f924596;93c5448a99;a650db868f;c9a2e91ac4;06c5f04dce;6fe957e3a4;b61fad58d4;9e3ed60771;33cf43c876;555610a1c9\n",
      "\n",
      "306ce,None,21.590293217150606,,None,NA,False,6fe957e3a4;5968690f09;42b3a1fa9b;46de1c4b2c\n",
      "\n"
     ]
    }
   ],
   "source": [
    "with open('../logs/blocks.csv') as f:\n",
    "    for line in f.readlines()[:10]:\n",
    "        print(line)"
   ]
  },
  {
   "cell_type": "markdown",
   "metadata": {},
   "source": [
    "Additionally, we can visualize the results to see the global blocktree. In the following image, blue nodes indicate tree blocks on the main chain and yellow blocks indicate tree blocks\n",
    "off the main chain (i.e. 'orphan blocks').\n",
    "![title](../logs/blocktree.png)"
   ]
  },
  {
   "cell_type": "markdown",
   "metadata": {},
   "source": [
    "We can look through the logs to understand the process a transaction undergoes. A transaction can\n",
    "\n",
    "1) Be a pool or a tree transaction\n",
    "2) Be on the main chain or not on the main chain\n",
    "3) Be finalized or not finalized\n",
    "\n",
    "Hence, we will analyze each of the following cases:\n",
    "1) A pool transaction on the main chain that is finalized\n",
    "2) A pool transaction not on the main chain\n",
    "3) A tree transaction on the main chain that is finalized\n",
    "4) A tree transaction on the main chain that is not finalized\n",
    "5) A tree transaction not on the main chain"
   ]
  },
  {
   "cell_type": "code",
   "execution_count": 13,
   "metadata": {},
   "outputs": [
    {
     "name": "stdout",
     "output_type": "stream",
     "text": [
      "OrderedDict([('id', '00261cb0e9'), ('source node', '6'), ('generated timestamp', '1.6819573629106486'), ('pool block arrival timestamp', '14.242095205105837'), ('pool block reference timestamp', 'None'), ('main chain arrival timestamp', 'None'), ('finalization timestamps', 'None')])\n",
      "OrderedDict([('id', '170bcd6641'), ('source node', '6'), ('generated timestamp', '0.9249048883777258'), ('pool block arrival timestamp', '14.242095205105837'), ('pool block reference timestamp', 'None'), ('main chain arrival timestamp', 'None'), ('finalization timestamps', 'None')])\n",
      "OrderedDict([('id', '81b8f4cff5'), ('source node', '8'), ('generated timestamp', '3.174691494391272'), ('pool block arrival timestamp', '14.242095205105837'), ('pool block reference timestamp', 'None'), ('main chain arrival timestamp', '14.516354411364066'), ('finalization timestamps', '54.506008065621884')])\n",
      "OrderedDict([('id', '1fe7cf477a'), ('source node', '4'), ('generated timestamp', '3.7988662913780593'), ('pool block arrival timestamp', '14.242095205105837'), ('pool block reference timestamp', 'None'), ('main chain arrival timestamp', 'None'), ('finalization timestamps', 'None')])\n",
      "OrderedDict([('id', '7e564c36c4'), ('source node', '8'), ('generated timestamp', '2.0980039176421323'), ('pool block arrival timestamp', '14.242095205105837'), ('pool block reference timestamp', 'None'), ('main chain arrival timestamp', '14.516354411364066'), ('finalization timestamps', '54.506008065621884')])\n",
      "OrderedDict([('id', 'e01328b4cb'), ('source node', '8'), ('generated timestamp', '2.0717890971605017'), ('pool block arrival timestamp', '14.242095205105837'), ('pool block reference timestamp', 'None'), ('main chain arrival timestamp', '14.516354411364066'), ('finalization timestamps', '54.506008065621884')])\n",
      "OrderedDict([('id', 'ac78715310'), ('source node', '6'), ('generated timestamp', '4.112090038557079'), ('pool block arrival timestamp', '14.242095205105837'), ('pool block reference timestamp', 'None'), ('main chain arrival timestamp', 'None'), ('finalization timestamps', 'None')])\n",
      "OrderedDict([('id', '983f2ec06c'), ('source node', '4'), ('generated timestamp', '3.221418313255027'), ('pool block arrival timestamp', '14.242095205105837'), ('pool block reference timestamp', 'None'), ('main chain arrival timestamp', 'None'), ('finalization timestamps', 'None')])\n",
      "OrderedDict([('id', '602d8a4c5f'), ('source node', '0'), ('generated timestamp', '2.9108492890112303'), ('pool block arrival timestamp', '14.242095205105837'), ('pool block reference timestamp', 'None'), ('main chain arrival timestamp', 'None'), ('finalization timestamps', 'None')])\n",
      "OrderedDict([('id', '446b8a18b5'), ('source node', '1'), ('generated timestamp', '3.9101033632112'), ('pool block arrival timestamp', '14.242095205105837'), ('pool block reference timestamp', 'None'), ('main chain arrival timestamp', 'None'), ('finalization timestamps', 'None')])\n"
     ]
    }
   ],
   "source": [
    "import csv\n",
    "\n",
    "finalized_main_chain_pool_tx = None\n",
    "not_on_main_chain_pool_tx = None\n",
    "finalized_main_chain_tree_tx = None\n",
    "unfinalized_main_chain_tree_tx = None\n",
    "not_on_main_chain_tree_tx = None\n",
    "\n",
    "with open('../logs/transactions.csv', newline='') as csvfile:\n",
    "    reader = csv.DictReader(csvfile)\n",
    "    row_count = 0\n",
    "    for row in reader:\n",
    "        if row['finalization timestamps']!='None'and row['main chain arrival timestamp']!='None' and row['pool block reference timestamp']!='None' and finalized_main_chain_pool_tx==None:\n",
    "            finalized_main_chain_pool_tx = row\n",
    "        elif row['main chain arrival timestamp']=='None' and row['pool block reference timestamp']!='None' and not_on_main_chain_pool_tx==None:\n",
    "            not_on_main_chain_pool_tx = row\n",
    "        elif row['finalization timestamps']!='None' and row['main chain arrival timestamp']!='None' and row['pool block reference timestamp']=='None' and finalized_main_chain_tree_tx==None:\n",
    "            finalized_main_chain_tree_tx = row\n",
    "        elif row['finalization timestamps']=='None' and row['main chain arrival timestamp']!='None' and row['pool block reference timestamp']=='None' and unfinalized_main_chain_tree_tx==None:\n",
    "            unfinalized_main_chain_tree_tx = row\n",
    "        elif row['main chain arrival timestamp']=='None' and row['pool block reference timestamp']=='None' and not_on_main_chain_tree_tx==None: \n",
    "            not_on_main_chain_tree_tx = row\n",
    "        if row_count<10:\n",
    "            print(row)\n",
    "        row_count+=1"
   ]
  },
  {
   "cell_type": "code",
   "execution_count": 14,
   "metadata": {},
   "outputs": [
    {
     "name": "stdout",
     "output_type": "stream",
     "text": [
      "Finalized Pool Transaction:\n",
      "OrderedDict([('id', '6fac578d24'), ('source node', '9'), ('generated timestamp', '14.691988179935265'), ('pool block arrival timestamp', '32.92023684090416'), ('pool block reference timestamp', '41.0677171535262'), ('main chain arrival timestamp', '50.19655760646296'), ('finalization timestamps', '61.923942903867975;84.80281416324064;95.60365967537935;95.60365967537935;95.60365967537935;97.35926796504127')])\n",
      "Pool Transaction Not on Main Chain:\n",
      "OrderedDict([('id', '39ead6e859'), ('source node', '8'), ('generated timestamp', '208.86819056448323'), ('pool block arrival timestamp', '365.0951891284518'), ('pool block reference timestamp', '257.24858731882284'), ('main chain arrival timestamp', 'None'), ('finalization timestamps', 'None')])\n",
      "Finalized Tree Transaction:\n",
      "OrderedDict([('id', '81b8f4cff5'), ('source node', '8'), ('generated timestamp', '3.174691494391272'), ('pool block arrival timestamp', '14.242095205105837'), ('pool block reference timestamp', 'None'), ('main chain arrival timestamp', '14.516354411364066'), ('finalization timestamps', '54.506008065621884')])\n",
      "Unfinalized Tree Transaction:\n",
      "None\n",
      "Tree Transaction Not on Main Chain:\n",
      "OrderedDict([('id', '00261cb0e9'), ('source node', '6'), ('generated timestamp', '1.6819573629106486'), ('pool block arrival timestamp', '14.242095205105837'), ('pool block reference timestamp', 'None'), ('main chain arrival timestamp', 'None'), ('finalization timestamps', 'None')])\n"
     ]
    }
   ],
   "source": [
    "print(f'Finalized Pool Transaction:\\n{finalized_main_chain_pool_tx}')\n",
    "print(f'Pool Transaction Not on Main Chain:\\n{not_on_main_chain_pool_tx}')\n",
    "print(f'Finalized Tree Transaction:\\n{finalized_main_chain_tree_tx}')\n",
    "print(f'Unfinalized Tree Transaction:\\n{unfinalized_main_chain_tree_tx}')\n",
    "print(f'Tree Transaction Not on Main Chain:\\n{not_on_main_chain_tree_tx}')\n"
   ]
  },
  {
   "cell_type": "markdown",
   "metadata": {},
   "source": [
    "Let's consider the first case of the finalized pool transaction. If we look into `blocks.csv`,\n",
    "we should be able to see that the transaction's main chain arrival timestamp and pool block timestamp\n",
    "should be equivalent to a tree block's proposal time. Additionally, the finalization time should be\n",
    "the tree block's finalization time."
   ]
  },
  {
   "cell_type": "code",
   "execution_count": 15,
   "metadata": {},
   "outputs": [
    {
     "name": "stdout",
     "output_type": "stream",
     "text": [
      "OrderedDict([('id', '804be'), ('parent id', '71aa8'), ('proposal timestamp', '38.47225260611451'), ('pool block timestamp', 'None'), ('finalization timestamp', '95.60365967537935'), ('depth', '2'), ('finalized', 'True'), ('transactions', '555610a1c9;772c6a0522;47c109eea0;a40d363ab9;15912eba54;85c62bfe53;99c38fc64c;39854adb25;7514ec5cbb;a22d88b959;4ce2a465c1;6fac578d24;8b1672c259;7b679fc6fc;95ad5ec69c;e3380d2108;9b6f271695;e85dbc8d0c;14e6615e17;f5144bce3c;fcd9246419;5d94393692;173f924596;93c5448a99;a650db868f;c9a2e91ac4;06c5f04dce;6fe957e3a4;6ad03c7dcd;b61fad58d4;9e3ed60771;33cf43c876;5968690f09;74eb78f582;b988ae70e3;1fd530d88d;938024f9b9;cbfce670fd;df37bfa911;42b3a1fa9b;1e063afb6e;d3c8a6c98c;0b02083f32;914a93a955;b859407ec3;5d11f46f60;cfacc36026;7405198f95;142a154258;3113bf9a06;f4d9829af6')])\n"
     ]
    }
   ],
   "source": [
    "with open('../logs/blocks.csv', newline='') as csvfile:\n",
    "    reader = csv.DictReader(csvfile)\n",
    "    if finalized_main_chain_pool_tx!=None:\n",
    "        for row in reader:\n",
    "            if finalized_main_chain_pool_tx['id'] in row['transactions']:\n",
    "                print(row)\n",
    "                break"
   ]
  },
  {
   "cell_type": "markdown",
   "metadata": {},
   "source": [
    "Now let's consider the second case of the pool transaction not on the main chain.\n",
    "We should see that it belongs to a block that is not finalized and not on the main chain, indicated\n",
    "by the fact the block's finalization timestamp and main chain arrival timestamp will both be `'None'`. However, the pool block timestamp should be equal to the block's proposal timestamp."
   ]
  },
  {
   "cell_type": "code",
   "execution_count": 16,
   "metadata": {},
   "outputs": [
    {
     "name": "stdout",
     "output_type": "stream",
     "text": [
      "OrderedDict([('id', '9c248'), ('parent id', 'None'), ('proposal timestamp', '254.18607498968566'), ('pool block timestamp', ''), ('finalization timestamp', 'None'), ('depth', 'NA'), ('finalized', 'False'), ('transactions', '5042e79c7d;a9e0f998e2;3fdf5ee2b4;f1d2bc6c7a;94f8eadb65;2cd2385097;554e1c86fc;57adfc81b9;4c107f6584;b1027d6de0;471d0d6412;6fd0628778;db1e96baf9;4938dcf2ba;f1b0364f55;a5acfd8630;b5348874d0;7766fe344b;5387b291eb;d88da1641d;faa7cfc3e1;1ecac70a72;d4baa1d51e;be14fc7d1e;436262d303;54e266cf1a;d5a415fdb6;fdc4fb9322;eac5492854;808cd3841f;cbe4764520;9f88ae2ef9;402492d3a0;365bf9bd5d;6c2e31ab29;2417babfe8;660450633f;1935786d55;9360f55a7d;bb1557caf0;f63c915590;75b3119e01;8db5ff97d3;eb9ef6f902;6231027d31;85b94596c0;9e0c4f2e78;0dfa3fe914;39ead6e859;aaffe54224;6cd498cbb8')])\n"
     ]
    }
   ],
   "source": [
    "with open('../logs/blocks.csv', newline='') as csvfile:\n",
    "    reader = csv.DictReader(csvfile)\n",
    "    if not_on_main_chain_pool_tx!=None:\n",
    "        for row in reader:\n",
    "            if not_on_main_chain_pool_tx['id'] in row['transactions']:\n",
    "                print(row)\n",
    "                break"
   ]
  },
  {
   "cell_type": "markdown",
   "metadata": {},
   "source": [
    "The third case is the tree finalized tree transaction on the main chain. We should see that it\n",
    "belongs to a block with equal finalization and main chain arrival timestamps, but a pool block timestamp equal to `'None'`."
   ]
  },
  {
   "cell_type": "code",
   "execution_count": 17,
   "metadata": {},
   "outputs": [
    {
     "name": "stdout",
     "output_type": "stream",
     "text": [
      "OrderedDict([('id', '71aa8'), ('parent id', 'Genesis'), ('proposal timestamp', '14.516354411364066'), ('pool block timestamp', 'None'), ('finalization timestamp', '54.506008065621884'), ('depth', '1'), ('finalized', 'True'), ('transactions', '81b8f4cff5;7e564c36c4;e01328b4cb')])\n"
     ]
    }
   ],
   "source": [
    "with open('../logs/blocks.csv', newline='') as csvfile:\n",
    "    reader = csv.DictReader(csvfile)\n",
    "    if finalized_main_chain_tree_tx!=None:\n",
    "        for row in reader:\n",
    "            if finalized_main_chain_tree_tx['id'] in row['transactions']:\n",
    "                print(row)\n",
    "                break"
   ]
  },
  {
   "cell_type": "markdown",
   "metadata": {},
   "source": [
    "The fourth case is the unfinalized tree transaction on the main chain. We should see that it\n",
    "belongs to a block with equal main chain arrival timestamp, but pool block and finalization\n",
    "timestamps equal to `'None'`."
   ]
  },
  {
   "cell_type": "code",
   "execution_count": 18,
   "metadata": {},
   "outputs": [],
   "source": [
    "with open('../logs/blocks.csv', newline='') as csvfile:\n",
    "    reader = csv.DictReader(csvfile)\n",
    "    if unfinalized_main_chain_tree_tx!=None:\n",
    "        for row in reader:\n",
    "            if unfinalized_main_chain_tree_tx['id'] in row['transactions']:\n",
    "                print(row)\n",
    "                break"
   ]
  },
  {
   "cell_type": "markdown",
   "metadata": {},
   "source": [
    "The final case is the tree transaction not on the main chain. The block is not used for any statistics and is not logged."
   ]
  },
  {
   "cell_type": "code",
   "execution_count": null,
   "metadata": {},
   "outputs": [],
   "source": []
  }
 ],
 "metadata": {
  "kernelspec": {
   "display_name": "Python 3",
   "language": "python",
   "name": "python3"
  },
  "language_info": {
   "codemirror_mode": {
    "name": "ipython",
    "version": 3
   },
   "file_extension": ".py",
   "mimetype": "text/x-python",
   "name": "python",
   "nbconvert_exporter": "python",
   "pygments_lexer": "ipython3",
   "version": "3.7.0"
  }
 },
 "nbformat": 4,
 "nbformat_minor": 2
}
