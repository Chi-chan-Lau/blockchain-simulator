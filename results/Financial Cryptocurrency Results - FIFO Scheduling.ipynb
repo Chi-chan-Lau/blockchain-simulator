{
 "cells": [
  {
   "cell_type": "markdown",
   "metadata": {},
   "source": [
    "## Introduction\n",
    "\n",
    "### Definitions\n",
    "\n",
    "##### Global Blocktree\n",
    "A global tree maintained during the simulation used to determine certain statistics\n",
    "\n",
    "##### Node Tree\n",
    "A Node has a tree structure consisting of tree blocks just like in the Longest Chain Protocol.\n",
    "\n",
    "##### Main Chain\n",
    "On a tree structure, the main chain is defined in this protocol as the Longest Chain from the Genesis block to a leaf block.\n",
    "\n",
    "##### Node Pool\n",
    "A node also has a pool structure consisting of pool blocks. \n",
    "\n",
    "##### Tree Block\n",
    "A block on the global blocktree or in a node's local tree.\n",
    "\n",
    "##### Pool Block\n",
    "A block in a node's local pool. The block may or may not be referenced by the next tree block proposed by the node.\n",
    "\n",
    "##### Finalized\n",
    "A block is considered finalized in two cases:\n",
    "\n",
    "1) If in a tree block - if the block is `k` blocks deep on the main chain\n",
    "2) If in a pool block - if the pool block is referenced by a tree block that is finalized\n",
    "\n",
    "A transaction is considered finalized if it is in a finalized block"
   ]
  },
  {
   "cell_type": "markdown",
   "metadata": {},
   "source": [
    "## Simulation Description\n",
    "\n",
    "We measure multiple metrics to understand a transactions behavior during the simulation. \n",
    "\n",
    "#### Throughput\n",
    "How many of the transactions generated actually get finalized in the simulation? \n",
    "\n",
    "#### Unique Throughput\n",
    "How many of the unique transactions generated actually get finalized in the simulation? \n",
    "\n",
    "#### Pool Block Arrival Latency\n",
    "How long does it take for a transaction to make it into a pool block?\n",
    "\n",
    "#### Pool Block Reference Latency\n",
    "How long does it take for a transaction to make it into a pool block and get referenced?\n",
    "\n",
    "#### Main Chain Arrival Latency\n",
    "How long does it take for a transaction to make it onto the main chain (for both pool blocks and tree blocks)?\n",
    "\n",
    "#### Finalization Latency\n",
    "How long does it take for a transaction to be finalized once it arrives on the main chain?\n"
   ]
  },
  {
   "cell_type": "markdown",
   "metadata": {},
   "source": [
    "### Experimental Parameters"
   ]
  },
  {
   "cell_type": "code",
   "execution_count": 1,
   "metadata": {},
   "outputs": [],
   "source": [
    "import numpy as np, json\n",
    "%matplotlib inline\n",
    "\n",
    "num_tests = 1\n",
    "n_trials = 1\n",
    "tree_proposal_rates = np.linspace(0.1, 0.1, num_tests)\n",
    "pool_proposal_rates = np.linspace(0.1, 0.2, num_tests)\n",
    "'''\n",
    "# Use these to overwrite and run real tests\n",
    "num_tests = 10\n",
    "n_trials = 5\n",
    "tree_proposal_rates = np.linspace(0.1, 0.1, num_tests)\n",
    "pool_proposal_rates = np.linspace(0.3, 5, num_tests)\n",
    "'''\n",
    "# Create experimental parameters and write to JSON file\n",
    "\n",
    "params = {'Block tree proposal rate parameter': 0,\n",
    " 'Block pool proposal rate parameter': 0,\n",
    " 'Transaction rate parameter': 0,\n",
    " 'Block size (txs)': 50,\n",
    " 'Duration (sec)': 0,\n",
    " 'Fork choice rule': 'longest-chain-with-pool',\n",
    " 'Transaction scheduling rule': 'FIFO',\n",
    " 'Network model': 'Decker-Wattenhorf',\n",
    " 'Number of adversaries': 1,\n",
    " 'Number of nodes': 10,\n",
    " 'Probability of error in transaction confirmation': 0.1,\n",
    " 'Transaction dataset': 'poisson',\n",
    " 'Logging enabled': True}"
   ]
  },
  {
   "cell_type": "markdown",
   "metadata": {},
   "source": [
    "### Run experiments"
   ]
  },
  {
   "cell_type": "code",
   "execution_count": 2,
   "metadata": {},
   "outputs": [
    {
     "name": "stdout",
     "output_type": "stream",
     "text": [
      "Parameters:\n",
      "{'longest-chain-with-pool': {'Block pool proposal rate parameter': 0.1,\n",
      "                             'Block size (txs)': 50,\n",
      "                             'Block tree proposal rate parameter': 0.1,\n",
      "                             'Duration (sec)': 1000.0,\n",
      "                             'Fork choice rule': 'longest-chain-with-pool',\n",
      "                             'Logging enabled': True,\n",
      "                             'Network model': 'Decker-Wattenhorf',\n",
      "                             'Number of adversaries': 1,\n",
      "                             'Number of nodes': 10,\n",
      "                             'Probability of error in transaction confirmation': 0.1,\n",
      "                             'Transaction dataset': 'poisson',\n",
      "                             'Transaction rate parameter': 4.500000000000001,\n",
      "                             'Transaction scheduling rule': 'FIFO'},\n",
      " 'setting-name': 'longest-chain-with-pool'}\n",
      "Throughputs:\n",
      " {(0.1, 0.1): [9.64]}\n",
      "Unique Throughputs:\n",
      " {(0.1, 0.1): [4.027]}\n",
      "Pool Block Arrival Latencies:\n",
      " {(0.1, 0.1): [49.94674061758473]}\n",
      "Pool Block Reference Latencies:\n",
      " {(0.1, 0.1): [9.227260296223758]}\n",
      "Main Chain Arrival Latencies:\n",
      " {(0.1, 0.1): [9.747377350819077]}\n",
      "Finalization Latencies:\n",
      " {(0.1, 0.1): [38.86756318616126]}\n",
      "Emptiness:\n",
      " {(0.1, 0.1): [-26.492537313432837]}\n"
     ]
    }
   ],
   "source": [
    "import os, shutil, pprint, glob, csv, time\n",
    "\n",
    "pp = pprint.PrettyPrinter()\n",
    "os.system('touch longest_chain_with_pool.json')\n",
    "dirname = f'longest_chain_with_pool_' + str(int(time.time()))\n",
    "os.system(f'mkdir {dirname}')\n",
    "os.chdir('..')\n",
    "import metrics\n",
    "\n",
    "throughputs = {}\n",
    "unique_throughputs = {}\n",
    "pool_block_arrival_latencies = {}\n",
    "pool_block_ref_latencies = {}\n",
    "main_chain_arrival_latencies = {}\n",
    "finalization_latencies = {}\n",
    "emptiness = {}\n",
    "\n",
    "for i in range(0, num_tests):\n",
    "    tree_rate = tree_proposal_rates[i]\n",
    "    pool_rate = pool_proposal_rates[i]\n",
    "    params['Block tree proposal rate parameter'] = tree_rate\n",
    "    params['Block pool proposal rate parameter'] = pool_rate\n",
    "    params['Transaction rate parameter'] = 0.9*pool_rate*int(params['Block size (txs)'])\n",
    "    params['Duration (sec)'] = 100/pool_rate\n",
    "    d = {}\n",
    "    d['setting-name'] = f'longest-chain-with-pool'\n",
    "    d[f'longest-chain-with-pool'] = params\n",
    "    print('Parameters:')\n",
    "    pp.pprint(d)\n",
    "    with open('results/longest_chain_with_pool.json', 'w+') as outfile:\n",
    "        json.dump(d, outfile)\n",
    "    throughputs[(tree_rate, pool_rate)] = []\n",
    "    unique_throughputs[(tree_rate, pool_rate)] = []\n",
    "    pool_block_arrival_latencies[(tree_rate, pool_rate)] = []\n",
    "    pool_block_ref_latencies[(tree_rate, pool_rate)] = []\n",
    "    main_chain_arrival_latencies[(tree_rate, pool_rate)] = []\n",
    "    finalization_latencies[(tree_rate, pool_rate)] = []\n",
    "    emptiness[(tree_rate, pool_rate)] = []\n",
    "    for trial in range(0, n_trials):\n",
    "        os.system('python3 main.py -f results/longest_chain_with_pool.json')\n",
    "        throughput, unique_throughput = metrics.compute_throughputs(filename='results/longest_chain_with_pool.json')\n",
    "        \n",
    "        throughputs[(tree_rate, pool_rate)].append(throughput)\n",
    "        unique_throughputs[(tree_rate, pool_rate)].append(unique_throughput)\n",
    "        \n",
    "        avg_pool_block_arr_latency, avg_pool_block_ref_latency, avg_main_chain_arrival_latency, avg_finalization_latency = metrics.compute_latency()\n",
    "        \n",
    "        pool_block_arrival_latencies[(tree_rate, pool_rate)].append(avg_pool_block_arr_latency)\n",
    "        pool_block_ref_latencies[(tree_rate, pool_rate)].append(avg_pool_block_ref_latency)\n",
    "        main_chain_arrival_latencies[(tree_rate, pool_rate)].append(avg_main_chain_arrival_latency)\n",
    "        finalization_latencies[(tree_rate, pool_rate)].append(avg_finalization_latency)\n",
    "        \n",
    "        _emptiness = metrics.compute_emptiness()\n",
    "        emptiness[(tree_rate, pool_rate)].append(_emptiness)\n",
    "        \n",
    "        nested_dirname = f'logs_{tree_rate}_{pool_rate}'\n",
    "        os.system(f'mkdir results/{dirname}/{nested_dirname}')\n",
    "        os.system(f'cp logs/* results/{dirname}/{nested_dirname}/')\n",
    "    \n",
    "os.chdir('results/')\n",
    "os.remove('longest_chain_with_pool.json')\n",
    "print('Throughputs:\\n', throughputs)\n",
    "print('Unique Throughputs:\\n', unique_throughputs)\n",
    "print('Pool Block Arrival Latencies:\\n', pool_block_arrival_latencies)\n",
    "print('Pool Block Reference Latencies:\\n', pool_block_ref_latencies)\n",
    "print('Main Chain Arrival Latencies:\\n', main_chain_arrival_latencies)\n",
    "print('Finalization Latencies:\\n', finalization_latencies)\n",
    "print('Emptiness:\\n', emptiness)"
   ]
  },
  {
   "cell_type": "markdown",
   "metadata": {},
   "source": [
    "### Compute Averages\n",
    "\n",
    "Average throughput is the number of finalized transactions divided by the duration of the experiment.\n",
    "\n",
    "Average main chain latency is the time for a transaction to be added to the global blocktree - the timestamp the transaction was generated.\n",
    "\n",
    "Average pool block latency is the time for a transaction to be added to a pool block AND referenced by a tree block.\n",
    "\n",
    "Average finalization latency is the time for a transaction to be k blocks deep - to be added to the global blocktree."
   ]
  },
  {
   "cell_type": "code",
   "execution_count": 3,
   "metadata": {},
   "outputs": [
    {
     "name": "stdout",
     "output_type": "stream",
     "text": [
      "{(0.1, 0.1): [9.64]}\n",
      "{(0.1, 0.1): [4.027]}\n",
      "{(0.1, 0.1): [49.94674061758473]}\n",
      "{(0.1, 0.1): [9.227260296223758]}\n",
      "{(0.1, 0.1): [9.747377350819077]}\n",
      "{(0.1, 0.1): [38.86756318616126]}\n",
      "{(0.1, 0.1): [-26.492537313432837]}\n"
     ]
    }
   ],
   "source": [
    "def compute_avg_std_dev(d):\n",
    "    avgs = {}\n",
    "    std_devs = {}\n",
    "    print(d)\n",
    "    for rate in d:\n",
    "        avgs[rate] = sum(d[rate])/len(d[rate])\n",
    "        std_devs[rate] = np.std(d[rate])\n",
    "        \n",
    "    return avgs, std_devs\n",
    "\n",
    "avg_throughputs, throughput_sd = compute_avg_std_dev(throughputs)\n",
    "avg_uniq_throughputs, uniq_throughput_sd = compute_avg_std_dev(unique_throughputs)\n",
    "avg_pool_block_arr_lat , pool_block_arr_sd = compute_avg_std_dev(pool_block_arrival_latencies)\n",
    "avg_pool_block_ref_lat, pool_block_ref_sd = compute_avg_std_dev(pool_block_ref_latencies)\n",
    "avg_mca_lat, mca_lat_sd  = compute_avg_std_dev(main_chain_arrival_latencies)\n",
    "avg_fin_lat, fin_lat_sd  = compute_avg_std_dev(finalization_latencies)\n",
    "avg_emp, emp_sd = compute_avg_std_dev(emptiness)"
   ]
  },
  {
   "cell_type": "markdown",
   "metadata": {},
   "source": [
    "### Extract Finalization Depth and Delta for Blocks"
   ]
  },
  {
   "cell_type": "code",
   "execution_count": 4,
   "metadata": {},
   "outputs": [],
   "source": [
    "import csv\n",
    "if os.path.isfile('../logs/stats.csv'):\n",
    "    with open('../logs/stats.csv', newline='') as csvfile:\n",
    "        reader = csv.reader(csvfile, delimiter=',')\n",
    "        for row in reader:\n",
    "            if row[0]=='Finalization depth':\n",
    "                k = int(row[1])\n",
    "            elif row[0]=='Average network latency for blocks (sec)':\n",
    "                delta = float(row[1])\n",
    "                \n",
    "x = np.array([key[1] for key in avg_throughputs.keys()])\n",
    "f_tree = np.array([key[1] for key in avg_throughputs.keys()])\n",
    "f_pool = np.array([key[0] for key in avg_throughputs.keys()])\n",
    "\n",
    "avg_throughputs = np.array(list(avg_throughputs.values()))\n",
    "avg_uniq_throughputs = np.array(list(avg_uniq_throughputs.values()))\n",
    "avg_pool_block_arr_lat = np.array(list(avg_pool_block_arr_lat.values()))\n",
    "avg_pool_block_ref_lat = np.array(list(avg_pool_block_ref_lat.values()))\n",
    "avg_mca_lat = np.array(list(avg_mca_lat.values()))\n",
    "avg_fin_lat = np.array(list(avg_fin_lat.values()))\n",
    "avg_emp = np.array(list(avg_emp.values()))\n",
    "\n",
    "exp_throughput = f_tree*f_pool*params['Block size (txs)']\n",
    "exp_uniq_throughput = exp_throughput/(1+(f_tree+f_pool)*delta)\n",
    "exp_pool_block_arr_lat = 1/f_pool + delta\n",
    "exp_pool_block_ref_lat = 1/f_tree + delta\n",
    "exp_mca_lat = delta\n",
    "exp_fin_lat = k/(f_tree/(1+f_tree*delta))\n",
    "exp_emp = params['Block size (txs)']*f_pool"
   ]
  },
  {
   "cell_type": "markdown",
   "metadata": {},
   "source": [
    "### Plotting the results"
   ]
  },
  {
   "cell_type": "code",
   "execution_count": 5,
   "metadata": {},
   "outputs": [
    {
     "data": {
      "image/png": "[encoded data removed]",
      "text/plain": [
       "<Figure size 432x288 with 1 Axes>"
      ]
     },
     "metadata": {
      "needs_background": "light"
     },
     "output_type": "display_data"
    }
   ],
   "source": [
    "import matplotlib.pylab as plt\n",
    "\n",
    "def plot_results(title, xlabel, ylabel, x, y, std_dev, y_exp):\n",
    "    sd = np.array(list(std_dev.values()))\n",
    "    plt.xlabel(xlabel)\n",
    "    plt.ylabel(ylabel)\n",
    "    plt.title(title)\n",
    "    plt.grid(True)\n",
    "    \n",
    "    plt.plot(x, y, label='observed rate')\n",
    "    plt.plot(x, y_exp, label='expected rate')\n",
    "    plt.errorbar(x, y, sd, capsize=5, linestyle='None', marker='*')\n",
    "    plt.show()\n",
    "\n",
    "plot_results(\n",
    "f'Transaction Throughput vs. Pool Block Proposal Rate (k={k}, delta={delta})',\n",
    "'Pool Block Proposal Rate (blocks/sec)',\n",
    "'Throughput (txs/sec)',\n",
    "x,\n",
    "avg_throughputs,\n",
    "throughput_sd,\n",
    "exp_throughput\n",
    ")"
   ]
  },
  {
   "cell_type": "code",
   "execution_count": 6,
   "metadata": {},
   "outputs": [
    {
     "data": {
      "image/png": "[encoded data removed]",
      "text/plain": [
       "<Figure size 432x288 with 1 Axes>"
      ]
     },
     "metadata": {
      "needs_background": "light"
     },
     "output_type": "display_data"
    }
   ],
   "source": [
    "plot_results(\n",
    "f'Unique Transaction Throughput vs. Pool Block Proposal Rate (k={k}, delta={delta})',\n",
    "'Pool Block Proposal Rate (blocks/sec)',\n",
    "'Unique Throughput (txs/sec)',\n",
    "x,\n",
    "avg_uniq_throughputs,\n",
    "uniq_throughput_sd,\n",
    "exp_uniq_throughput\n",
    ")"
   ]
  },
  {
   "cell_type": "code",
   "execution_count": 7,
   "metadata": {},
   "outputs": [
    {
     "data": {
      "image/png": "[encoded data removed]",
      "text/plain": [
       "<Figure size 432x288 with 1 Axes>"
      ]
     },
     "metadata": {
      "needs_background": "light"
     },
     "output_type": "display_data"
    }
   ],
   "source": [
    "plot_results(\n",
    "f'Pool Block Arrival Latency vs. Pool Block Proposal Rate (k={k}, delta={delta})',\n",
    "'Pool Block Proposal Rate (blocks/sec)',\n",
    "'Pool Block Arrival Latency (sec)',\n",
    "x,\n",
    "avg_pool_block_arr_lat,\n",
    "pool_block_arr_sd,\n",
    "exp_pool_block_arr_lat\n",
    ")"
   ]
  },
  {
   "cell_type": "code",
   "execution_count": 8,
   "metadata": {},
   "outputs": [
    {
     "data": {
      "image/png": "[encoded data removed]",
      "text/plain": [
       "<Figure size 432x288 with 1 Axes>"
      ]
     },
     "metadata": {
      "needs_background": "light"
     },
     "output_type": "display_data"
    }
   ],
   "source": [
    "plot_results(\n",
    "f'Pool Block Reference Latency vs. Pool Block Proposal Rate (k={k}, delta={delta})',\n",
    "'Pool Block Proposal Rate (blocks/sec)',\n",
    "'Pool Block Reference Latency (sec)',\n",
    "x,\n",
    "avg_pool_block_ref_lat,\n",
    "pool_block_ref_sd,\n",
    "exp_pool_block_ref_lat\n",
    ")"
   ]
  },
  {
   "cell_type": "code",
   "execution_count": 9,
   "metadata": {},
   "outputs": [
    {
     "data": {
      "image/png": "[encoded data removed]",
      "text/plain": [
       "<Figure size 432x288 with 1 Axes>"
      ]
     },
     "metadata": {
      "needs_background": "light"
     },
     "output_type": "display_data"
    }
   ],
   "source": [
    "plot_results(\n",
    "f'Main Chain Arrival Latency vs. Pool Block Proposal Rate (k={k}, delta={delta})',\n",
    "'Pool Block Proposal Rate (blocks/sec)',\n",
    "'Main Chain Arrival Latency (sec)',\n",
    "x,\n",
    "avg_mca_lat,\n",
    "mca_lat_sd,\n",
    "exp_mca_lat\n",
    ")"
   ]
  },
  {
   "cell_type": "code",
   "execution_count": 10,
   "metadata": {},
   "outputs": [
    {
     "data": {
      "image/png": "[encoded data removed]",
      "text/plain": [
       "<Figure size 432x288 with 1 Axes>"
      ]
     },
     "metadata": {
      "needs_background": "light"
     },
     "output_type": "display_data"
    }
   ],
   "source": [
    "plot_results(\n",
    "f'Finalization Latency vs. Pool Block Proposal Rate (k={k}, delta={delta})',\n",
    "'Pool Block Proposal Rate (blocks/sec)',\n",
    "'Finalization Latency (sec)',\n",
    "x,\n",
    "avg_fin_lat,\n",
    "fin_lat_sd,\n",
    "exp_fin_lat\n",
    ")"
   ]
  },
  {
   "cell_type": "code",
   "execution_count": 11,
   "metadata": {},
   "outputs": [
    {
     "data": {
      "image/png": "[encoded data removed]",
      "text/plain": [
       "<Figure size 432x288 with 1 Axes>"
      ]
     },
     "metadata": {
      "needs_background": "light"
     },
     "output_type": "display_data"
    }
   ],
   "source": [
    "plot_results(\n",
    "f'Emptiness vs. Pool Block Proposal Rate (k={k}, delta={delta})',\n",
    "'Pool Block Proposal Rate (blocks/sec)',\n",
    "'Emptiness (txs)',\n",
    "x,\n",
    "avg_emp,\n",
    "emp_sd,\n",
    "exp_emp\n",
    ")"
   ]
  },
  {
   "cell_type": "markdown",
   "metadata": {},
   "source": [
    "### Results\n",
    "\n",
    "We can look through the logs of the blocks to understand the process a block undergoes:"
   ]
  },
  {
   "cell_type": "code",
   "execution_count": 12,
   "metadata": {},
   "outputs": [
    {
     "name": "stdout",
     "output_type": "stream",
     "text": [
      "id,parent id,proposal timestamp,pool block timestamp,finalization timestamp,depth,finalized,emptiness,transactions\n",
      "\n",
      "Genesis,None,0,None,55.82190333691658,0,True,0,\n",
      "\n",
      "6ce71,Genesis,9.32267493604138,None,57.22815142721719,1,True,68,a00d5486fb;1a6c9aac2e;b5613442b2;d1f8e8a7b8;b8d99f74ff;8cf42b5826;eed5b90eb4;091e9e0779;fd72c5bc30;789d912091;902c06eba4;9e707633c9;fadc2a837b;328b948394;114cbc5cdc;a6ddd85082;1bd0d9cfd8;18b14e95d7\n",
      "\n",
      "18ec8,6ce71,16.553797453214045,None,59.7267700151623,2,True,83,8a3aea95d3;ba8f566519;a7ed5cd4b1;3d563ce497;487c1a2671;1c689fc0c4;14a419de9c;35e9a143ab;4ae1002bd6;055ac49581;702a25f8f1;9e70b4495f;7b8f41b89a;9ddfff98bd;570cb37956;c2d825744e;061ab5f606;61f63bb478;0d9b716888;b84f15d407;7c46eaafb0;68a6f2b4f1;cf42ce8171;0841e79e17;2fff454a49;9a55f06496;3d4f59bd57;8314fc6ab9;40f12d47a2;5ad882e9be;e45577f40b;5e30c2fc61;946536f2e2\n",
      "\n",
      "7e1bd,18ec8,23.697743497504412,None,61.16378484043764,3,True,54,8b7af54d65;3fcd12be9e;f24afa42e1;d1372973d4\n",
      "\n",
      "a3961,7e1bd,41.72531520163428,None,65.99109179683056,4,True,94,c58513d85b;0fd0698444;4be286974a;f41e67b296;e55bceb2c7;65e9f9a2d3;1d9a46e550;ce23f84130;d83d1b1e25;c73cc646b2;7a187a00a6;9514f96511;83264e0d22;cb952c59ac;6a1c954d41;d3fe586d20;095d0c0c81;a198366ae5;ec7a70e4e6;654afe47e7;47275509b6;354ba4e571;13b59cf828;c0eb15236a;6bf611449b;8db71300ae;ecb9e3b059;fea3ad3448;acb9888719;ea3748c4a1;c7435ec223;197419a0c7;11d8c98bdf;6347f4066d;13230ece04;fafada3e9c;86511c0857;f4bd792141;035a2c45d0;24ce029c71;def2845dd5;e228b1b744;8cc30a8649;9b3e845c03;3dde05ad8c;9817eb10e5;6904c1de9b;867367cd1f;8a9553a61c;585f8a5a04;65b835b373\n",
      "\n",
      "655e6,None,29.09700637535268,,65.99109179683056,NA,True,56,c58513d85b;0fd0698444;4be286974a;f41e67b296;e55bceb2c7;65e9f9a2d3\n",
      "\n",
      "5b38b,a3961,55.82190333691658,None,67.46498729689311,5,True,44,622b549a92;ce50577068;2d30a51988;7889366a30;9aa07ef7df;989832d24f;e56bdea84f;02a4d1fd5b;af992898f5;33b2677ec7;bb808bf7b4;1ca1918df7;5c54cc2573;a7e1244693;5a30f7cef4;1b25f02c55;423776ecc3;1c46aefdfd;44efdff193;0f2360f5f9;8895ad7f9a;7454731f6b;1343f8da60;7d84f224b5;4ee47c9020;88cef79824;5834d52898;ac621b7ef6;8b4856e5a4;35528c8236;eea259f5a2;54347d04d1;91ae6c2f57;d4df057e12;d60529037e;5431544016;70752c62ca;561d30a8bc;1ca118d345;bc8552fbbc;65b4173518;48d5326b82;507fcc2510;cdc7dd7174;4b18564d9d;a95a9ff3b3;9bcab479e7;e2f21d97c0;fa6238c923;cd6574147d;2ea420fa99\n",
      "\n",
      "d22de,5b38b,57.22815142721719,None,75.98751246937132,6,True,55,58654198cc;e2ae7960eb;c8004ae4c9;b2a2190fcf;ee68fc61f2\n",
      "\n",
      "17058,d22de,65.99109179683056,None,90.54901624313182,7,True,54,049322fac9;5bed7190b6;07f59d2ce0;b0315ee707;3ad89a450b;05df8246f2;f1f0549e5e;899cafc5c4;8e8cd04e26;8790b585db;62748ddab4;ac86daab0e;5400662403;52559baa67;61d8ab43ba;5b2c255b95;3b3ec40d90;384033505c;6f124be75c;7a01546689;6a9051f9f5;8f51df0331;bc39f8f75d;4398aac8f1;dc3b177786;53dcfb94ab;790223261d;f14cf91288;2ad7d53ae9;1dc792916c;e826130c3e;cb65290df9;5a7da74743;441e64dae7;078216ce9e;455aa6a4b5;84138b1c28;0c52d0c309;2f2623d59a;63eb0bde75;8f5f237751;22afbaca3a;27656eb982;a467604868;252bc7476a;a358723858;c487e3010b;52463cb141;8ed6812469;cbe6778117;84d001fdec\n",
      "\n"
     ]
    }
   ],
   "source": [
    "with open('../logs/blocks.csv') as f:\n",
    "    for line in f.readlines()[:10]:\n",
    "        print(line)"
   ]
  },
  {
   "cell_type": "markdown",
   "metadata": {},
   "source": [
    "Additionally, we can visualize the results to see the global blocktree. In the following image, blue nodes indicate tree blocks on the main chain and yellow blocks indicate tree blocks\n",
    "off the main chain (i.e. 'orphan blocks').\n",
    "![title](../logs/blocktree.png)"
   ]
  },
  {
   "cell_type": "markdown",
   "metadata": {},
   "source": [
    "We can look through the logs to understand the process a transaction undergoes. A transaction can\n",
    "\n",
    "1) Be a pool or a tree transaction\n",
    "2) Be on the main chain or not on the main chain\n",
    "3) Be finalized or not finalized\n",
    "\n",
    "Hence, we will analyze each of the following cases:\n",
    "1) A pool transaction on the main chain that is finalized\n",
    "2) A pool transaction not on the main chain\n",
    "3) A tree transaction on the main chain that is finalized\n",
    "4) A tree transaction on the main chain that is not finalized\n",
    "5) A tree transaction not on the main chain"
   ]
  },
  {
   "cell_type": "code",
   "execution_count": 13,
   "metadata": {},
   "outputs": [
    {
     "name": "stdout",
     "output_type": "stream",
     "text": [
      "OrderedDict([('id', 'eed5b90eb4'), ('source node', '8'), ('generated timestamp', '0.07920348500500184'), ('pool block arrival timestamp', '12.644834006413534'), ('pool block reference timestamp', 'None'), ('main chain arrival timestamp', '9.32267493604138'), ('finalization timestamps', '57.22815142721719')])\n",
      "OrderedDict([('id', '091e9e0779'), ('source node', '7'), ('generated timestamp', '0.6481911229620728'), ('pool block arrival timestamp', '12.644834006413534'), ('pool block reference timestamp', 'None'), ('main chain arrival timestamp', '9.32267493604138'), ('finalization timestamps', '57.22815142721719')])\n",
      "OrderedDict([('id', 'a00d5486fb'), ('source node', '4'), ('generated timestamp', '3.113151680647075'), ('pool block arrival timestamp', '12.644834006413534'), ('pool block reference timestamp', 'None'), ('main chain arrival timestamp', '9.32267493604138'), ('finalization timestamps', '57.22815142721719')])\n",
      "OrderedDict([('id', 'fd72c5bc30'), ('source node', '5'), ('generated timestamp', '1.5411087469647056'), ('pool block arrival timestamp', '12.644834006413534'), ('pool block reference timestamp', 'None'), ('main chain arrival timestamp', '9.32267493604138'), ('finalization timestamps', '57.22815142721719')])\n",
      "OrderedDict([('id', '789d912091'), ('source node', '9'), ('generated timestamp', '5.107480571077855'), ('pool block arrival timestamp', '12.644834006413534'), ('pool block reference timestamp', 'None'), ('main chain arrival timestamp', '9.32267493604138'), ('finalization timestamps', '57.22815142721719')])\n",
      "OrderedDict([('id', '902c06eba4'), ('source node', '7'), ('generated timestamp', '1.0121003218080524'), ('pool block arrival timestamp', '12.644834006413534'), ('pool block reference timestamp', 'None'), ('main chain arrival timestamp', '9.32267493604138'), ('finalization timestamps', '57.22815142721719')])\n",
      "OrderedDict([('id', '9e707633c9'), ('source node', '7'), ('generated timestamp', '1.121846832587677'), ('pool block arrival timestamp', '12.644834006413534'), ('pool block reference timestamp', 'None'), ('main chain arrival timestamp', '9.32267493604138'), ('finalization timestamps', '57.22815142721719')])\n",
      "OrderedDict([('id', 'fadc2a837b'), ('source node', '2'), ('generated timestamp', '2.0117964976581675'), ('pool block arrival timestamp', '12.644834006413534'), ('pool block reference timestamp', 'None'), ('main chain arrival timestamp', '9.32267493604138'), ('finalization timestamps', '57.22815142721719')])\n",
      "OrderedDict([('id', '328b948394'), ('source node', '8'), ('generated timestamp', '1.763181163722576'), ('pool block arrival timestamp', '12.644834006413534'), ('pool block reference timestamp', 'None'), ('main chain arrival timestamp', '9.32267493604138'), ('finalization timestamps', '57.22815142721719')])\n",
      "OrderedDict([('id', '114cbc5cdc'), ('source node', '1'), ('generated timestamp', '2.279622296083156'), ('pool block arrival timestamp', '12.644834006413534'), ('pool block reference timestamp', 'None'), ('main chain arrival timestamp', '9.32267493604138'), ('finalization timestamps', '57.22815142721719')])\n"
     ]
    }
   ],
   "source": [
    "import csv\n",
    "\n",
    "finalized_main_chain_pool_tx = None\n",
    "not_on_main_chain_pool_tx = None\n",
    "finalized_main_chain_tree_tx = None\n",
    "unfinalized_main_chain_tree_tx = None\n",
    "not_on_main_chain_tree_tx = None\n",
    "\n",
    "with open('../logs/transactions.csv', newline='') as csvfile:\n",
    "    reader = csv.DictReader(csvfile)\n",
    "    row_count = 0\n",
    "    for row in reader:\n",
    "        if row['finalization timestamps']!='None'and row['main chain arrival timestamp']!='None' and row['pool block reference timestamp']!='None' and finalized_main_chain_pool_tx==None:\n",
    "            finalized_main_chain_pool_tx = row\n",
    "        elif row['main chain arrival timestamp']=='None' and row['pool block reference timestamp']!='None' and not_on_main_chain_pool_tx==None:\n",
    "            not_on_main_chain_pool_tx = row\n",
    "        elif row['finalization timestamps']!='None' and row['main chain arrival timestamp']!='None' and row['pool block reference timestamp']=='None' and finalized_main_chain_tree_tx==None:\n",
    "            finalized_main_chain_tree_tx = row\n",
    "        elif row['finalization timestamps']=='None' and row['main chain arrival timestamp']!='None' and row['pool block reference timestamp']=='None' and unfinalized_main_chain_tree_tx==None:\n",
    "            unfinalized_main_chain_tree_tx = row\n",
    "        elif row['main chain arrival timestamp']=='None' and row['pool block reference timestamp']=='None' and not_on_main_chain_tree_tx==None: \n",
    "            not_on_main_chain_tree_tx = row\n",
    "        if row_count<10:\n",
    "            print(row)\n",
    "        row_count+=1"
   ]
  },
  {
   "cell_type": "code",
   "execution_count": 14,
   "metadata": {},
   "outputs": [
    {
     "name": "stdout",
     "output_type": "stream",
     "text": [
      "Finalized Pool Transaction:\n",
      "OrderedDict([('id', 'c58513d85b'), ('source node', '2'), ('generated timestamp', '18.118546537579444'), ('pool block arrival timestamp', '29.09700637535268'), ('pool block reference timestamp', '41.72531520163428'), ('main chain arrival timestamp', '41.72531520163428'), ('finalization timestamps', '64.86862899992342;65.99109179683056;65.99109179683056')])\n",
      "Pool Transaction Not on Main Chain:\n",
      "OrderedDict([('id', '4dc6609d73'), ('source node', '7'), ('generated timestamp', '956.8492382777259'), ('pool block arrival timestamp', '993.3448328615991'), ('pool block reference timestamp', '997.1058496718312'), ('main chain arrival timestamp', 'None'), ('finalization timestamps', 'None')])\n",
      "Finalized Tree Transaction:\n",
      "OrderedDict([('id', 'eed5b90eb4'), ('source node', '8'), ('generated timestamp', '0.07920348500500184'), ('pool block arrival timestamp', '12.644834006413534'), ('pool block reference timestamp', 'None'), ('main chain arrival timestamp', '9.32267493604138'), ('finalization timestamps', '57.22815142721719')])\n",
      "Unfinalized Tree Transaction:\n",
      "None\n",
      "Tree Transaction Not on Main Chain:\n",
      "OrderedDict([('id', '2cc24eeae1'), ('source node', '0'), ('generated timestamp', '13.864534473995281'), ('pool block arrival timestamp', '22.346091703445772'), ('pool block reference timestamp', 'None'), ('main chain arrival timestamp', 'None'), ('finalization timestamps', 'None')])\n"
     ]
    }
   ],
   "source": [
    "print(f'Finalized Pool Transaction:\\n{finalized_main_chain_pool_tx}')\n",
    "print(f'Pool Transaction Not on Main Chain:\\n{not_on_main_chain_pool_tx}')\n",
    "print(f'Finalized Tree Transaction:\\n{finalized_main_chain_tree_tx}')\n",
    "print(f'Unfinalized Tree Transaction:\\n{unfinalized_main_chain_tree_tx}')\n",
    "print(f'Tree Transaction Not on Main Chain:\\n{not_on_main_chain_tree_tx}')\n"
   ]
  },
  {
   "cell_type": "markdown",
   "metadata": {},
   "source": [
    "Let's consider the first case of the finalized pool transaction. If we look into `blocks.csv`,\n",
    "we should be able to see that the transaction's main chain arrival timestamp and pool block timestamp\n",
    "should be equivalent to a tree block's proposal time. Additionally, the finalization time should be\n",
    "the tree block's finalization time."
   ]
  },
  {
   "cell_type": "code",
   "execution_count": 15,
   "metadata": {},
   "outputs": [
    {
     "name": "stdout",
     "output_type": "stream",
     "text": [
      "OrderedDict([('id', 'a3961'), ('parent id', '7e1bd'), ('proposal timestamp', '41.72531520163428'), ('pool block timestamp', 'None'), ('finalization timestamp', '65.99109179683056'), ('depth', '4'), ('finalized', 'True'), ('emptiness', '94'), ('transactions', 'c58513d85b;0fd0698444;4be286974a;f41e67b296;e55bceb2c7;65e9f9a2d3;1d9a46e550;ce23f84130;d83d1b1e25;c73cc646b2;7a187a00a6;9514f96511;83264e0d22;cb952c59ac;6a1c954d41;d3fe586d20;095d0c0c81;a198366ae5;ec7a70e4e6;654afe47e7;47275509b6;354ba4e571;13b59cf828;c0eb15236a;6bf611449b;8db71300ae;ecb9e3b059;fea3ad3448;acb9888719;ea3748c4a1;c7435ec223;197419a0c7;11d8c98bdf;6347f4066d;13230ece04;fafada3e9c;86511c0857;f4bd792141;035a2c45d0;24ce029c71;def2845dd5;e228b1b744;8cc30a8649;9b3e845c03;3dde05ad8c;9817eb10e5;6904c1de9b;867367cd1f;8a9553a61c;585f8a5a04;65b835b373')])\n"
     ]
    }
   ],
   "source": [
    "with open('../logs/blocks.csv', newline='') as csvfile:\n",
    "    reader = csv.DictReader(csvfile)\n",
    "    if finalized_main_chain_pool_tx!=None:\n",
    "        for row in reader:\n",
    "            if finalized_main_chain_pool_tx['id'] in row['transactions']:\n",
    "                print(row)\n",
    "                break"
   ]
  },
  {
   "cell_type": "markdown",
   "metadata": {},
   "source": [
    "Now let's consider the second case of the pool transaction not on the main chain.\n",
    "We should see that it belongs to a block that is not finalized and not on the main chain, indicated\n",
    "by the fact the block's finalization timestamp and main chain arrival timestamp will both be `'None'`. However, the pool block timestamp should be equal to the block's proposal timestamp."
   ]
  },
  {
   "cell_type": "code",
   "execution_count": 16,
   "metadata": {},
   "outputs": [
    {
     "name": "stdout",
     "output_type": "stream",
     "text": [
      "OrderedDict([('id', 'c6671'), ('parent id', '6b8db'), ('proposal timestamp', '997.1058496718312'), ('pool block timestamp', 'None'), ('finalization timestamp', 'None'), ('depth', '71'), ('finalized', 'False'), ('emptiness', '-7'), ('transactions', '4dc6609d73;194a626e8f;1d71597743;88ca58069c;52c655696a;955f409450;dad11eea1a;6aedb3885b;ae26933d0a;2badf3a0ff;f73d101bf1;ca81e97864;5b7db8295e;71a2757942;a0d6de8ec8;6aa5f9e8b2;fa7a5b4ec5;ce53cf02aa;b2deb6a7bf;7efae6b777;52330e53bb;3a20a73514;2926564f5b;31a0ca9f99;2243f0969c;4d4c94a166;f38ff6bba9;90dc15879a;9ce0de7fcd;03761ea197;f534683bcc;e1f86dd345;40cdebeb35;0cbf20f749;22f7a27b76;5bdd578421;bfe3d2e23d;45fafcf870;1a72db02c0;29e37e255c;791ae67083;cc938be956;0ef8f1a033;67016f2692;fa9cd0a576;6042fc2a64;8f361b9da7;f42a22741f;16070f4e7c;fe2ef50b3b;8d4ba250a5')])\n"
     ]
    }
   ],
   "source": [
    "with open('../logs/blocks.csv', newline='') as csvfile:\n",
    "    reader = csv.DictReader(csvfile)\n",
    "    if not_on_main_chain_pool_tx!=None:\n",
    "        for row in reader:\n",
    "            if not_on_main_chain_pool_tx['id'] in row['transactions']:\n",
    "                print(row)\n",
    "                break"
   ]
  },
  {
   "cell_type": "markdown",
   "metadata": {},
   "source": [
    "The third case is the tree finalized tree transaction on the main chain. We should see that it\n",
    "belongs to a block with equal finalization and main chain arrival timestamps, but a pool block timestamp equal to `'None'`."
   ]
  },
  {
   "cell_type": "code",
   "execution_count": 17,
   "metadata": {},
   "outputs": [
    {
     "name": "stdout",
     "output_type": "stream",
     "text": [
      "OrderedDict([('id', '6ce71'), ('parent id', 'Genesis'), ('proposal timestamp', '9.32267493604138'), ('pool block timestamp', 'None'), ('finalization timestamp', '57.22815142721719'), ('depth', '1'), ('finalized', 'True'), ('emptiness', '68'), ('transactions', 'a00d5486fb;1a6c9aac2e;b5613442b2;d1f8e8a7b8;b8d99f74ff;8cf42b5826;eed5b90eb4;091e9e0779;fd72c5bc30;789d912091;902c06eba4;9e707633c9;fadc2a837b;328b948394;114cbc5cdc;a6ddd85082;1bd0d9cfd8;18b14e95d7')])\n"
     ]
    }
   ],
   "source": [
    "with open('../logs/blocks.csv', newline='') as csvfile:\n",
    "    reader = csv.DictReader(csvfile)\n",
    "    if finalized_main_chain_tree_tx!=None:\n",
    "        for row in reader:\n",
    "            if finalized_main_chain_tree_tx['id'] in row['transactions']:\n",
    "                print(row)\n",
    "                break"
   ]
  },
  {
   "cell_type": "markdown",
   "metadata": {},
   "source": [
    "The fourth case is the unfinalized tree transaction on the main chain. We should see that it\n",
    "belongs to a block with equal main chain arrival timestamp, but pool block and finalization\n",
    "timestamps equal to `'None'`."
   ]
  },
  {
   "cell_type": "code",
   "execution_count": 18,
   "metadata": {},
   "outputs": [],
   "source": [
    "with open('../logs/blocks.csv', newline='') as csvfile:\n",
    "    reader = csv.DictReader(csvfile)\n",
    "    if unfinalized_main_chain_tree_tx!=None:\n",
    "        for row in reader:\n",
    "            if unfinalized_main_chain_tree_tx['id'] in row['transactions']:\n",
    "                print(row)\n",
    "                break"
   ]
  },
  {
   "cell_type": "markdown",
   "metadata": {},
   "source": [
    "The final case is the tree transaction not on the main chain. The block is not used for any statistics and is not logged."
   ]
  },
  {
   "cell_type": "code",
   "execution_count": null,
   "metadata": {},
   "outputs": [],
   "source": []
  },
  {
   "cell_type": "code",
   "execution_count": null,
   "metadata": {},
   "outputs": [],
   "source": []
  }
 ],
 "metadata": {
  "kernelspec": {
   "display_name": "Python 3",
   "language": "python",
   "name": "python3"
  },
  "language_info": {
   "codemirror_mode": {
    "name": "ipython",
    "version": 3
   },
   "file_extension": ".py",
   "mimetype": "text/x-python",
   "name": "python",
   "nbconvert_exporter": "python",
   "pygments_lexer": "ipython3",
   "version": "3.7.0"
  }
 },
 "nbformat": 4,
 "nbformat_minor": 2
}
