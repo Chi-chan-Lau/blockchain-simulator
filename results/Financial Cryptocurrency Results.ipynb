{
 "cells": [
  {
   "cell_type": "markdown",
   "metadata": {},
   "source": [
    "## Introduction\n",
    "\n",
    "### Definitions\n",
    "\n",
    "##### Global Blocktree\n",
    "A global tree maintained during the simulation used to determine certain statistics\n",
    "\n",
    "##### Node Tree\n",
    "A Node has a tree structure consisting of tree blocks just like in the Longest Chain Protocol.\n",
    "\n",
    "##### Main Chain\n",
    "On a tree structure, the main chain is defined in this protocol as the Longest Chain from the Genesis block to a leaf block.\n",
    "\n",
    "##### Node Pool\n",
    "A node also has a pool structure consisting of pool blocks. \n",
    "\n",
    "##### Tree Block\n",
    "A block on the global blocktree or in a node's local tree.\n",
    "\n",
    "##### Pool Block\n",
    "A block in a node's local pool. The block may or may not be referenced by the next tree block proposed by the node.\n",
    "\n",
    "##### Finalized\n",
    "A block is considered finalized in two cases:\n",
    "\n",
    "1) If in a tree block - if the block is `k` blocks deep on the main chain\n",
    "2) If in a pool block - if the pool block is referenced by a tree block that is finalized\n",
    "\n",
    "A transaction is considered finalized if it is in a finalized block"
   ]
  },
  {
   "cell_type": "markdown",
   "metadata": {},
   "source": [
    "## Simulation Description\n",
    "\n",
    "We measure multiple metrics to understand a transactions behavior during the simulation. \n",
    "\n",
    "#### Throughput\n",
    "How many of the transactions generated actually get finalized in the simulation? \n",
    "\n",
    "#### Pool Block Arrival Latency\n",
    "How long does it take for a transaction to make it into a pool block and get referenced?\n",
    "\n",
    "#### Main Chain Arrival Latency\n",
    "How long does it take for a transaction to make it onto the main chain?\n",
    "\n",
    "#### Finalization Latency\n",
    "How long does it take for a transaction to be finalized once it arrives on the main chain?\n"
   ]
  },
  {
   "cell_type": "markdown",
   "metadata": {},
   "source": [
    "### Experimental Parameters"
   ]
  },
  {
   "cell_type": "code",
   "execution_count": 1,
   "metadata": {},
   "outputs": [],
   "source": [
    "import numpy as np\n",
    "%matplotlib inline\n",
    "\n",
    "num_tests = 10\n",
    "\n",
    "tree_proposal_rates = np.linspace(0.1, 0.1, num_tests)\n",
    "pool_proposal_rates = np.linspace(0.1, 2, num_tests)\n",
    "n_trials = 1\n",
    "import json\n",
    "\n",
    "# Create experimental parameters and write to JSON file\n",
    "\n",
    "params = {'Block tree proposal rate parameter': 0,\n",
    " 'Block pool proposal rate parameter': 0,\n",
    " 'Transaction rate parameter': 0,\n",
    " 'Block size (txs)': 50,\n",
    " 'Duration (sec)': 0,\n",
    " 'Fork choice rule': 'longest-chain-with-pool',\n",
    " 'Network model': 'Decker-Wattenhorf',\n",
    " 'Number of adversaries': 1,\n",
    " 'Number of nodes': 100,\n",
    " 'Probability of error in transaction confirmation': 0.1,\n",
    " 'Transaction dataset': 'poisson',\n",
    " 'Logging enabled': True}"
   ]
  },
  {
   "cell_type": "markdown",
   "metadata": {},
   "source": [
    "### Run experiments"
   ]
  },
  {
   "cell_type": "code",
   "execution_count": 2,
   "metadata": {},
   "outputs": [
    {
     "name": "stdout",
     "output_type": "stream",
     "text": [
      "Parameters:\n",
      "{'longest-chain-with-pool': {'Block pool proposal rate parameter': 0.1,\n",
      "                             'Block size (txs)': 50,\n",
      "                             'Block tree proposal rate parameter': 0.1,\n",
      "                             'Duration (sec)': 300,\n",
      "                             'Fork choice rule': 'longest-chain-with-pool',\n",
      "                             'Logging enabled': True,\n",
      "                             'Network model': 'Decker-Wattenhorf',\n",
      "                             'Number of adversaries': 1,\n",
      "                             'Number of nodes': 100,\n",
      "                             'Probability of error in transaction confirmation': 0.1,\n",
      "                             'Transaction dataset': 'poisson',\n",
      "                             'Transaction rate parameter': 5.0},\n",
      " 'setting-name': 'longest-chain-with-pool'}\n",
      "Parameters:\n",
      "{'longest-chain-with-pool': {'Block pool proposal rate parameter': 0.3111111111111111,\n",
      "                             'Block size (txs)': 50,\n",
      "                             'Block tree proposal rate parameter': 0.1,\n",
      "                             'Duration (sec)': 300,\n",
      "                             'Fork choice rule': 'longest-chain-with-pool',\n",
      "                             'Logging enabled': True,\n",
      "                             'Network model': 'Decker-Wattenhorf',\n",
      "                             'Number of adversaries': 1,\n",
      "                             'Number of nodes': 100,\n",
      "                             'Probability of error in transaction confirmation': 0.1,\n",
      "                             'Transaction dataset': 'poisson',\n",
      "                             'Transaction rate parameter': 15.555555555555555},\n",
      " 'setting-name': 'longest-chain-with-pool'}\n",
      "Parameters:\n",
      "{'longest-chain-with-pool': {'Block pool proposal rate parameter': 0.5222222222222223,\n",
      "                             'Block size (txs)': 50,\n",
      "                             'Block tree proposal rate parameter': 0.1,\n",
      "                             'Duration (sec)': 300,\n",
      "                             'Fork choice rule': 'longest-chain-with-pool',\n",
      "                             'Logging enabled': True,\n",
      "                             'Network model': 'Decker-Wattenhorf',\n",
      "                             'Number of adversaries': 1,\n",
      "                             'Number of nodes': 100,\n",
      "                             'Probability of error in transaction confirmation': 0.1,\n",
      "                             'Transaction dataset': 'poisson',\n",
      "                             'Transaction rate parameter': 26.111111111111114},\n",
      " 'setting-name': 'longest-chain-with-pool'}\n",
      "Parameters:\n",
      "{'longest-chain-with-pool': {'Block pool proposal rate parameter': 0.7333333333333333,\n",
      "                             'Block size (txs)': 50,\n",
      "                             'Block tree proposal rate parameter': 0.1,\n",
      "                             'Duration (sec)': 300,\n",
      "                             'Fork choice rule': 'longest-chain-with-pool',\n",
      "                             'Logging enabled': True,\n",
      "                             'Network model': 'Decker-Wattenhorf',\n",
      "                             'Number of adversaries': 1,\n",
      "                             'Number of nodes': 100,\n",
      "                             'Probability of error in transaction confirmation': 0.1,\n",
      "                             'Transaction dataset': 'poisson',\n",
      "                             'Transaction rate parameter': 36.666666666666664},\n",
      " 'setting-name': 'longest-chain-with-pool'}\n",
      "Parameters:\n",
      "{'longest-chain-with-pool': {'Block pool proposal rate parameter': 0.9444444444444444,\n",
      "                             'Block size (txs)': 50,\n",
      "                             'Block tree proposal rate parameter': 0.1,\n",
      "                             'Duration (sec)': 300,\n",
      "                             'Fork choice rule': 'longest-chain-with-pool',\n",
      "                             'Logging enabled': True,\n",
      "                             'Network model': 'Decker-Wattenhorf',\n",
      "                             'Number of adversaries': 1,\n",
      "                             'Number of nodes': 100,\n",
      "                             'Probability of error in transaction confirmation': 0.1,\n",
      "                             'Transaction dataset': 'poisson',\n",
      "                             'Transaction rate parameter': 47.22222222222222},\n",
      " 'setting-name': 'longest-chain-with-pool'}\n",
      "Parameters:\n",
      "{'longest-chain-with-pool': {'Block pool proposal rate parameter': 1.1555555555555557,\n",
      "                             'Block size (txs)': 50,\n",
      "                             'Block tree proposal rate parameter': 0.1,\n",
      "                             'Duration (sec)': 300,\n",
      "                             'Fork choice rule': 'longest-chain-with-pool',\n",
      "                             'Logging enabled': True,\n",
      "                             'Network model': 'Decker-Wattenhorf',\n",
      "                             'Number of adversaries': 1,\n",
      "                             'Number of nodes': 100,\n",
      "                             'Probability of error in transaction confirmation': 0.1,\n",
      "                             'Transaction dataset': 'poisson',\n",
      "                             'Transaction rate parameter': 57.777777777777786},\n",
      " 'setting-name': 'longest-chain-with-pool'}\n",
      "Parameters:\n",
      "{'longest-chain-with-pool': {'Block pool proposal rate parameter': 1.3666666666666667,\n",
      "                             'Block size (txs)': 50,\n",
      "                             'Block tree proposal rate parameter': 0.1,\n",
      "                             'Duration (sec)': 300,\n",
      "                             'Fork choice rule': 'longest-chain-with-pool',\n",
      "                             'Logging enabled': True,\n",
      "                             'Network model': 'Decker-Wattenhorf',\n",
      "                             'Number of adversaries': 1,\n",
      "                             'Number of nodes': 100,\n",
      "                             'Probability of error in transaction confirmation': 0.1,\n",
      "                             'Transaction dataset': 'poisson',\n",
      "                             'Transaction rate parameter': 68.33333333333333},\n",
      " 'setting-name': 'longest-chain-with-pool'}\n",
      "Parameters:\n",
      "{'longest-chain-with-pool': {'Block pool proposal rate parameter': 1.577777777777778,\n",
      "                             'Block size (txs)': 50,\n",
      "                             'Block tree proposal rate parameter': 0.1,\n",
      "                             'Duration (sec)': 300,\n",
      "                             'Fork choice rule': 'longest-chain-with-pool',\n",
      "                             'Logging enabled': True,\n",
      "                             'Network model': 'Decker-Wattenhorf',\n",
      "                             'Number of adversaries': 1,\n",
      "                             'Number of nodes': 100,\n",
      "                             'Probability of error in transaction confirmation': 0.1,\n",
      "                             'Transaction dataset': 'poisson',\n",
      "                             'Transaction rate parameter': 78.8888888888889},\n",
      " 'setting-name': 'longest-chain-with-pool'}\n",
      "Parameters:\n",
      "{'longest-chain-with-pool': {'Block pool proposal rate parameter': 1.788888888888889,\n",
      "                             'Block size (txs)': 50,\n",
      "                             'Block tree proposal rate parameter': 0.1,\n",
      "                             'Duration (sec)': 300,\n",
      "                             'Fork choice rule': 'longest-chain-with-pool',\n",
      "                             'Logging enabled': True,\n",
      "                             'Network model': 'Decker-Wattenhorf',\n",
      "                             'Number of adversaries': 1,\n",
      "                             'Number of nodes': 100,\n",
      "                             'Probability of error in transaction confirmation': 0.1,\n",
      "                             'Transaction dataset': 'poisson',\n",
      "                             'Transaction rate parameter': 89.44444444444444},\n",
      " 'setting-name': 'longest-chain-with-pool'}\n",
      "Parameters:\n",
      "{'longest-chain-with-pool': {'Block pool proposal rate parameter': 2.0,\n",
      "                             'Block size (txs)': 50,\n",
      "                             'Block tree proposal rate parameter': 0.1,\n",
      "                             'Duration (sec)': 300,\n",
      "                             'Fork choice rule': 'longest-chain-with-pool',\n",
      "                             'Logging enabled': True,\n",
      "                             'Network model': 'Decker-Wattenhorf',\n",
      "                             'Number of adversaries': 1,\n",
      "                             'Number of nodes': 100,\n",
      "                             'Probability of error in transaction confirmation': 0.1,\n",
      "                             'Transaction dataset': 'poisson',\n",
      "                             'Transaction rate parameter': 100.0},\n",
      " 'setting-name': 'longest-chain-with-pool'}\n"
     ]
    },
    {
     "name": "stdout",
     "output_type": "stream",
     "text": [
      "Throughputs:\n",
      " {(0.1, 0.1): [14.19], (0.1, 0.3111111111111111): [27.74], (0.1, 0.5222222222222223): [42.1], (0.1, 0.7333333333333333): [49.33], (0.1, 0.9444444444444444): [53.76], (0.1, 1.1555555555555557): [64.19], (0.1, 1.3666666666666667): [64.3], (0.1, 1.577777777777778): [72.94], (0.1, 1.788888888888889): [75.79], (0.1, 2.0): [95.84]}\n",
      "Main Chain Arrival Latencies:\n",
      " {(0.1, 0.1): [12.13287082571645], (0.1, 0.3111111111111111): [62.11645236360334], (0.1, 0.5222222222222223): [87.02117912368821], (0.1, 0.7333333333333333): [84.97453517657988], (0.1, 0.9444444444444444): [95.6149940506835], (0.1, 1.1555555555555557): [99.3286016880665], (0.1, 1.3666666666666667): [95.37433550809584], (0.1, 1.577777777777778): [97.60665713353106], (0.1, 1.788888888888889): [106.3329967823477], (0.1, 2.0): [109.80212732217936]}\n",
      "Pool Block Latencies:\n",
      " {(0.1, 0.1): [14.8894994806486], (0.1, 0.3111111111111111): [65.60819731381072], (0.1, 0.5222222222222223): [85.0693620780258], (0.1, 0.7333333333333333): [87.05385497633574], (0.1, 0.9444444444444444): [106.62389886971387], (0.1, 1.1555555555555557): [98.75861906117113], (0.1, 1.3666666666666667): [96.56565234516958], (0.1, 1.577777777777778): [99.56591013812968], (0.1, 1.788888888888889): [109.06195670894779], (0.1, 2.0): [110.6930308693356]}\n",
      "Finalization Latencies:\n",
      " {(0.1, 0.1): [4.453672074143031], (0.1, 0.3111111111111111): [4.185787293434887], (0.1, 0.5222222222222223): [3.0286607866710957], (0.1, 0.7333333333333333): [3.56038794274153], (0.1, 0.9444444444444444): [3.4469102574652806], (0.1, 1.1555555555555557): [3.147714091210124], (0.1, 1.3666666666666667): [3.0509330456554524], (0.1, 1.577777777777778): [1.9691498969202303], (0.1, 1.788888888888889): [3.1526760170080825], (0.1, 2.0): [3.5349360969504295]}\n"
     ]
    }
   ],
   "source": [
    "import os, shutil, pprint, glob, csv\n",
    "\n",
    "pp = pprint.PrettyPrinter()\n",
    "os.system('touch longest_chain_with_pool.json')\n",
    "os.chdir('..')\n",
    "\n",
    "import metrics\n",
    "\n",
    "throughputs = {}\n",
    "main_chain_arrival_latencies = {}\n",
    "pool_block_latencies = {}\n",
    "finalization_latencies = {}\n",
    "hist_data = {}\n",
    "\n",
    "for i in range(0, num_tests):\n",
    "    tree_rate = tree_proposal_rates[i]\n",
    "    pool_rate = pool_proposal_rates[i]\n",
    "    params['Block tree proposal rate parameter'] = tree_rate\n",
    "    params['Block pool proposal rate parameter'] = pool_rate\n",
    "    params['Transaction rate parameter'] = pool_rate*int(params['Block size (txs)'])\n",
    "    params['Duration (sec)'] = 300\n",
    "    d = {}\n",
    "    d['setting-name'] = f'longest-chain-with-pool'\n",
    "    d[f'longest-chain-with-pool'] = params\n",
    "    print('Parameters:')\n",
    "    pp.pprint(d)\n",
    "    with open('results/longest_chain_with_pool.json', 'w+') as outfile:\n",
    "        json.dump(d, outfile)\n",
    "    throughputs[(tree_rate, pool_rate)] = []\n",
    "    main_chain_arrival_latencies[(tree_rate, pool_rate)] = []\n",
    "    pool_block_latencies[(tree_rate, pool_rate)] = []\n",
    "    finalization_latencies[(tree_rate, pool_rate)] = []\n",
    "    for trial in range(0, n_trials):\n",
    "        os.system('python3 main.py -f results/longest_chain_with_pool.json')\n",
    "        throughput = metrics.compute_throughput()\n",
    "        avg_main_chain_arrival_latency, avg_pool_block_latency, avg_finalization_latency = metrics.compute_latency()\n",
    "        throughputs[(tree_rate, pool_rate)].append(throughput)\n",
    "        main_chain_arrival_latencies[(tree_rate, pool_rate)].append(avg_main_chain_arrival_latency)\n",
    "        pool_block_latencies[(tree_rate, pool_rate)].append(avg_pool_block_latency)\n",
    "        finalization_latencies[(tree_rate, pool_rate)].append(avg_finalization_latency)\n",
    "    \n",
    "os.chdir('results/')\n",
    "os.remove('longest_chain_with_pool.json')\n",
    "print('Throughputs:\\n', throughputs)\n",
    "print('Main Chain Arrival Latencies:\\n', main_chain_arrival_latencies)\n",
    "print('Pool Block Latencies:\\n', pool_block_latencies)\n",
    "print('Finalization Latencies:\\n', finalization_latencies)"
   ]
  },
  {
   "cell_type": "markdown",
   "metadata": {},
   "source": [
    "### Compute Averages\n",
    "\n",
    "Average throughput is the number of finalized transactions divided by the duration of the experiment.\n",
    "\n",
    "Average main chain latency is the time for a transaction to be added to the global blocktree - the timestamp the transaction was generated.\n",
    "\n",
    "Average pool block latency is the time for a transaction to be added to a pool block AND referenced by a tree block.\n",
    "\n",
    "Average finalization latency is the time for a transaction to be k blocks deep - to be added to the global blocktree."
   ]
  },
  {
   "cell_type": "code",
   "execution_count": 3,
   "metadata": {},
   "outputs": [
    {
     "name": "stdout",
     "output_type": "stream",
     "text": [
      "Average Throughputs: {(0.1, 0.1): 14.19, (0.1, 0.3111111111111111): 27.74, (0.1, 0.5222222222222223): 42.1, (0.1, 0.7333333333333333): 49.33, (0.1, 0.9444444444444444): 53.76, (0.1, 1.1555555555555557): 64.19, (0.1, 1.3666666666666667): 64.3, (0.1, 1.577777777777778): 72.94, (0.1, 1.788888888888889): 75.79, (0.1, 2.0): 95.84}\n",
      "Average Main Chain Arrival Latency: {(0.1, 0.1): 12.13287082571645, (0.1, 0.3111111111111111): 62.11645236360334, (0.1, 0.5222222222222223): 87.02117912368821, (0.1, 0.7333333333333333): 84.97453517657988, (0.1, 0.9444444444444444): 95.6149940506835, (0.1, 1.1555555555555557): 99.3286016880665, (0.1, 1.3666666666666667): 95.37433550809584, (0.1, 1.577777777777778): 97.60665713353106, (0.1, 1.788888888888889): 106.3329967823477, (0.1, 2.0): 109.80212732217936}\n",
      "Average Main Chain Arrival Latency: {(0.1, 0.1): 12.13287082571645, (0.1, 0.3111111111111111): 62.11645236360334, (0.1, 0.5222222222222223): 87.02117912368821, (0.1, 0.7333333333333333): 84.97453517657988, (0.1, 0.9444444444444444): 95.6149940506835, (0.1, 1.1555555555555557): 99.3286016880665, (0.1, 1.3666666666666667): 95.37433550809584, (0.1, 1.577777777777778): 97.60665713353106, (0.1, 1.788888888888889): 106.3329967823477, (0.1, 2.0): 109.80212732217936}\n",
      "Average Finalization Latency: {(0.1, 0.1): 4.453672074143031, (0.1, 0.3111111111111111): 4.185787293434887, (0.1, 0.5222222222222223): 3.0286607866710957, (0.1, 0.7333333333333333): 3.56038794274153, (0.1, 0.9444444444444444): 3.4469102574652806, (0.1, 1.1555555555555557): 3.147714091210124, (0.1, 1.3666666666666667): 3.0509330456554524, (0.1, 1.577777777777778): 1.9691498969202303, (0.1, 1.788888888888889): 3.1526760170080825, (0.1, 2.0): 3.5349360969504295}\n"
     ]
    }
   ],
   "source": [
    "avg_throughputs = {}\n",
    "for rate in throughputs:\n",
    "    avg_throughputs[rate] = sum(throughputs[rate])/len(throughputs[rate])\n",
    "\n",
    "print(\"Average Throughputs:\", avg_throughputs)\n",
    "    \n",
    "avg_main_chain_latencies = {}\n",
    "for rate in main_chain_arrival_latencies:\n",
    "    avg_main_chain_latencies[rate] = sum(main_chain_arrival_latencies[rate])/len(main_chain_arrival_latencies[rate])\n",
    "\n",
    "print(\"Average Main Chain Arrival Latency:\", avg_main_chain_latencies)\n",
    "\n",
    "avg_pool_block_latencies = {}\n",
    "for rate in pool_block_latencies:\n",
    "    avg_pool_block_latencies[rate] = sum(pool_block_latencies[rate])/len(pool_block_latencies[rate])\n",
    "\n",
    "print(\"Average Main Chain Arrival Latency:\", avg_main_chain_latencies)\n",
    "\n",
    "avg_finalization_latencies = {}\n",
    "for rate in finalization_latencies:\n",
    "    avg_finalization_latencies[rate] = sum(finalization_latencies[rate])/len(finalization_latencies[rate])\n",
    "    \n",
    "print(\"Average Finalization Latency:\", avg_finalization_latencies)"
   ]
  },
  {
   "cell_type": "markdown",
   "metadata": {},
   "source": [
    "### Extract Finalization Depth and Delta for Blocks"
   ]
  },
  {
   "cell_type": "code",
   "execution_count": 4,
   "metadata": {},
   "outputs": [],
   "source": [
    "import csv\n",
    "with open('../logs/stats.csv', newline='') as csvfile:\n",
    "    reader = csv.reader(csvfile, delimiter=',')\n",
    "    for row in reader:\n",
    "        if row[0]=='Finalization depth':\n",
    "            k = int(row[1])\n",
    "        elif row[0]=='Average network latency for blocks (sec)':\n",
    "            delta = float(row[1])"
   ]
  },
  {
   "cell_type": "markdown",
   "metadata": {},
   "source": [
    "### Plotting the results"
   ]
  },
  {
   "cell_type": "code",
   "execution_count": 5,
   "metadata": {},
   "outputs": [],
   "source": [
    "import matplotlib.pylab as plt\n",
    "x = [key[1] for key in avg_main_chain_latencies.keys()]\n",
    "y1 = avg_throughputs.values()\n",
    "y2 = avg_main_chain_latencies.values()\n",
    "y3 = avg_pool_block_latencies.values()\n",
    "y4 = avg_finalization_latencies.values()"
   ]
  },
  {
   "cell_type": "code",
   "execution_count": 6,
   "metadata": {},
   "outputs": [
    {
     "data": {
      "image/png": "[encoded data removed]",
      "text/plain": [
       "<Figure size 432x288 with 1 Axes>"
      ]
     },
     "metadata": {
      "needs_background": "light"
     },
     "output_type": "display_data"
    }
   ],
   "source": [
    "plt.xlabel('Pool Block Proposal Rate (blocks/sec)')\n",
    "plt.ylabel('Throughput (txs/sec)')\n",
    "plt.title(f'Transaction Throughput vs. Pool Block Proposal Rate (k={k}, delta={delta})')\n",
    "plt.grid(True)\n",
    "\n",
    "plt.plot(x, y1, label='observed rate')\n",
    "plt.legend()\n",
    "plt.show()"
   ]
  },
  {
   "cell_type": "code",
   "execution_count": 7,
   "metadata": {},
   "outputs": [
    {
     "data": {
      "image/png": "[encoded data removed]",
      "text/plain": [
       "<Figure size 432x288 with 1 Axes>"
      ]
     },
     "metadata": {
      "needs_background": "light"
     },
     "output_type": "display_data"
    }
   ],
   "source": [
    "plt.xlabel('Pool Block Proposal Rate (blocks/sec)')\n",
    "plt.ylabel('Main Chain Arrival Latency (sec)')\n",
    "plt.title(f'Main Chain Arrival Latency vs. Pool Block Proposal Rate (k={k}, delta={delta})')\n",
    "plt.grid(True)\n",
    "\n",
    "plt.plot(x, y2, label='observed rate')\n",
    "plt.legend()\n",
    "plt.show()"
   ]
  },
  {
   "cell_type": "code",
   "execution_count": 8,
   "metadata": {},
   "outputs": [
    {
     "data": {
      "image/png": "[encoded data removed]",
      "text/plain": [
       "<Figure size 432x288 with 1 Axes>"
      ]
     },
     "metadata": {
      "needs_background": "light"
     },
     "output_type": "display_data"
    }
   ],
   "source": [
    "plt.xlabel('Pool Block Proposal Rate (blocks/sec)')\n",
    "plt.ylabel('Pool Block Latency (sec)')\n",
    "plt.title(f'Pool Block Latency vs. Pool Block Proposal Rate (k={k}, delta={delta})')\n",
    "plt.grid(True)\n",
    "\n",
    "plt.plot(x, y2, label='observed rate')\n",
    "plt.legend()\n",
    "plt.show()"
   ]
  },
  {
   "cell_type": "code",
   "execution_count": 9,
   "metadata": {},
   "outputs": [
    {
     "data": {
      "image/png": "[encoded data removed]",
      "text/plain": [
       "<Figure size 432x288 with 1 Axes>"
      ]
     },
     "metadata": {
      "needs_background": "light"
     },
     "output_type": "display_data"
    }
   ],
   "source": [
    "plt.xlabel('Pool Block Proposal Rate (blocks/sec)')\n",
    "plt.ylabel('Finalization Latency (sec)')\n",
    "plt.title(f'Finalization Latency vs. Pool Block Proposal Rate (k={k}, delta={delta})')\n",
    "plt.grid(True)\n",
    "plt.plot(x, y4, label='observed rate')\n",
    "plt.legend()\n",
    "plt.show()"
   ]
  },
  {
   "cell_type": "markdown",
   "metadata": {},
   "source": [
    "### Results\n",
    "\n",
    "We can look through the logs of the blocks to understand the process a block undergoes:"
   ]
  },
  {
   "cell_type": "code",
   "execution_count": 10,
   "metadata": {},
   "outputs": [
    {
     "name": "stdout",
     "output_type": "stream",
     "text": [
      "id,parent id,proposal timestamp,pool block timestamp,finalization timestamp,depth,finalized,transactions\n",
      "\n",
      "Genesis,None,0,None,9.233690634670383,0,True,\n",
      "\n",
      "40461,Genesis,6.938015355040456,None,8.06740253920255,1,True,625898c35f;456393671e;568d397822;56d85653e9;1f3318d8f1;725ab0af35;aab621a2c5;7037e2c42d;d94331b853;729b86ecf1;f33ad8cdc4;1cbb19f3ea;a098e41c4b;614f0db0f5;cdb604f37a;b9e5449fe3;c5a3544a2b;67e83a58e7;24c00f6cd6;caa598ca9e;c46ac7f4d3;4cf0472eab;23bd1868a2;4a404a9457;773b3de677;2bb01d57f0;7f9d18fa9c;452f3d03fd;1054e9de0b;6dcc481938;042a34e433;e6c1c149e7;86b753fee6;5176009f49;4e758111bb;dfd0fd0faa;ad38baad74;69846c3507;faf0fa2d2c;83abc76ecf;dc6ad6cf45;dde28f38b3;8d4d73ec78;b62eacd682;622e0f6f0b;a4ce7b601d;424870af77;858a21308d;df1e57a343;56f431a214;b4a38894e0\n",
      "\n",
      "53c23,None,9.233690634670383,,8.06740253920255,NA,True,\n",
      "\n",
      "5af9a,None,1.4673089714624004,,8.06740253920255,NA,True,\n",
      "\n",
      "47e0a,None,2.03643145743834,,8.06740253920255,NA,True,\n",
      "\n",
      "e2668,None,9.354911983025536,,8.06740253920255,NA,True,9be693d3c6;f40824e2d3;ecfcd78fe5;da41a834d7;6d0f06ed89;a503daf0fd;1f3318d8f1;725ab0af35;aab621a2c5;7037e2c42d;d94331b853;729b86ecf1;f33ad8cdc4;1cbb19f3ea;a098e41c4b;614f0db0f5;cdb604f37a;b9e5449fe3;c5a3544a2b;67e83a58e7;24c00f6cd6;caa598ca9e;c46ac7f4d3;4cf0472eab;23bd1868a2;4a404a9457;773b3de677;2bb01d57f0;7f9d18fa9c;452f3d03fd;1054e9de0b;6dcc481938;042a34e433;e6c1c149e7;86b753fee6;5176009f49;4e758111bb;dfd0fd0faa;ad38baad74;69846c3507;faf0fa2d2c;83abc76ecf\n",
      "\n",
      "f449d,None,6.864798601179829,,8.06740253920255,NA,True,9be693d3c6;f40824e2d3;ecfcd78fe5;da41a834d7;6d0f06ed89;a503daf0fd;1f3318d8f1;725ab0af35;aab621a2c5;7037e2c42d;d94331b853;729b86ecf1;f33ad8cdc4;1cbb19f3ea;a098e41c4b;614f0db0f5;cdb604f37a;b9e5449fe3;c5a3544a2b;67e83a58e7;24c00f6cd6;caa598ca9e;c46ac7f4d3;4cf0472eab;23bd1868a2;4a404a9457;773b3de677;2bb01d57f0;7f9d18fa9c;452f3d03fd;1054e9de0b;6dcc481938;042a34e433;e6c1c149e7;86b753fee6;5176009f49;4e758111bb;dfd0fd0faa;ad38baad74;69846c3507;faf0fa2d2c;83abc76ecf\n",
      "\n",
      "d7ce4,None,4.472822683564736,,8.06740253920255,NA,True,7f9d18fa9c;472a6b77e8\n",
      "\n",
      "97bf7,None,7.723362257572662,,8.06740253920255,NA,True,91454cbe7b;5662ad6959\n",
      "\n"
     ]
    }
   ],
   "source": [
    "with open('../logs/blocks.csv') as f:\n",
    "    for line in f.readlines()[:10]:\n",
    "        print(line)"
   ]
  },
  {
   "cell_type": "markdown",
   "metadata": {},
   "source": [
    "Additionally, we can visualize the results to see the global blocktree. In the following image, blue nodes indicate tree blocks on the main chain and yellow blocks indicate tree blocks\n",
    "off the main chain (i.e. 'orphan blocks').\n",
    "![title](../logs/blocktree.png)"
   ]
  },
  {
   "cell_type": "markdown",
   "metadata": {},
   "source": [
    "We can look through the logs to understand the process a transaction undergoes. A transaction can\n",
    "\n",
    "1) Be a pool or a tree transaction\n",
    "2) Be on the main chain or not on the main chain\n",
    "3) Be finalized or not finalized\n",
    "\n",
    "Hence, we will analyze each of the following cases:\n",
    "1) A pool transaction on the main chain that is finalized\n",
    "2) A pool transaction not on the main chain\n",
    "3) A tree transaction on the main chain that is finalized\n",
    "4) A tree transaction on the main chain that is not finalized\n",
    "5) A tree transaction not on the main chain"
   ]
  },
  {
   "cell_type": "code",
   "execution_count": 11,
   "metadata": {},
   "outputs": [
    {
     "name": "stdout",
     "output_type": "stream",
     "text": [
      "OrderedDict([('id', '1f3318d8f1'), ('source node', '38'), ('generated timestamp', '0.1251171263746522'), ('main chain arrival timestamp', '6.938015355040456'), ('pool block timestamp', '6.938015355040456'), ('finalization timestamp', '8.06740253920255')])\n",
      "OrderedDict([('id', '725ab0af35'), ('source node', '98'), ('generated timestamp', '1.062503483499795'), ('main chain arrival timestamp', '6.938015355040456'), ('pool block timestamp', '6.938015355040456'), ('finalization timestamp', '8.06740253920255')])\n",
      "OrderedDict([('id', 'aab621a2c5'), ('source node', '19'), ('generated timestamp', '0.5020868178099076'), ('main chain arrival timestamp', '6.938015355040456'), ('pool block timestamp', '6.938015355040456'), ('finalization timestamp', '8.06740253920255')])\n",
      "OrderedDict([('id', '7037e2c42d'), ('source node', '41'), ('generated timestamp', '0.07188215477049022'), ('main chain arrival timestamp', '6.938015355040456'), ('pool block timestamp', '6.938015355040456'), ('finalization timestamp', '8.06740253920255')])\n",
      "OrderedDict([('id', 'd94331b853'), ('source node', '43'), ('generated timestamp', '0.4715254550673793'), ('main chain arrival timestamp', '6.938015355040456'), ('pool block timestamp', '6.938015355040456'), ('finalization timestamp', '8.06740253920255')])\n",
      "OrderedDict([('id', '729b86ecf1'), ('source node', '11'), ('generated timestamp', '2.7482026889026376'), ('main chain arrival timestamp', '6.938015355040456'), ('pool block timestamp', '6.938015355040456'), ('finalization timestamp', '8.06740253920255')])\n",
      "OrderedDict([('id', 'f33ad8cdc4'), ('source node', '97'), ('generated timestamp', '1.2179671119904976'), ('main chain arrival timestamp', '6.938015355040456'), ('pool block timestamp', '6.938015355040456'), ('finalization timestamp', '8.06740253920255')])\n",
      "OrderedDict([('id', '1cbb19f3ea'), ('source node', '38'), ('generated timestamp', '1.1483880538843891'), ('main chain arrival timestamp', '6.938015355040456'), ('pool block timestamp', '6.938015355040456'), ('finalization timestamp', '8.06740253920255')])\n",
      "OrderedDict([('id', 'a098e41c4b'), ('source node', '1'), ('generated timestamp', '2.7974940070986287'), ('main chain arrival timestamp', '6.938015355040456'), ('pool block timestamp', '6.938015355040456'), ('finalization timestamp', '8.06740253920255')])\n",
      "OrderedDict([('id', '614f0db0f5'), ('source node', '58'), ('generated timestamp', '1.6409911857414992'), ('main chain arrival timestamp', '6.938015355040456'), ('pool block timestamp', '6.938015355040456'), ('finalization timestamp', '8.06740253920255')])\n"
     ]
    }
   ],
   "source": [
    "import csv\n",
    "\n",
    "finalized_main_chain_pool_tx = None\n",
    "not_on_main_chain_pool_tx = None\n",
    "finalized_main_chain_tree_tx = None\n",
    "unfinalized_main_chain_tree_tx = None\n",
    "not_on_main_chain_tree_tx = None\n",
    "\n",
    "with open('../logs/transactions.csv', newline='') as csvfile:\n",
    "    reader = csv.DictReader(csvfile)\n",
    "    row_count = 0\n",
    "    for row in reader:\n",
    "        if row['finalization timestamp']!='None'and row['main chain arrival timestamp']!='None' and row['pool block timestamp']!='None' and finalized_main_chain_pool_tx==None:\n",
    "            finalized_main_chain_pool_tx = row\n",
    "        elif row['main chain arrival timestamp']=='None' and row['pool block timestamp']!='None' and not_on_main_chain_pool_tx==None:\n",
    "            not_on_main_chain_pool_tx = row\n",
    "        elif row['finalization timestamp']!='None' and row['main chain arrival timestamp']!='None' and row['pool block timestamp']=='None' and finalized_main_chain_tree_tx==None:\n",
    "            finalized_main_chain_tree_tx = row\n",
    "        elif row['finalization timestamp']=='None' and row['main chain arrival timestamp']!='None' and row['pool block timestamp']=='None' and unfinalized_main_chain_tree_tx==None:\n",
    "            unfinalized_main_chain_tree_tx = row\n",
    "        elif row['main chain arrival timestamp']=='None' and row['pool block timestamp']=='None' and not_on_main_chain_tree_tx==None: \n",
    "            not_on_main_chain_tree_tx = row\n",
    "        if row_count<10:\n",
    "            print(row)\n",
    "        row_count+=1"
   ]
  },
  {
   "cell_type": "code",
   "execution_count": 12,
   "metadata": {},
   "outputs": [
    {
     "name": "stdout",
     "output_type": "stream",
     "text": [
      "Finalized Pool Transaction:\n",
      "OrderedDict([('id', '1f3318d8f1'), ('source node', '38'), ('generated timestamp', '0.1251171263746522'), ('main chain arrival timestamp', '6.938015355040456'), ('pool block timestamp', '6.938015355040456'), ('finalization timestamp', '8.06740253920255')])\n",
      "Pool Transaction Not on Main Chain:\n",
      "None\n",
      "Finalized Tree Transaction:\n",
      "OrderedDict([('id', '625898c35f'), ('source node', '95'), ('generated timestamp', '0.662167284247551'), ('main chain arrival timestamp', '6.938015355040456'), ('pool block timestamp', 'None'), ('finalization timestamp', '8.06740253920255')])\n",
      "Unfinalized Tree Transaction:\n",
      "None\n",
      "Tree Transaction Not on Main Chain:\n",
      "OrderedDict([('id', 'e9295ed4ff'), ('source node', '85'), ('generated timestamp', '63.22387718066091'), ('main chain arrival timestamp', 'None'), ('pool block timestamp', 'None'), ('finalization timestamp', 'None')])\n"
     ]
    }
   ],
   "source": [
    "print(f'Finalized Pool Transaction:\\n{finalized_main_chain_pool_tx}')\n",
    "print(f'Pool Transaction Not on Main Chain:\\n{not_on_main_chain_pool_tx}')\n",
    "print(f'Finalized Tree Transaction:\\n{finalized_main_chain_tree_tx}')\n",
    "print(f'Unfinalized Tree Transaction:\\n{unfinalized_main_chain_tree_tx}')\n",
    "print(f'Tree Transaction Not on Main Chain:\\n{not_on_main_chain_tree_tx}')\n"
   ]
  },
  {
   "cell_type": "markdown",
   "metadata": {},
   "source": [
    "Let's consider the first case of the finalized pool transaction. If we look into `blocks.csv`,\n",
    "we should be able to see that the transaction's main chain arrival timestamp and pool block timestamp\n",
    "should be equivalent to a tree block's proposal time. Additionally, the finalization time should be\n",
    "the tree block's finalization time."
   ]
  },
  {
   "cell_type": "code",
   "execution_count": 13,
   "metadata": {},
   "outputs": [
    {
     "name": "stdout",
     "output_type": "stream",
     "text": [
      "OrderedDict([('id', '40461'), ('parent id', 'Genesis'), ('proposal timestamp', '6.938015355040456'), ('pool block timestamp', 'None'), ('finalization timestamp', '8.06740253920255'), ('depth', '1'), ('finalized', 'True'), ('transactions', '625898c35f;456393671e;568d397822;56d85653e9;1f3318d8f1;725ab0af35;aab621a2c5;7037e2c42d;d94331b853;729b86ecf1;f33ad8cdc4;1cbb19f3ea;a098e41c4b;614f0db0f5;cdb604f37a;b9e5449fe3;c5a3544a2b;67e83a58e7;24c00f6cd6;caa598ca9e;c46ac7f4d3;4cf0472eab;23bd1868a2;4a404a9457;773b3de677;2bb01d57f0;7f9d18fa9c;452f3d03fd;1054e9de0b;6dcc481938;042a34e433;e6c1c149e7;86b753fee6;5176009f49;4e758111bb;dfd0fd0faa;ad38baad74;69846c3507;faf0fa2d2c;83abc76ecf;dc6ad6cf45;dde28f38b3;8d4d73ec78;b62eacd682;622e0f6f0b;a4ce7b601d;424870af77;858a21308d;df1e57a343;56f431a214;b4a38894e0')])\n"
     ]
    }
   ],
   "source": [
    "with open('../logs/blocks.csv', newline='') as csvfile:\n",
    "    reader = csv.DictReader(csvfile)\n",
    "    if finalized_main_chain_pool_tx!=None:\n",
    "        for row in reader:\n",
    "            if finalized_main_chain_pool_tx['id'] in row['transactions']:\n",
    "                print(row)\n",
    "                break"
   ]
  },
  {
   "cell_type": "markdown",
   "metadata": {},
   "source": [
    "Now let's consider the second case of the pool transaction not on the main chain.\n",
    "We should see that it belongs to a block that is not finalized and not on the main chain, indicated\n",
    "by the fact the block's finalization timestamp and main chain arrival timestamp will both be `'None'`. However, the pool block timestamp should be equal to the block's proposal timestamp."
   ]
  },
  {
   "cell_type": "code",
   "execution_count": 14,
   "metadata": {},
   "outputs": [],
   "source": [
    "with open('../logs/blocks.csv', newline='') as csvfile:\n",
    "    reader = csv.DictReader(csvfile)\n",
    "    if not_on_main_chain_pool_tx!=None:\n",
    "        for row in reader:\n",
    "            if not_on_main_chain_pool_tx['id'] in row['transactions']:\n",
    "                print(row)\n",
    "                break"
   ]
  },
  {
   "cell_type": "markdown",
   "metadata": {},
   "source": [
    "The third case is the tree finalized tree transaction on the main chain. We should see that it\n",
    "belongs to a block with equal finalization and main chain arrival timestamps, but a pool block timestamp equal to `'None'`."
   ]
  },
  {
   "cell_type": "code",
   "execution_count": 15,
   "metadata": {},
   "outputs": [
    {
     "name": "stdout",
     "output_type": "stream",
     "text": [
      "OrderedDict([('id', '40461'), ('parent id', 'Genesis'), ('proposal timestamp', '6.938015355040456'), ('pool block timestamp', 'None'), ('finalization timestamp', '8.06740253920255'), ('depth', '1'), ('finalized', 'True'), ('transactions', '625898c35f;456393671e;568d397822;56d85653e9;1f3318d8f1;725ab0af35;aab621a2c5;7037e2c42d;d94331b853;729b86ecf1;f33ad8cdc4;1cbb19f3ea;a098e41c4b;614f0db0f5;cdb604f37a;b9e5449fe3;c5a3544a2b;67e83a58e7;24c00f6cd6;caa598ca9e;c46ac7f4d3;4cf0472eab;23bd1868a2;4a404a9457;773b3de677;2bb01d57f0;7f9d18fa9c;452f3d03fd;1054e9de0b;6dcc481938;042a34e433;e6c1c149e7;86b753fee6;5176009f49;4e758111bb;dfd0fd0faa;ad38baad74;69846c3507;faf0fa2d2c;83abc76ecf;dc6ad6cf45;dde28f38b3;8d4d73ec78;b62eacd682;622e0f6f0b;a4ce7b601d;424870af77;858a21308d;df1e57a343;56f431a214;b4a38894e0')])\n"
     ]
    }
   ],
   "source": [
    "with open('../logs/blocks.csv', newline='') as csvfile:\n",
    "    reader = csv.DictReader(csvfile)\n",
    "    if finalized_main_chain_tree_tx!=None:\n",
    "        for row in reader:\n",
    "            if finalized_main_chain_tree_tx['id'] in row['transactions']:\n",
    "                print(row)\n",
    "                break"
   ]
  },
  {
   "cell_type": "markdown",
   "metadata": {},
   "source": [
    "The fourth case is the unfinalized tree transaction on the main chain. We should see that it\n",
    "belongs to a block with equal main chain arrival timestamp, but pool block and finalization\n",
    "timestamps equal to `'None'`."
   ]
  },
  {
   "cell_type": "code",
   "execution_count": 16,
   "metadata": {},
   "outputs": [],
   "source": [
    "with open('../logs/blocks.csv', newline='') as csvfile:\n",
    "    reader = csv.DictReader(csvfile)\n",
    "    if unfinalized_main_chain_tree_tx!=None:\n",
    "        for row in reader:\n",
    "            if unfinalized_main_chain_tree_tx['id'] in row['transactions']:\n",
    "                print(row)\n",
    "                break"
   ]
  },
  {
   "cell_type": "markdown",
   "metadata": {},
   "source": [
    "The final case is the tree transaction not on the main chain. The block is not used for any statistics and is not logged."
   ]
  },
  {
   "cell_type": "code",
   "execution_count": null,
   "metadata": {},
   "outputs": [],
   "source": []
  }
 ],
 "metadata": {
  "kernelspec": {
   "display_name": "Python 3",
   "language": "python",
   "name": "python3"
  },
  "language_info": {
   "codemirror_mode": {
    "name": "ipython",
    "version": 3
   },
   "file_extension": ".py",
   "mimetype": "text/x-python",
   "name": "python",
   "nbconvert_exporter": "python",
   "pygments_lexer": "ipython3",
   "version": "3.7.0"
  }
 },
 "nbformat": 4,
 "nbformat_minor": 2
}
