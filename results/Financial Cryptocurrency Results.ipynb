{
 "cells": [
  {
   "cell_type": "markdown",
   "metadata": {},
   "source": [
    "## Introduction\n",
    "\n",
    "### Definitions\n",
    "\n",
    "##### Global Blocktree\n",
    "A global tree maintained during the simulation used to determine certain statistics\n",
    "\n",
    "##### Node Tree\n",
    "A Node has a tree structure consisting of tree blocks just like in the Longest Chain Protocol.\n",
    "\n",
    "##### Main Chain\n",
    "On a tree structure, the main chain is defined in this protocol as the Longest Chain from the Genesis block to a leaf block.\n",
    "\n",
    "##### Node Pool\n",
    "A node also has a pool structure consisting of pool blocks. \n",
    "\n",
    "##### Tree Block\n",
    "A block on the global blocktree or in a node's local tree.\n",
    "\n",
    "##### Pool Block\n",
    "A block in a node's local pool. The block may or may not be referenced by the next tree block proposed by the node.\n",
    "\n",
    "##### Finalized\n",
    "A block is considered finalized in two cases:\n",
    "\n",
    "1) If in a tree block - if the block is `k` blocks deep on the main chain\n",
    "2) If in a pool block - if the pool block is referenced by a tree block that is finalized\n",
    "\n",
    "A transaction is considered finalized if it is in a finalized block"
   ]
  },
  {
   "cell_type": "markdown",
   "metadata": {},
   "source": [
    "## Simulation Description\n",
    "\n",
    "We measure multiple metrics to understand a transactions behavior during the simulation. \n",
    "\n",
    "#### Throughput\n",
    "How many of the transactions generated actually get finalized in the simulation? \n",
    "\n",
    "#### Pool Block Arrival Latency\n",
    "How long does it take for a transaction to make it into a pool block and get referenced?\n",
    "\n",
    "#### Main Chain Arrival Latency\n",
    "How long does it take for a transaction to make it onto the main chain?\n",
    "\n",
    "#### Finalization Latency\n",
    "How long does it take for a transaction to be finalized once it arrives on the main chain?\n"
   ]
  },
  {
   "cell_type": "markdown",
   "metadata": {},
   "source": [
    "### Experimental Parameters"
   ]
  },
  {
   "cell_type": "code",
   "execution_count": 1,
   "metadata": {},
   "outputs": [],
   "source": [
    "import numpy as np\n",
    "%matplotlib inline\n",
    "\n",
    "num_tests = 10\n",
    "\n",
    "tree_proposal_rates = np.linspace(0.1, 0.1, num_tests)\n",
    "pool_proposal_rates = np.linspace(0.1, 2, num_tests)\n",
    "n_trials = 1\n",
    "import json\n",
    "\n",
    "# Create experimental parameters and write to JSON file\n",
    "\n",
    "params = {'Block tree proposal rate parameter': 0,\n",
    " 'Block pool proposal rate parameter': 0,\n",
    " 'Block size (txs)': 50,\n",
    " 'Duration (sec)': 0,\n",
    " 'Fork choice rule': 'longest-chain-with-pool',\n",
    " 'Network model': 'Decker-Wattenhorf',\n",
    " 'Number of adversaries': 1,\n",
    " 'Number of nodes': 100,\n",
    " 'Probability of error in transaction confirmation': 0.1,\n",
    " 'Transaction dataset': 'poisson',\n",
    " 'Logging enabled': True}"
   ]
  },
  {
   "cell_type": "markdown",
   "metadata": {},
   "source": [
    "### Run experiments"
   ]
  },
  {
   "cell_type": "code",
   "execution_count": 2,
   "metadata": {},
   "outputs": [
    {
     "name": "stdout",
     "output_type": "stream",
     "text": [
      "Parameters:\n",
      "{'longest-chain-with-pool': {'Block pool proposal rate parameter': 0.1,\n",
      "                             'Block size (txs)': 50,\n",
      "                             'Block tree proposal rate parameter': 0.1,\n",
      "                             'Duration (sec)': 1000,\n",
      "                             'Fork choice rule': 'longest-chain-with-pool',\n",
      "                             'Logging enabled': True,\n",
      "                             'Network model': 'Decker-Wattenhorf',\n",
      "                             'Number of adversaries': 1,\n",
      "                             'Number of nodes': 100,\n",
      "                             'Probability of error in transaction confirmation': 0.1,\n",
      "                             'Transaction dataset': 'poisson'},\n",
      " 'setting-name': 'longest-chain-with-pool'}\n",
      "Parameters:\n",
      "{'longest-chain-with-pool': {'Block pool proposal rate parameter': 0.3111111111111111,\n",
      "                             'Block size (txs)': 50,\n",
      "                             'Block tree proposal rate parameter': 0.1,\n",
      "                             'Duration (sec)': 1000,\n",
      "                             'Fork choice rule': 'longest-chain-with-pool',\n",
      "                             'Logging enabled': True,\n",
      "                             'Network model': 'Decker-Wattenhorf',\n",
      "                             'Number of adversaries': 1,\n",
      "                             'Number of nodes': 100,\n",
      "                             'Probability of error in transaction confirmation': 0.1,\n",
      "                             'Transaction dataset': 'poisson'},\n",
      " 'setting-name': 'longest-chain-with-pool'}\n",
      "Parameters:\n",
      "{'longest-chain-with-pool': {'Block pool proposal rate parameter': 0.5222222222222223,\n",
      "                             'Block size (txs)': 50,\n",
      "                             'Block tree proposal rate parameter': 0.1,\n",
      "                             'Duration (sec)': 1000,\n",
      "                             'Fork choice rule': 'longest-chain-with-pool',\n",
      "                             'Logging enabled': True,\n",
      "                             'Network model': 'Decker-Wattenhorf',\n",
      "                             'Number of adversaries': 1,\n",
      "                             'Number of nodes': 100,\n",
      "                             'Probability of error in transaction confirmation': 0.1,\n",
      "                             'Transaction dataset': 'poisson'},\n",
      " 'setting-name': 'longest-chain-with-pool'}\n",
      "Parameters:\n",
      "{'longest-chain-with-pool': {'Block pool proposal rate parameter': 0.7333333333333333,\n",
      "                             'Block size (txs)': 50,\n",
      "                             'Block tree proposal rate parameter': 0.1,\n",
      "                             'Duration (sec)': 1000,\n",
      "                             'Fork choice rule': 'longest-chain-with-pool',\n",
      "                             'Logging enabled': True,\n",
      "                             'Network model': 'Decker-Wattenhorf',\n",
      "                             'Number of adversaries': 1,\n",
      "                             'Number of nodes': 100,\n",
      "                             'Probability of error in transaction confirmation': 0.1,\n",
      "                             'Transaction dataset': 'poisson'},\n",
      " 'setting-name': 'longest-chain-with-pool'}\n",
      "Parameters:\n",
      "{'longest-chain-with-pool': {'Block pool proposal rate parameter': 0.9444444444444444,\n",
      "                             'Block size (txs)': 50,\n",
      "                             'Block tree proposal rate parameter': 0.1,\n",
      "                             'Duration (sec)': 1000,\n",
      "                             'Fork choice rule': 'longest-chain-with-pool',\n",
      "                             'Logging enabled': True,\n",
      "                             'Network model': 'Decker-Wattenhorf',\n",
      "                             'Number of adversaries': 1,\n",
      "                             'Number of nodes': 100,\n",
      "                             'Probability of error in transaction confirmation': 0.1,\n",
      "                             'Transaction dataset': 'poisson'},\n",
      " 'setting-name': 'longest-chain-with-pool'}\n",
      "Parameters:\n",
      "{'longest-chain-with-pool': {'Block pool proposal rate parameter': 1.1555555555555557,\n",
      "                             'Block size (txs)': 50,\n",
      "                             'Block tree proposal rate parameter': 0.1,\n",
      "                             'Duration (sec)': 1000,\n",
      "                             'Fork choice rule': 'longest-chain-with-pool',\n",
      "                             'Logging enabled': True,\n",
      "                             'Network model': 'Decker-Wattenhorf',\n",
      "                             'Number of adversaries': 1,\n",
      "                             'Number of nodes': 100,\n",
      "                             'Probability of error in transaction confirmation': 0.1,\n",
      "                             'Transaction dataset': 'poisson'},\n",
      " 'setting-name': 'longest-chain-with-pool'}\n",
      "Parameters:\n",
      "{'longest-chain-with-pool': {'Block pool proposal rate parameter': 1.3666666666666667,\n",
      "                             'Block size (txs)': 50,\n",
      "                             'Block tree proposal rate parameter': 0.1,\n",
      "                             'Duration (sec)': 1000,\n",
      "                             'Fork choice rule': 'longest-chain-with-pool',\n",
      "                             'Logging enabled': True,\n",
      "                             'Network model': 'Decker-Wattenhorf',\n",
      "                             'Number of adversaries': 1,\n",
      "                             'Number of nodes': 100,\n",
      "                             'Probability of error in transaction confirmation': 0.1,\n",
      "                             'Transaction dataset': 'poisson'},\n",
      " 'setting-name': 'longest-chain-with-pool'}\n",
      "Parameters:\n",
      "{'longest-chain-with-pool': {'Block pool proposal rate parameter': 1.577777777777778,\n",
      "                             'Block size (txs)': 50,\n",
      "                             'Block tree proposal rate parameter': 0.1,\n",
      "                             'Duration (sec)': 1000,\n",
      "                             'Fork choice rule': 'longest-chain-with-pool',\n",
      "                             'Logging enabled': True,\n",
      "                             'Network model': 'Decker-Wattenhorf',\n",
      "                             'Number of adversaries': 1,\n",
      "                             'Number of nodes': 100,\n",
      "                             'Probability of error in transaction confirmation': 0.1,\n",
      "                             'Transaction dataset': 'poisson'},\n",
      " 'setting-name': 'longest-chain-with-pool'}\n",
      "Parameters:\n",
      "{'longest-chain-with-pool': {'Block pool proposal rate parameter': 1.788888888888889,\n",
      "                             'Block size (txs)': 50,\n",
      "                             'Block tree proposal rate parameter': 0.1,\n",
      "                             'Duration (sec)': 1000,\n",
      "                             'Fork choice rule': 'longest-chain-with-pool',\n",
      "                             'Logging enabled': True,\n",
      "                             'Network model': 'Decker-Wattenhorf',\n",
      "                             'Number of adversaries': 1,\n",
      "                             'Number of nodes': 100,\n",
      "                             'Probability of error in transaction confirmation': 0.1,\n",
      "                             'Transaction dataset': 'poisson'},\n",
      " 'setting-name': 'longest-chain-with-pool'}\n",
      "Parameters:\n",
      "{'longest-chain-with-pool': {'Block pool proposal rate parameter': 2.0,\n",
      "                             'Block size (txs)': 50,\n",
      "                             'Block tree proposal rate parameter': 0.1,\n",
      "                             'Duration (sec)': 1000,\n",
      "                             'Fork choice rule': 'longest-chain-with-pool',\n",
      "                             'Logging enabled': True,\n",
      "                             'Network model': 'Decker-Wattenhorf',\n",
      "                             'Number of adversaries': 1,\n",
      "                             'Number of nodes': 100,\n",
      "                             'Probability of error in transaction confirmation': 0.1,\n",
      "                             'Transaction dataset': 'poisson'},\n",
      " 'setting-name': 'longest-chain-with-pool'}\n",
      "Throughputs:\n",
      " {(0.1, 0.1): [9.95], (0.1, 0.3111111111111111): [9.03], (0.1, 0.5222222222222223): [9.73], (0.1, 0.7333333333333333): [9.97], (0.1, 0.9444444444444444): [9.56], (0.1, 1.1555555555555557): [10.24], (0.1, 1.3666666666666667): [10.43], (0.1, 1.577777777777778): [9.71], (0.1, 1.788888888888889): [10.21], (0.1, 2.0): [9.98]}\n",
      "Main Chain Arrival Latencies:\n",
      " {(0.1, 0.1): [18.2944849934584], (0.1, 0.3111111111111111): [19.187057104057494], (0.1, 0.5222222222222223): [20.042531058527615], (0.1, 0.7333333333333333): [27.15373651992349], (0.1, 0.9444444444444444): [21.011796778456137], (0.1, 1.1555555555555557): [27.143948915827846], (0.1, 1.3666666666666667): [28.591002168284646], (0.1, 1.577777777777778): [25.071873722671153], (0.1, 1.788888888888889): [24.810182229862463], (0.1, 2.0): [27.678781743275422]}\n",
      "Pool Block Latencies:\n",
      " {(0.1, 0.1): [32.18759020287586], (0.1, 0.3111111111111111): [24.071801244965613], (0.1, 0.5222222222222223): [22.741985189356928], (0.1, 0.7333333333333333): [29.28351168286597], (0.1, 0.9444444444444444): [22.64343344030684], (0.1, 1.1555555555555557): [29.049743041570892], (0.1, 1.3666666666666667): [30.71387529272335], (0.1, 1.577777777777778): [27.35665491599336], (0.1, 1.788888888888889): [26.565344905748148], (0.1, 2.0): [30.47171862210516]}\n",
      "Finalization Latencies:\n",
      " {(0.1, 0.1): [39.140227927429244], (0.1, 0.3111111111111111): [23.83573762802069], (0.1, 0.5222222222222223): [15.776422533326118], (0.1, 0.7333333333333333): [14.413994779991123], (0.1, 0.9444444444444444): [10.94690747748023], (0.1, 1.1555555555555557): [11.363045295845083], (0.1, 1.3666666666666667): [8.752291987558426], (0.1, 1.577777777777778): [9.754386738867732], (0.1, 1.788888888888889): [8.5184130707768], (0.1, 2.0): [7.510691235395479]}\n"
     ]
    }
   ],
   "source": [
    "import os, shutil, pprint, glob, csv\n",
    "\n",
    "pp = pprint.PrettyPrinter()\n",
    "os.system('touch longest_chain_with_pool.json')\n",
    "os.chdir('..')\n",
    "\n",
    "import metrics\n",
    "\n",
    "throughputs = {}\n",
    "main_chain_arrival_latencies = {}\n",
    "pool_block_latencies = {}\n",
    "finalization_latencies = {}\n",
    "hist_data = {}\n",
    "\n",
    "for i in range(0, num_tests):\n",
    "    tree_rate = tree_proposal_rates[i]\n",
    "    pool_rate = pool_proposal_rates[i]\n",
    "    params['Block tree proposal rate parameter'] = tree_rate\n",
    "    params['Block pool proposal rate parameter'] = pool_rate\n",
    "    params['Duration (sec)'] = 1000\n",
    "    d = {}\n",
    "    d['setting-name'] = f'longest-chain-with-pool'\n",
    "    d[f'longest-chain-with-pool'] = params\n",
    "    print('Parameters:')\n",
    "    pp.pprint(d)\n",
    "    with open('results/longest_chain_with_pool.json', 'w+') as outfile:\n",
    "        json.dump(d, outfile)\n",
    "    throughputs[(tree_rate, pool_rate)] = []\n",
    "    main_chain_arrival_latencies[(tree_rate, pool_rate)] = []\n",
    "    pool_block_latencies[(tree_rate, pool_rate)] = []\n",
    "    finalization_latencies[(tree_rate, pool_rate)] = []\n",
    "    for trial in range(0, n_trials):\n",
    "        os.system('python3 main.py -f results/longest_chain_with_pool.json')\n",
    "        throughput = metrics.compute_throughput()\n",
    "        avg_main_chain_arrival_latency, avg_pool_block_latency, avg_finalization_latency = metrics.compute_latency()\n",
    "        throughputs[(tree_rate, pool_rate)].append(throughput)\n",
    "        main_chain_arrival_latencies[(tree_rate, pool_rate)].append(avg_main_chain_arrival_latency)\n",
    "        pool_block_latencies[(tree_rate, pool_rate)].append(avg_pool_block_latency)\n",
    "        finalization_latencies[(tree_rate, pool_rate)].append(avg_finalization_latency)\n",
    "    \n",
    "os.chdir('results/')\n",
    "os.remove('longest_chain_with_pool.json')\n",
    "print('Throughputs:\\n', throughputs)\n",
    "print('Main Chain Arrival Latencies:\\n', main_chain_arrival_latencies)\n",
    "print('Pool Block Latencies:\\n', pool_block_latencies)\n",
    "print('Finalization Latencies:\\n', finalization_latencies)"
   ]
  },
  {
   "cell_type": "markdown",
   "metadata": {},
   "source": [
    "### Compute Averages\n",
    "\n",
    "Average throughput is the number of finalized transactions divided by the duration of the experiment.\n",
    "\n",
    "Average main chain latency is the time for a transaction to be added to the global blocktree - the timestamp the transaction was generated.\n",
    "\n",
    "Average pool block latency is the time for a transaction to be added to a pool block AND referenced by a tree block.\n",
    "\n",
    "Average finalization latency is the time for a transaction to be k blocks deep - to be added to the global blocktree."
   ]
  },
  {
   "cell_type": "code",
   "execution_count": 3,
   "metadata": {},
   "outputs": [
    {
     "name": "stdout",
     "output_type": "stream",
     "text": [
      "Average Throughputs: {(0.1, 0.1): 9.95, (0.1, 0.3111111111111111): 9.03, (0.1, 0.5222222222222223): 9.73, (0.1, 0.7333333333333333): 9.97, (0.1, 0.9444444444444444): 9.56, (0.1, 1.1555555555555557): 10.24, (0.1, 1.3666666666666667): 10.43, (0.1, 1.577777777777778): 9.71, (0.1, 1.788888888888889): 10.21, (0.1, 2.0): 9.98}\n",
      "Average Main Chain Arrival Latency: {(0.1, 0.1): 18.2944849934584, (0.1, 0.3111111111111111): 19.187057104057494, (0.1, 0.5222222222222223): 20.042531058527615, (0.1, 0.7333333333333333): 27.15373651992349, (0.1, 0.9444444444444444): 21.011796778456137, (0.1, 1.1555555555555557): 27.143948915827846, (0.1, 1.3666666666666667): 28.591002168284646, (0.1, 1.577777777777778): 25.071873722671153, (0.1, 1.788888888888889): 24.810182229862463, (0.1, 2.0): 27.678781743275422}\n",
      "Average Main Chain Arrival Latency: {(0.1, 0.1): 18.2944849934584, (0.1, 0.3111111111111111): 19.187057104057494, (0.1, 0.5222222222222223): 20.042531058527615, (0.1, 0.7333333333333333): 27.15373651992349, (0.1, 0.9444444444444444): 21.011796778456137, (0.1, 1.1555555555555557): 27.143948915827846, (0.1, 1.3666666666666667): 28.591002168284646, (0.1, 1.577777777777778): 25.071873722671153, (0.1, 1.788888888888889): 24.810182229862463, (0.1, 2.0): 27.678781743275422}\n",
      "Average Finalization Latency: {(0.1, 0.1): 39.140227927429244, (0.1, 0.3111111111111111): 23.83573762802069, (0.1, 0.5222222222222223): 15.776422533326118, (0.1, 0.7333333333333333): 14.413994779991123, (0.1, 0.9444444444444444): 10.94690747748023, (0.1, 1.1555555555555557): 11.363045295845083, (0.1, 1.3666666666666667): 8.752291987558426, (0.1, 1.577777777777778): 9.754386738867732, (0.1, 1.788888888888889): 8.5184130707768, (0.1, 2.0): 7.510691235395479}\n"
     ]
    }
   ],
   "source": [
    "avg_throughputs = {}\n",
    "for rate in throughputs:\n",
    "    avg_throughputs[rate] = sum(throughputs[rate])/len(throughputs[rate])\n",
    "\n",
    "print(\"Average Throughputs:\", avg_throughputs)\n",
    "    \n",
    "avg_main_chain_latencies = {}\n",
    "for rate in main_chain_arrival_latencies:\n",
    "    avg_main_chain_latencies[rate] = sum(main_chain_arrival_latencies[rate])/len(main_chain_arrival_latencies[rate])\n",
    "\n",
    "print(\"Average Main Chain Arrival Latency:\", avg_main_chain_latencies)\n",
    "\n",
    "avg_pool_block_latencies = {}\n",
    "for rate in pool_block_latencies:\n",
    "    avg_pool_block_latencies[rate] = sum(pool_block_latencies[rate])/len(pool_block_latencies[rate])\n",
    "\n",
    "print(\"Average Main Chain Arrival Latency:\", avg_main_chain_latencies)\n",
    "\n",
    "avg_finalization_latencies = {}\n",
    "for rate in finalization_latencies:\n",
    "    avg_finalization_latencies[rate] = sum(finalization_latencies[rate])/len(finalization_latencies[rate])\n",
    "    \n",
    "print(\"Average Finalization Latency:\", avg_finalization_latencies)"
   ]
  },
  {
   "cell_type": "markdown",
   "metadata": {},
   "source": [
    "### Extract Finalization Depth and Delta for Blocks"
   ]
  },
  {
   "cell_type": "code",
   "execution_count": 4,
   "metadata": {},
   "outputs": [],
   "source": [
    "import csv\n",
    "with open('../logs/stats.csv', newline='') as csvfile:\n",
    "    reader = csv.reader(csvfile, delimiter=',')\n",
    "    for row in reader:\n",
    "        if row[0]=='Finalization depth':\n",
    "            k = int(row[1])\n",
    "        elif row[0]=='Average network latency for blocks (sec)':\n",
    "            delta = float(row[1])"
   ]
  },
  {
   "cell_type": "markdown",
   "metadata": {},
   "source": [
    "### Plotting the results"
   ]
  },
  {
   "cell_type": "code",
   "execution_count": 5,
   "metadata": {},
   "outputs": [],
   "source": [
    "import matplotlib.pylab as plt\n",
    "x = [key[1] for key in avg_main_chain_latencies.keys()]\n",
    "y1 = avg_throughputs.values()\n",
    "y2 = avg_main_chain_latencies.values()\n",
    "y3 = avg_pool_block_latencies.values()\n",
    "y4 = avg_finalization_latencies.values()"
   ]
  },
  {
   "cell_type": "code",
   "execution_count": 6,
   "metadata": {},
   "outputs": [
    {
     "data": {
      "image/png": "[encoded data removed]",
      "text/plain": [
       "<Figure size 432x288 with 1 Axes>"
      ]
     },
     "metadata": {
      "needs_background": "light"
     },
     "output_type": "display_data"
    }
   ],
   "source": [
    "plt.xlabel('Pool Block Proposal Rate (blocks/sec)')\n",
    "plt.ylabel('Throughput (txs/sec)')\n",
    "plt.title(f'Transaction Throughput vs. Pool Block Proposal Rate (k={k}, delta={delta})')\n",
    "plt.grid(True)\n",
    "\n",
    "plt.plot(x, y1, label='observed rate')\n",
    "plt.legend()\n",
    "plt.show()"
   ]
  },
  {
   "cell_type": "code",
   "execution_count": 7,
   "metadata": {},
   "outputs": [
    {
     "data": {
      "image/png": "[encoded data removed]",
      "text/plain": [
       "<Figure size 432x288 with 1 Axes>"
      ]
     },
     "metadata": {
      "needs_background": "light"
     },
     "output_type": "display_data"
    }
   ],
   "source": [
    "plt.xlabel('Pool Block Proposal Rate (blocks/sec)')\n",
    "plt.ylabel('Main Chain Arrival Latency (sec)')\n",
    "plt.title(f'Main Chain Arrival Latency vs. Pool Block Proposal Rate (k={k}, delta={delta})')\n",
    "plt.grid(True)\n",
    "\n",
    "plt.plot(x, y2, label='observed rate')\n",
    "plt.legend()\n",
    "plt.show()"
   ]
  },
  {
   "cell_type": "code",
   "execution_count": 8,
   "metadata": {},
   "outputs": [
    {
     "data": {
      "image/png": "[encoded data removed]",
      "text/plain": [
       "<Figure size 432x288 with 1 Axes>"
      ]
     },
     "metadata": {
      "needs_background": "light"
     },
     "output_type": "display_data"
    }
   ],
   "source": [
    "plt.xlabel('Pool Block Proposal Rate (blocks/sec)')\n",
    "plt.ylabel('Pool Block Latency (sec)')\n",
    "plt.title(f'Pool Block Latency vs. Pool Block Proposal Rate (k={k}, delta={delta})')\n",
    "plt.grid(True)\n",
    "\n",
    "plt.plot(x, y2, label='observed rate')\n",
    "plt.legend()\n",
    "plt.show()"
   ]
  },
  {
   "cell_type": "code",
   "execution_count": 9,
   "metadata": {},
   "outputs": [
    {
     "data": {
      "image/png": "[encoded data removed]",
      "text/plain": [
       "<Figure size 432x288 with 1 Axes>"
      ]
     },
     "metadata": {
      "needs_background": "light"
     },
     "output_type": "display_data"
    }
   ],
   "source": [
    "plt.xlabel('Pool Block Proposal Rate (blocks/sec)')\n",
    "plt.ylabel('Finalization Latency (sec)')\n",
    "plt.title(f'Finalization Latency vs. Pool Block Proposal Rate (k={k}, delta={delta})')\n",
    "plt.grid(True)\n",
    "plt.plot(x, y4, label='observed rate')\n",
    "plt.legend()\n",
    "plt.show()"
   ]
  },
  {
   "cell_type": "markdown",
   "metadata": {},
   "source": [
    "### Results\n",
    "\n",
    "We can look through the logs of the blocks to understand the process a block undergoes:"
   ]
  },
  {
   "cell_type": "code",
   "execution_count": 10,
   "metadata": {},
   "outputs": [
    {
     "name": "stdout",
     "output_type": "stream",
     "text": [
      "id,parent id,proposal timestamp,pool block timestamp,finalization timestamp,depth,finalized,transactions\n",
      "\n",
      "Genesis,None,0,None,5.234944695449554,0,True,\n",
      "\n",
      "de8af,Genesis,1.7911415696013968,None,9.4348022587875,1,True,\n",
      "\n",
      "aa75d,de8af,9.826966826775848,None,14.83874072239911,2,True,12e96cfcca;dd2536279a;07f8650b92;fc766cf11b;37bd4ba36c;b6dde6f28f;2bfa87bd64\n",
      "\n",
      "c8c7f,None,6.17957443947736,,14.83874072239911,NA,True,\n",
      "\n",
      "ccf2b,None,6.585043681125059,,14.83874072239911,NA,True,\n",
      "\n",
      "7ffce,None,6.573419220067669,,14.83874072239911,NA,True,\n",
      "\n",
      "f9400,None,4.990461084792902,,14.83874072239911,NA,True,\n",
      "\n",
      "58d68,None,5.234944695449554,,14.83874072239911,NA,True,\n",
      "\n",
      "03180,None,9.4348022587875,,14.83874072239911,NA,True,\n",
      "\n"
     ]
    }
   ],
   "source": [
    "with open('../logs/blocks.csv') as f:\n",
    "    for line in f.readlines()[:10]:\n",
    "        print(line)"
   ]
  },
  {
   "cell_type": "markdown",
   "metadata": {},
   "source": [
    "Additionally, we can visualize the results to see the global blocktree. In the following image, blue nodes indicate tree blocks on the main chain and yellow blocks indicate tree blocks\n",
    "off the main chain (i.e. 'orphan blocks').\n",
    "![title](../logs/global-blocktree.png)\n",
    "\n",
    "Finally, we can visualize the results to see the main chain, including pool blocks.\n",
    "In the following image, square nodes indicate tree blocks on the main chain and triangle\n",
    "nodes indicate pool blocks on the main chain. Note that order of the main chain in between two\n",
    "tree blocks is the order in which the **proposer** received the pool blocks.\n",
    "![title](../logs/main-chain.png)"
   ]
  },
  {
   "cell_type": "markdown",
   "metadata": {},
   "source": [
    "We can look through the logs to understand the process a transaction undergoes. A transaction can\n",
    "\n",
    "1) Be a pool or a tree transaction\n",
    "2) Be on the main chain or not on the main chain\n",
    "3) Be finalized or not finalized\n",
    "\n",
    "Hence, we will analyze each of the following cases:\n",
    "1) A pool transaction on the main chain that is finalized\n",
    "2) A pool transaction not on the main chain\n",
    "3) A tree transaction on the main chain that is finalized\n",
    "4) A tree transaction on the main chain that is not finalized\n",
    "5) A tree transaction not on the main chain"
   ]
  },
  {
   "cell_type": "code",
   "execution_count": 11,
   "metadata": {},
   "outputs": [
    {
     "name": "stdout",
     "output_type": "stream",
     "text": [
      "OrderedDict([('id', 'dd2536279a'), ('source node', '46'), ('generated timestamp', '1.5116262199334334'), ('main chain arrival timestamp', '15.65114471648157'), ('pool block timestamp', '15.65114471648157'), ('finalization timestamp', '20.0568075282675')])\n",
      "OrderedDict([('id', '12e96cfcca'), ('source node', '61'), ('generated timestamp', '1.4514647122137485'), ('main chain arrival timestamp', '15.65114471648157'), ('pool block timestamp', '15.65114471648157'), ('finalization timestamp', '20.0568075282675')])\n",
      "OrderedDict([('id', '07f8650b92'), ('source node', '88'), ('generated timestamp', '3.231591556738569'), ('main chain arrival timestamp', '15.65114471648157'), ('pool block timestamp', '15.65114471648157'), ('finalization timestamp', '20.0568075282675')])\n",
      "OrderedDict([('id', 'fc766cf11b'), ('source node', '58'), ('generated timestamp', '3.9781462949669293'), ('main chain arrival timestamp', '15.65114471648157'), ('pool block timestamp', '15.65114471648157'), ('finalization timestamp', '20.0568075282675')])\n",
      "OrderedDict([('id', '37bd4ba36c'), ('source node', '84'), ('generated timestamp', '4.541825491706527'), ('main chain arrival timestamp', '15.65114471648157'), ('pool block timestamp', '15.65114471648157'), ('finalization timestamp', '20.0568075282675')])\n",
      "OrderedDict([('id', 'b6dde6f28f'), ('source node', '75'), ('generated timestamp', '4.1774639078656985'), ('main chain arrival timestamp', '15.65114471648157'), ('pool block timestamp', '15.65114471648157'), ('finalization timestamp', '20.0568075282675')])\n",
      "OrderedDict([('id', '2bfa87bd64'), ('source node', '90'), ('generated timestamp', '4.7582702310823235'), ('main chain arrival timestamp', '15.65114471648157'), ('pool block timestamp', '15.65114471648157'), ('finalization timestamp', '20.0568075282675')])\n",
      "OrderedDict([('id', 'c6b4da6c3e'), ('source node', '25'), ('generated timestamp', '7.823098933734636'), ('main chain arrival timestamp', '23.438837939901745'), ('pool block timestamp', '23.438837939901745'), ('finalization timestamp', '28.890537383495843')])\n",
      "OrderedDict([('id', '9645a7582e'), ('source node', '89'), ('generated timestamp', '8.23135877088504'), ('main chain arrival timestamp', '23.438837939901745'), ('pool block timestamp', '23.438837939901745'), ('finalization timestamp', '28.890537383495843')])\n",
      "OrderedDict([('id', 'df6672b9c8'), ('source node', '51'), ('generated timestamp', '9.458670713603361'), ('main chain arrival timestamp', '23.438837939901745'), ('pool block timestamp', '23.438837939901745'), ('finalization timestamp', '28.890537383495843')])\n"
     ]
    }
   ],
   "source": [
    "import csv\n",
    "\n",
    "finalized_main_chain_pool_tx = None\n",
    "not_on_main_chain_pool_tx = None\n",
    "finalized_main_chain_tree_tx = None\n",
    "unfinalized_main_chain_tree_tx = None\n",
    "not_on_main_chain_tree_tx = None\n",
    "\n",
    "with open('../logs/transactions.csv', newline='') as csvfile:\n",
    "    reader = csv.DictReader(csvfile)\n",
    "    row_count = 0\n",
    "    for row in reader:\n",
    "        if row['finalization timestamp']!='None'and row['main chain arrival timestamp']!='None' and row['pool block timestamp']!='None' and finalized_main_chain_pool_tx==None:\n",
    "            finalized_main_chain_pool_tx = row\n",
    "        elif row['main chain arrival timestamp']=='None' and row['pool block timestamp']!='None' and not_on_main_chain_pool_tx==None:\n",
    "            not_on_main_chain_pool_tx = row\n",
    "        elif row['finalization timestamp']!='None' and row['main chain arrival timestamp']!='None' and row['pool block timestamp']=='None' and finalized_main_chain_tree_tx==None:\n",
    "            finalized_main_chain_tree_tx = row\n",
    "        elif row['finalization timestamp']=='None' and row['main chain arrival timestamp']!='None' and row['pool block timestamp']=='None' and unfinalized_main_chain_tree_tx==None:\n",
    "            unfinalized_main_chain_tree_tx = row\n",
    "        elif row['main chain arrival timestamp']=='None' and row['pool block timestamp']=='None' and not_on_main_chain_tree_tx==None: \n",
    "            not_on_main_chain_tree_tx = row\n",
    "        if row_count<10:\n",
    "            print(row)\n",
    "        row_count+=1"
   ]
  },
  {
   "cell_type": "code",
   "execution_count": 12,
   "metadata": {},
   "outputs": [
    {
     "name": "stdout",
     "output_type": "stream",
     "text": [
      "Finalized Pool Transaction:\n",
      "OrderedDict([('id', 'dd2536279a'), ('source node', '46'), ('generated timestamp', '1.5116262199334334'), ('main chain arrival timestamp', '15.65114471648157'), ('pool block timestamp', '15.65114471648157'), ('finalization timestamp', '20.0568075282675')])\n",
      "Pool Transaction Not on Main Chain:\n",
      "OrderedDict([('id', 'ec202fe056'), ('source node', '94'), ('generated timestamp', '997.0137636707102'), ('main chain arrival timestamp', 'None'), ('pool block timestamp', '1018.7765603626387'), ('finalization timestamp', 'None')])\n",
      "Finalized Tree Transaction:\n",
      "OrderedDict([('id', 'a770dce654'), ('source node', '31'), ('generated timestamp', '128.11901978813992'), ('main chain arrival timestamp', '131.14926074425566'), ('pool block timestamp', 'None'), ('finalization timestamp', '144.03403847139708')])\n",
      "Unfinalized Tree Transaction:\n",
      "None\n",
      "Tree Transaction Not on Main Chain:\n",
      "OrderedDict([('id', 'aa7cd81ed2'), ('source node', '94'), ('generated timestamp', '31.92999761560337'), ('main chain arrival timestamp', 'None'), ('pool block timestamp', 'None'), ('finalization timestamp', 'None')])\n"
     ]
    }
   ],
   "source": [
    "print(f'Finalized Pool Transaction:\\n{finalized_main_chain_pool_tx}')\n",
    "print(f'Pool Transaction Not on Main Chain:\\n{not_on_main_chain_pool_tx}')\n",
    "print(f'Finalized Tree Transaction:\\n{finalized_main_chain_tree_tx}')\n",
    "print(f'Unfinalized Tree Transaction:\\n{unfinalized_main_chain_tree_tx}')\n",
    "print(f'Tree Transaction Not on Main Chain:\\n{not_on_main_chain_tree_tx}')\n"
   ]
  },
  {
   "cell_type": "markdown",
   "metadata": {},
   "source": [
    "Let's consider the first case of the finalized pool transaction. If we look into `blocks.csv`,\n",
    "we should be able to see that the transaction's main chain arrival timestamp and pool block timestamp\n",
    "should be equivalent to a tree block's proposal time. Additionally, the finalization time should be\n",
    "the tree block's finalization time."
   ]
  },
  {
   "cell_type": "code",
   "execution_count": 13,
   "metadata": {},
   "outputs": [
    {
     "name": "stdout",
     "output_type": "stream",
     "text": [
      "OrderedDict([('id', 'aa75d'), ('parent id', 'de8af'), ('proposal timestamp', '9.826966826775848'), ('pool block timestamp', 'None'), ('finalization timestamp', '14.83874072239911'), ('depth', '2'), ('finalized', 'True'), ('transactions', '12e96cfcca;dd2536279a;07f8650b92;fc766cf11b;37bd4ba36c;b6dde6f28f;2bfa87bd64')])\n"
     ]
    }
   ],
   "source": [
    "with open('../logs/blocks.csv', newline='') as csvfile:\n",
    "    reader = csv.DictReader(csvfile)\n",
    "    if finalized_main_chain_pool_tx!=None:\n",
    "        for row in reader:\n",
    "            if finalized_main_chain_pool_tx['id'] in row['transactions']:\n",
    "                print(row)\n",
    "                break"
   ]
  },
  {
   "cell_type": "markdown",
   "metadata": {},
   "source": [
    "Now let's consider the second case of the pool transaction not on the main chain.\n",
    "We should see that it belongs to a block that is not finalized and not on the main chain, indicated\n",
    "by the fact the block's finalization timestamp and main chain arrival timestamp will both be `'None'`. However, the pool block timestamp should be equal to the block's proposal timestamp."
   ]
  },
  {
   "cell_type": "code",
   "execution_count": 14,
   "metadata": {},
   "outputs": [
    {
     "name": "stdout",
     "output_type": "stream",
     "text": [
      "OrderedDict([('id', 'bdac9'), ('parent id', '34ff0'), ('proposal timestamp', '1018.7765603626387'), ('pool block timestamp', 'None'), ('finalization timestamp', 'None'), ('depth', '68'), ('finalized', 'False'), ('transactions', '173a1440ed;f37554291b;38bd9a2a40;6832c4b8b6;8934e12cde;312120da58;a8b3390c82;4a6168a177;359852864e;1f74d3bd6f;343999ec6d;93b4678fe3;63b63baa53;f7db46e486;ddec51dd2d;cb4f002156;df7ac7a5e3;35a65647bb;2a3e16e115;b9bfd3d286;83e856c60f;af9e754432;39df60a597;7531e9eee2;593c57f205;ec202fe056;58d6e56fb3;2c76be027e;cab68729e8')])\n"
     ]
    }
   ],
   "source": [
    "with open('../logs/blocks.csv', newline='') as csvfile:\n",
    "    reader = csv.DictReader(csvfile)\n",
    "    if not_on_main_chain_pool_tx!=None:\n",
    "        for row in reader:\n",
    "            if not_on_main_chain_pool_tx['id'] in row['transactions']:\n",
    "                print(row)\n",
    "                break"
   ]
  },
  {
   "cell_type": "markdown",
   "metadata": {},
   "source": [
    "The third case is the tree finalized tree transaction on the main chain. We should see that it\n",
    "belongs to a block with equal finalization and main chain arrival timestamps, but a pool block timestamp equal to `'None'`."
   ]
  },
  {
   "cell_type": "code",
   "execution_count": 15,
   "metadata": {},
   "outputs": [
    {
     "name": "stdout",
     "output_type": "stream",
     "text": [
      "OrderedDict([('id', '8158d'), ('parent id', '4c8b1'), ('proposal timestamp', '131.14926074425566'), ('pool block timestamp', 'None'), ('finalization timestamp', '144.03403847139708'), ('depth', '10'), ('finalized', 'True'), ('transactions', '5178e1ea88;dde497da84;a770dce654;2914a9a82c;e2a684b816;4a0b3e87e5;638148ce4f')])\n"
     ]
    }
   ],
   "source": [
    "with open('../logs/blocks.csv', newline='') as csvfile:\n",
    "    reader = csv.DictReader(csvfile)\n",
    "    if finalized_main_chain_tree_tx!=None:\n",
    "        for row in reader:\n",
    "            if finalized_main_chain_tree_tx['id'] in row['transactions']:\n",
    "                print(row)\n",
    "                break"
   ]
  },
  {
   "cell_type": "markdown",
   "metadata": {},
   "source": [
    "The fourth case is the unfinalized tree transaction on the main chain. We should see that it\n",
    "belongs to a block with equal main chain arrival timestamp, but pool block and finalization\n",
    "timestamps equal to `'None'`."
   ]
  },
  {
   "cell_type": "code",
   "execution_count": 16,
   "metadata": {},
   "outputs": [],
   "source": [
    "with open('../logs/blocks.csv', newline='') as csvfile:\n",
    "    reader = csv.DictReader(csvfile)\n",
    "    if unfinalized_main_chain_tree_tx!=None:\n",
    "        for row in reader:\n",
    "            if unfinalized_main_chain_tree_tx['id'] in row['transactions']:\n",
    "                print(row)\n",
    "                break"
   ]
  },
  {
   "cell_type": "markdown",
   "metadata": {},
   "source": [
    "The final case is the tree transaction not on the main chain. The block is not used for any statistics and is not logged."
   ]
  },
  {
   "cell_type": "code",
   "execution_count": null,
   "metadata": {},
   "outputs": [],
   "source": []
  }
 ],
 "metadata": {
  "kernelspec": {
   "display_name": "Python 3",
   "language": "python",
   "name": "python3"
  },
  "language_info": {
   "codemirror_mode": {
    "name": "ipython",
    "version": 3
   },
   "file_extension": ".py",
   "mimetype": "text/x-python",
   "name": "python",
   "nbconvert_exporter": "python",
   "pygments_lexer": "ipython3",
   "version": "3.7.0"
  }
 },
 "nbformat": 4,
 "nbformat_minor": 2
}
