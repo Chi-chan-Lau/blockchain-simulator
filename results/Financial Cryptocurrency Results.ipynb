{
 "cells": [
  {
   "cell_type": "markdown",
   "metadata": {},
   "source": [
    "## Introduction\n",
    "\n",
    "### Definitions\n",
    "\n",
    "##### Global Blocktree\n",
    "A global tree maintained during the simulation used to determine certain statistics\n",
    "\n",
    "##### Node Tree\n",
    "A Node has a tree structure consisting of tree blocks just like in the Longest Chain Protocol.\n",
    "\n",
    "##### Main Chain\n",
    "On a tree structure, the main chain is defined in this protocol as the Longest Chain from the Genesis block to a leaf block.\n",
    "\n",
    "##### Node Pool\n",
    "A node also has a pool structure consisting of pool blocks. \n",
    "\n",
    "##### Tree Block\n",
    "A block on the global blocktree or in a node's local tree.\n",
    "\n",
    "##### Pool Block\n",
    "A block in a node's local pool. The block may or may not be referenced by the next tree block proposed by the node.\n",
    "\n",
    "##### Finalized\n",
    "A block is considered finalized in two cases:\n",
    "\n",
    "1) If in a tree block - if the block is `k` blocks deep on the main chain\n",
    "2) If in a pool block - if the pool block is referenced by a tree block that is finalized\n",
    "\n",
    "A transaction is considered finalized if it is in a finalized block"
   ]
  },
  {
   "cell_type": "markdown",
   "metadata": {},
   "source": [
    "## Simulation Description\n",
    "\n",
    "We measure multiple metrics to understand a transactions behavior during the simulation. \n",
    "\n",
    "#### Throughput\n",
    "How many of the transactions generated actually get finalized in the simulation? \n",
    "\n",
    "#### Pool Block Arrival Latency\n",
    "How long does it take for a transaction to make it into a pool block and get referenced?\n",
    "\n",
    "#### Main Chain Arrival Latency\n",
    "How long does it take for a transaction to make it onto the main chain?\n",
    "\n",
    "#### Finalization Latency\n",
    "How long does it take for a transaction to be finalized once it arrives on the main chain?\n"
   ]
  },
  {
   "cell_type": "markdown",
   "metadata": {},
   "source": [
    "### Experimental Parameters"
   ]
  },
  {
   "cell_type": "code",
   "execution_count": 1,
   "metadata": {},
   "outputs": [],
   "source": [
    "import numpy as np\n",
    "%matplotlib inline\n",
    "\n",
    "num_tests = 10\n",
    "\n",
    "tree_proposal_rates = np.linspace(0.1, 0.1, num_tests)\n",
    "pool_proposal_rates = np.linspace(0.1, 10, num_tests)\n",
    "n_trials = 1\n",
    "import json\n",
    "\n",
    "# Create experimental parameters and write to JSON file\n",
    "\n",
    "params = {'Block tree proposal rate parameter': 0,\n",
    " 'Block pool proposal rate parameter': 0,\n",
    " 'Transaction rate parameter': 0,\n",
    " 'Block size (txs)': 50,\n",
    " 'Duration (sec)': 0,\n",
    " 'Fork choice rule': 'longest-chain-with-pool',\n",
    " 'Network model': 'Decker-Wattenhorf',\n",
    " 'Number of adversaries': 1,\n",
    " 'Number of nodes': 100,\n",
    " 'Probability of error in transaction confirmation': 0.1,\n",
    " 'Transaction dataset': 'poisson',\n",
    " 'Logging enabled': True}"
   ]
  },
  {
   "cell_type": "markdown",
   "metadata": {},
   "source": [
    "### Run experiments"
   ]
  },
  {
   "cell_type": "code",
   "execution_count": 2,
   "metadata": {},
   "outputs": [
    {
     "name": "stdout",
     "output_type": "stream",
     "text": [
      "Parameters:\n",
      "{'longest-chain-with-pool': {'Block pool proposal rate parameter': 0.1,\n",
      "                             'Block size (txs)': 50,\n",
      "                             'Block tree proposal rate parameter': 0.1,\n",
      "                             'Duration (sec)': 600,\n",
      "                             'Fork choice rule': 'longest-chain-with-pool',\n",
      "                             'Logging enabled': True,\n",
      "                             'Network model': 'Decker-Wattenhorf',\n",
      "                             'Number of adversaries': 1,\n",
      "                             'Number of nodes': 100,\n",
      "                             'Probability of error in transaction confirmation': 0.1,\n",
      "                             'Transaction dataset': 'poisson',\n",
      "                             'Transaction rate parameter': 5.0},\n",
      " 'setting-name': 'longest-chain-with-pool'}\n",
      "Parameters:\n",
      "{'longest-chain-with-pool': {'Block pool proposal rate parameter': 1.2000000000000002,\n",
      "                             'Block size (txs)': 50,\n",
      "                             'Block tree proposal rate parameter': 0.1,\n",
      "                             'Duration (sec)': 600,\n",
      "                             'Fork choice rule': 'longest-chain-with-pool',\n",
      "                             'Logging enabled': True,\n",
      "                             'Network model': 'Decker-Wattenhorf',\n",
      "                             'Number of adversaries': 1,\n",
      "                             'Number of nodes': 100,\n",
      "                             'Probability of error in transaction confirmation': 0.1,\n",
      "                             'Transaction dataset': 'poisson',\n",
      "                             'Transaction rate parameter': 60.00000000000001},\n",
      " 'setting-name': 'longest-chain-with-pool'}\n",
      "Parameters:\n",
      "{'longest-chain-with-pool': {'Block pool proposal rate parameter': 2.3000000000000003,\n",
      "                             'Block size (txs)': 50,\n",
      "                             'Block tree proposal rate parameter': 0.1,\n",
      "                             'Duration (sec)': 600,\n",
      "                             'Fork choice rule': 'longest-chain-with-pool',\n",
      "                             'Logging enabled': True,\n",
      "                             'Network model': 'Decker-Wattenhorf',\n",
      "                             'Number of adversaries': 1,\n",
      "                             'Number of nodes': 100,\n",
      "                             'Probability of error in transaction confirmation': 0.1,\n",
      "                             'Transaction dataset': 'poisson',\n",
      "                             'Transaction rate parameter': 115.00000000000001},\n",
      " 'setting-name': 'longest-chain-with-pool'}\n",
      "Parameters:\n",
      "{'longest-chain-with-pool': {'Block pool proposal rate parameter': 3.4000000000000004,\n",
      "                             'Block size (txs)': 50,\n",
      "                             'Block tree proposal rate parameter': 0.1,\n",
      "                             'Duration (sec)': 600,\n",
      "                             'Fork choice rule': 'longest-chain-with-pool',\n",
      "                             'Logging enabled': True,\n",
      "                             'Network model': 'Decker-Wattenhorf',\n",
      "                             'Number of adversaries': 1,\n",
      "                             'Number of nodes': 100,\n",
      "                             'Probability of error in transaction confirmation': 0.1,\n",
      "                             'Transaction dataset': 'poisson',\n",
      "                             'Transaction rate parameter': 170.00000000000003},\n",
      " 'setting-name': 'longest-chain-with-pool'}\n",
      "Parameters:\n",
      "{'longest-chain-with-pool': {'Block pool proposal rate parameter': 4.5,\n",
      "                             'Block size (txs)': 50,\n",
      "                             'Block tree proposal rate parameter': 0.1,\n",
      "                             'Duration (sec)': 600,\n",
      "                             'Fork choice rule': 'longest-chain-with-pool',\n",
      "                             'Logging enabled': True,\n",
      "                             'Network model': 'Decker-Wattenhorf',\n",
      "                             'Number of adversaries': 1,\n",
      "                             'Number of nodes': 100,\n",
      "                             'Probability of error in transaction confirmation': 0.1,\n",
      "                             'Transaction dataset': 'poisson',\n",
      "                             'Transaction rate parameter': 225.0},\n",
      " 'setting-name': 'longest-chain-with-pool'}\n",
      "Parameters:\n",
      "{'longest-chain-with-pool': {'Block pool proposal rate parameter': 5.6,\n",
      "                             'Block size (txs)': 50,\n",
      "                             'Block tree proposal rate parameter': 0.1,\n",
      "                             'Duration (sec)': 600,\n",
      "                             'Fork choice rule': 'longest-chain-with-pool',\n",
      "                             'Logging enabled': True,\n",
      "                             'Network model': 'Decker-Wattenhorf',\n",
      "                             'Number of adversaries': 1,\n",
      "                             'Number of nodes': 100,\n",
      "                             'Probability of error in transaction confirmation': 0.1,\n",
      "                             'Transaction dataset': 'poisson',\n",
      "                             'Transaction rate parameter': 280.0},\n",
      " 'setting-name': 'longest-chain-with-pool'}\n",
      "Parameters:\n",
      "{'longest-chain-with-pool': {'Block pool proposal rate parameter': 6.7,\n",
      "                             'Block size (txs)': 50,\n",
      "                             'Block tree proposal rate parameter': 0.1,\n",
      "                             'Duration (sec)': 600,\n",
      "                             'Fork choice rule': 'longest-chain-with-pool',\n",
      "                             'Logging enabled': True,\n",
      "                             'Network model': 'Decker-Wattenhorf',\n",
      "                             'Number of adversaries': 1,\n",
      "                             'Number of nodes': 100,\n",
      "                             'Probability of error in transaction confirmation': 0.1,\n",
      "                             'Transaction dataset': 'poisson',\n",
      "                             'Transaction rate parameter': 335.0},\n",
      " 'setting-name': 'longest-chain-with-pool'}\n",
      "Parameters:\n",
      "{'longest-chain-with-pool': {'Block pool proposal rate parameter': 7.800000000000001,\n",
      "                             'Block size (txs)': 50,\n",
      "                             'Block tree proposal rate parameter': 0.1,\n",
      "                             'Duration (sec)': 600,\n",
      "                             'Fork choice rule': 'longest-chain-with-pool',\n",
      "                             'Logging enabled': True,\n",
      "                             'Network model': 'Decker-Wattenhorf',\n",
      "                             'Number of adversaries': 1,\n",
      "                             'Number of nodes': 100,\n",
      "                             'Probability of error in transaction confirmation': 0.1,\n",
      "                             'Transaction dataset': 'poisson',\n",
      "                             'Transaction rate parameter': 390.00000000000006},\n",
      " 'setting-name': 'longest-chain-with-pool'}\n",
      "Parameters:\n",
      "{'longest-chain-with-pool': {'Block pool proposal rate parameter': 8.9,\n",
      "                             'Block size (txs)': 50,\n",
      "                             'Block tree proposal rate parameter': 0.1,\n",
      "                             'Duration (sec)': 600,\n",
      "                             'Fork choice rule': 'longest-chain-with-pool',\n",
      "                             'Logging enabled': True,\n",
      "                             'Network model': 'Decker-Wattenhorf',\n",
      "                             'Number of adversaries': 1,\n",
      "                             'Number of nodes': 100,\n",
      "                             'Probability of error in transaction confirmation': 0.1,\n",
      "                             'Transaction dataset': 'poisson',\n",
      "                             'Transaction rate parameter': 445.0},\n",
      " 'setting-name': 'longest-chain-with-pool'}\n",
      "Parameters:\n",
      "{'longest-chain-with-pool': {'Block pool proposal rate parameter': 10.0,\n",
      "                             'Block size (txs)': 50,\n",
      "                             'Block tree proposal rate parameter': 0.1,\n",
      "                             'Duration (sec)': 600,\n",
      "                             'Fork choice rule': 'longest-chain-with-pool',\n",
      "                             'Logging enabled': True,\n",
      "                             'Network model': 'Decker-Wattenhorf',\n",
      "                             'Number of adversaries': 1,\n",
      "                             'Number of nodes': 100,\n",
      "                             'Probability of error in transaction confirmation': 0.1,\n",
      "                             'Transaction dataset': 'poisson',\n",
      "                             'Transaction rate parameter': 500.0},\n",
      " 'setting-name': 'longest-chain-with-pool'}\n"
     ]
    },
    {
     "name": "stdout",
     "output_type": "stream",
     "text": [
      "Throughputs:\n",
      " {(0.1, 0.1): [7.532], (0.1, 1.2000000000000002): [14.348], (0.1, 2.3000000000000003): [23.132], (0.1, 3.4000000000000004): [25.964], (0.1, 4.5): [28.352], (0.1, 5.6): [21.244], (0.1, 6.7): [22.284], (0.1, 7.800000000000001): [29.988], (0.1, 8.9): [42.868], (0.1, 10.0): [43.8]}\n",
      "Main Chain Arrival Latencies:\n",
      " {(0.1, 0.1): [115.04634948358435], (0.1, 1.2000000000000002): [264.40420031189086], (0.1, 2.3000000000000003): [417.6276380701952], (0.1, 3.4000000000000004): [364.2645722116041], (0.1, 4.5): [244.73412868839466], (0.1, 5.6): [132.6270691680545], (0.1, 6.7): [251.04981374737204], (0.1, 7.800000000000001): [259.0665539571673], (0.1, 8.9): [389.1758127860639], (0.1, 10.0): [357.6650474679251]}\n",
      "Pool Block Latencies:\n",
      " {(0.1, 0.1): [305.17293369193203], (0.1, 1.2000000000000002): [469.92016924224345], (0.1, 2.3000000000000003): [506.78430500465566], (0.1, 3.4000000000000004): [521.6605356934041], (0.1, 4.5): [499.73655131731704], (0.1, 5.6): [565.336621822813], (0.1, 6.7): [553.6679010185488], (0.1, 7.800000000000001): [544.4480842897887], (0.1, 8.9): [551.0576194481789], (0.1, 10.0): [564.5890958090199]}\n",
      "Finalization Latencies:\n",
      " {(0.1, 0.1): [13.943183470943739], (0.1, 1.2000000000000002): [16.544591036505686], (0.1, 2.3000000000000003): [15.600738649299176], (0.1, 3.4000000000000004): [42.987579464795495], (0.1, 4.5): [30.045994169659004], (0.1, 5.6): [65.4515494100253], (0.1, 6.7): [60.2749719311742], (0.1, 7.800000000000001): [5.538131514716066], (0.1, 8.9): [4.733755540486676], (0.1, 10.0): [14.210422201883365]}\n"
     ]
    }
   ],
   "source": [
    "import os, shutil, pprint, glob, csv\n",
    "\n",
    "pp = pprint.PrettyPrinter()\n",
    "os.system('touch longest_chain_with_pool.json')\n",
    "os.chdir('..')\n",
    "\n",
    "import metrics\n",
    "\n",
    "throughputs = {}\n",
    "main_chain_arrival_latencies = {}\n",
    "pool_block_latencies = {}\n",
    "finalization_latencies = {}\n",
    "hist_data = {}\n",
    "\n",
    "for i in range(0, num_tests):\n",
    "    tree_rate = tree_proposal_rates[i]\n",
    "    pool_rate = pool_proposal_rates[i]\n",
    "    params['Block tree proposal rate parameter'] = tree_rate\n",
    "    params['Block pool proposal rate parameter'] = pool_rate\n",
    "    params['Transaction rate parameter'] = pool_rate*int(params['Block size (txs)'])\n",
    "    params['Duration (sec)'] = 600\n",
    "    d = {}\n",
    "    d['setting-name'] = f'longest-chain-with-pool'\n",
    "    d[f'longest-chain-with-pool'] = params\n",
    "    print('Parameters:')\n",
    "    pp.pprint(d)\n",
    "    with open('results/longest_chain_with_pool.json', 'w+') as outfile:\n",
    "        json.dump(d, outfile)\n",
    "    throughputs[(tree_rate, pool_rate)] = []\n",
    "    main_chain_arrival_latencies[(tree_rate, pool_rate)] = []\n",
    "    pool_block_latencies[(tree_rate, pool_rate)] = []\n",
    "    finalization_latencies[(tree_rate, pool_rate)] = []\n",
    "    for trial in range(0, n_trials):\n",
    "        os.system('python3 main.py -f results/longest_chain_with_pool.json')\n",
    "        throughput = metrics.compute_throughput()\n",
    "        avg_main_chain_arrival_latency, avg_pool_block_latency, avg_finalization_latency = metrics.compute_latency()\n",
    "        throughputs[(tree_rate, pool_rate)].append(throughput)\n",
    "        main_chain_arrival_latencies[(tree_rate, pool_rate)].append(avg_main_chain_arrival_latency)\n",
    "        pool_block_latencies[(tree_rate, pool_rate)].append(avg_pool_block_latency)\n",
    "        finalization_latencies[(tree_rate, pool_rate)].append(avg_finalization_latency)\n",
    "    \n",
    "os.chdir('results/')\n",
    "os.remove('longest_chain_with_pool.json')\n",
    "print('Throughputs:\\n', throughputs)\n",
    "print('Main Chain Arrival Latencies:\\n', main_chain_arrival_latencies)\n",
    "print('Pool Block Latencies:\\n', pool_block_latencies)\n",
    "print('Finalization Latencies:\\n', finalization_latencies)"
   ]
  },
  {
   "cell_type": "markdown",
   "metadata": {},
   "source": [
    "### Compute Averages\n",
    "\n",
    "Average throughput is the number of finalized transactions divided by the duration of the experiment.\n",
    "\n",
    "Average main chain latency is the time for a transaction to be added to the global blocktree - the timestamp the transaction was generated.\n",
    "\n",
    "Average pool block latency is the time for a transaction to be added to a pool block AND referenced by a tree block.\n",
    "\n",
    "Average finalization latency is the time for a transaction to be k blocks deep - to be added to the global blocktree."
   ]
  },
  {
   "cell_type": "code",
   "execution_count": 3,
   "metadata": {},
   "outputs": [
    {
     "name": "stdout",
     "output_type": "stream",
     "text": [
      "Average Throughputs: {(0.1, 0.1): 7.532, (0.1, 1.2000000000000002): 14.348, (0.1, 2.3000000000000003): 23.132, (0.1, 3.4000000000000004): 25.964, (0.1, 4.5): 28.352, (0.1, 5.6): 21.244, (0.1, 6.7): 22.284, (0.1, 7.800000000000001): 29.988, (0.1, 8.9): 42.868, (0.1, 10.0): 43.8}\n",
      "Average Main Chain Arrival Latency: {(0.1, 0.1): 115.04634948358435, (0.1, 1.2000000000000002): 264.40420031189086, (0.1, 2.3000000000000003): 417.6276380701952, (0.1, 3.4000000000000004): 364.2645722116041, (0.1, 4.5): 244.73412868839466, (0.1, 5.6): 132.6270691680545, (0.1, 6.7): 251.04981374737204, (0.1, 7.800000000000001): 259.0665539571673, (0.1, 8.9): 389.1758127860639, (0.1, 10.0): 357.6650474679251}\n",
      "Average Main Chain Arrival Latency: {(0.1, 0.1): 115.04634948358435, (0.1, 1.2000000000000002): 264.40420031189086, (0.1, 2.3000000000000003): 417.6276380701952, (0.1, 3.4000000000000004): 364.2645722116041, (0.1, 4.5): 244.73412868839466, (0.1, 5.6): 132.6270691680545, (0.1, 6.7): 251.04981374737204, (0.1, 7.800000000000001): 259.0665539571673, (0.1, 8.9): 389.1758127860639, (0.1, 10.0): 357.6650474679251}\n",
      "Average Finalization Latency: {(0.1, 0.1): 13.943183470943739, (0.1, 1.2000000000000002): 16.544591036505686, (0.1, 2.3000000000000003): 15.600738649299176, (0.1, 3.4000000000000004): 42.987579464795495, (0.1, 4.5): 30.045994169659004, (0.1, 5.6): 65.4515494100253, (0.1, 6.7): 60.2749719311742, (0.1, 7.800000000000001): 5.538131514716066, (0.1, 8.9): 4.733755540486676, (0.1, 10.0): 14.210422201883365}\n"
     ]
    }
   ],
   "source": [
    "avg_throughputs = {}\n",
    "for rate in throughputs:\n",
    "    avg_throughputs[rate] = sum(throughputs[rate])/len(throughputs[rate])\n",
    "\n",
    "print(\"Average Throughputs:\", avg_throughputs)\n",
    "    \n",
    "avg_main_chain_latencies = {}\n",
    "for rate in main_chain_arrival_latencies:\n",
    "    avg_main_chain_latencies[rate] = sum(main_chain_arrival_latencies[rate])/len(main_chain_arrival_latencies[rate])\n",
    "\n",
    "print(\"Average Main Chain Arrival Latency:\", avg_main_chain_latencies)\n",
    "\n",
    "avg_pool_block_latencies = {}\n",
    "for rate in pool_block_latencies:\n",
    "    avg_pool_block_latencies[rate] = sum(pool_block_latencies[rate])/len(pool_block_latencies[rate])\n",
    "\n",
    "print(\"Average Main Chain Arrival Latency:\", avg_main_chain_latencies)\n",
    "\n",
    "avg_finalization_latencies = {}\n",
    "for rate in finalization_latencies:\n",
    "    avg_finalization_latencies[rate] = sum(finalization_latencies[rate])/len(finalization_latencies[rate])\n",
    "    \n",
    "print(\"Average Finalization Latency:\", avg_finalization_latencies)"
   ]
  },
  {
   "cell_type": "markdown",
   "metadata": {},
   "source": [
    "### Extract Finalization Depth and Delta for Blocks"
   ]
  },
  {
   "cell_type": "code",
   "execution_count": 4,
   "metadata": {},
   "outputs": [],
   "source": [
    "import csv\n",
    "with open('../logs/stats.csv', newline='') as csvfile:\n",
    "    reader = csv.reader(csvfile, delimiter=',')\n",
    "    for row in reader:\n",
    "        if row[0]=='Finalization depth':\n",
    "            k = int(row[1])\n",
    "        elif row[0]=='Average network latency for blocks (sec)':\n",
    "            delta = float(row[1])"
   ]
  },
  {
   "cell_type": "markdown",
   "metadata": {},
   "source": [
    "### Plotting the results"
   ]
  },
  {
   "cell_type": "code",
   "execution_count": 5,
   "metadata": {},
   "outputs": [],
   "source": [
    "import matplotlib.pylab as plt\n",
    "x = [key[1] for key in avg_main_chain_latencies.keys()]\n",
    "y1 = avg_throughputs.values()\n",
    "y2 = avg_main_chain_latencies.values()\n",
    "y3 = avg_pool_block_latencies.values()\n",
    "y4 = avg_finalization_latencies.values()"
   ]
  },
  {
   "cell_type": "code",
   "execution_count": 6,
   "metadata": {},
   "outputs": [
    {
     "data": {
      "image/png": "[encoded data removed]",
      "text/plain": [
       "<Figure size 432x288 with 1 Axes>"
      ]
     },
     "metadata": {
      "needs_background": "light"
     },
     "output_type": "display_data"
    }
   ],
   "source": [
    "plt.xlabel('Pool Block Proposal Rate (blocks/sec)')\n",
    "plt.ylabel('Throughput (txs/sec)')\n",
    "plt.title(f'Transaction Throughput vs. Pool Block Proposal Rate (k={k}, delta={delta})')\n",
    "plt.grid(True)\n",
    "\n",
    "plt.plot(x, y1, label='observed rate')\n",
    "plt.legend()\n",
    "plt.show()"
   ]
  },
  {
   "cell_type": "code",
   "execution_count": 7,
   "metadata": {},
   "outputs": [
    {
     "data": {
      "image/png": "[encoded data removed]",
      "text/plain": [
       "<Figure size 432x288 with 1 Axes>"
      ]
     },
     "metadata": {
      "needs_background": "light"
     },
     "output_type": "display_data"
    }
   ],
   "source": [
    "plt.xlabel('Pool Block Proposal Rate (blocks/sec)')\n",
    "plt.ylabel('Main Chain Arrival Latency (sec)')\n",
    "plt.title(f'Main Chain Arrival Latency vs. Pool Block Proposal Rate (k={k}, delta={delta})')\n",
    "plt.grid(True)\n",
    "\n",
    "plt.plot(x, y2, label='observed rate')\n",
    "plt.legend()\n",
    "plt.show()"
   ]
  },
  {
   "cell_type": "code",
   "execution_count": 8,
   "metadata": {},
   "outputs": [
    {
     "data": {
      "image/png": "[encoded data removed]",
      "text/plain": [
       "<Figure size 432x288 with 1 Axes>"
      ]
     },
     "metadata": {
      "needs_background": "light"
     },
     "output_type": "display_data"
    }
   ],
   "source": [
    "plt.xlabel('Pool Block Proposal Rate (blocks/sec)')\n",
    "plt.ylabel('Pool Block Latency (sec)')\n",
    "plt.title(f'Pool Block Latency vs. Pool Block Proposal Rate (k={k}, delta={delta})')\n",
    "plt.grid(True)\n",
    "\n",
    "plt.plot(x, y2, label='observed rate')\n",
    "plt.legend()\n",
    "plt.show()"
   ]
  },
  {
   "cell_type": "code",
   "execution_count": 9,
   "metadata": {},
   "outputs": [
    {
     "data": {
      "image/png": "[encoded data removed]",
      "text/plain": [
       "<Figure size 432x288 with 1 Axes>"
      ]
     },
     "metadata": {
      "needs_background": "light"
     },
     "output_type": "display_data"
    }
   ],
   "source": [
    "plt.xlabel('Pool Block Proposal Rate (blocks/sec)')\n",
    "plt.ylabel('Finalization Latency (sec)')\n",
    "plt.title(f'Finalization Latency vs. Pool Block Proposal Rate (k={k}, delta={delta})')\n",
    "plt.grid(True)\n",
    "plt.plot(x, y4, label='observed rate')\n",
    "plt.legend()\n",
    "plt.show()"
   ]
  },
  {
   "cell_type": "markdown",
   "metadata": {},
   "source": [
    "### Results\n",
    "\n",
    "We can look through the logs of the blocks to understand the process a block undergoes:"
   ]
  },
  {
   "cell_type": "code",
   "execution_count": 10,
   "metadata": {},
   "outputs": [
    {
     "name": "stdout",
     "output_type": "stream",
     "text": [
      "id,parent id,proposal timestamp,pool block timestamp,finalization timestamp,depth,finalized,transactions\n",
      "\n",
      "Genesis,None,0,None,0.49687565442247605,0,True,\n",
      "\n",
      "a08c8,Genesis,0.49687565442247605,None,1.1405972638389432,1,True,d484b364b0\n",
      "\n",
      "d3800,Genesis,25.77728505415487,None,None,1,False,bd69eaf94b;a93d70d95c;13e57d64f6;cb8cc8f9d8;62324fc5d7;b8c0e94aa2;8814681175;19ed14b4b6;06865204ad;ea299bad72;481431b005;f4321af813;755752eb95;4302146ee0;0cbef67a3d;d7fc1c3f5f;d78a298db6;2b0cecf23a;6dabf50606;297bfa2754;48187c5476;a2fbd9dda0;1444267774;22ae075136;958796a5b0;eaf0d7f2b1;9c0074e999;9dbb8e00e7;1d74898765;8dd6b6537a;3aad3ad3b8;f3595ed55b;438a7ff5d0;8e593888b0;47de728448;aea33a1c83;d5310b3868;2bfe195061;b833c2d0f1;db19eb0ba4;d70c9ac5ea;88676048f9;2c6c596a92;ea9fc13c17;c969f9b83f;ed30c14dff;53145fe79f;1388e28fa8;1c52af48a5;d98d8e3405;55d266be34\n",
      "\n",
      "b4e95,None,0.6598160781902401,,None,NA,False,\n",
      "\n",
      "02935,None,5.00408799765669,,None,NA,False,bd69eaf94b;a93d70d95c;13e57d64f6;cb8cc8f9d8;62324fc5d7;b8c0e94aa2;8814681175;19ed14b4b6;06865204ad;ea299bad72;481431b005;f4321af813\n",
      "\n",
      "8f674,None,9.471493529130148,,None,NA,False,34e18ae67c;db77df468c;45486685c6;08f7006504;3c5b2e76cb;8eab498efa;ed70f9f941;9f8aadaffd;de15ebcc89;5e02f8934b;7a34efd63f;7c6e7261ea;deb19d13a8;d4c61f9fd8;7cd5dc515e;1e5335dbed\n",
      "\n",
      "cec15,None,8.193553711362465,,None,NA,False,53145fe79f;829da5f92b;37b59db28d;ca202c261e;9dfcdc01d9;a925c02b7f;1f879ccd74;5904d91607;f7a4da709c;0751207ccc;f4f816e279;13b5d47126;6be8ca15e5;c5f45d5581;05ac8295ef;648b85defe;14444d6aaf;51ce1b8a8e;3521b6a7fb;94da5366c6;6788fb062d\n",
      "\n",
      "ccb72,None,7.815276792921313,,None,NA,False,f249012319;83c65c05f3;1fe6d0a084;3ef9c708d4;590be389d9;20571d79b1;babf298aba;2cdfbd4b47;49eab97f01;511072c911;adb4eaacb3;aee75da76c\n",
      "\n",
      "34ebc,None,7.055363178234344,,None,NA,False,c969f9b83f;d4d9ffdcd4;8a3f68e68c;57f38b8ac5;e6a753323c;e59fd96954;596c9d9a6b;a8aa96aa9a;759fa4c86b;91b0f7736d;ce85966c66;9772362a7d\n",
      "\n"
     ]
    }
   ],
   "source": [
    "with open('../logs/blocks.csv') as f:\n",
    "    for line in f.readlines()[:10]:\n",
    "        print(line)"
   ]
  },
  {
   "cell_type": "markdown",
   "metadata": {},
   "source": [
    "Additionally, we can visualize the results to see the global blocktree. In the following image, blue nodes indicate tree blocks on the main chain and yellow blocks indicate tree blocks\n",
    "off the main chain (i.e. 'orphan blocks').\n",
    "![title](../logs/blocktree.png)"
   ]
  },
  {
   "cell_type": "markdown",
   "metadata": {},
   "source": [
    "We can look through the logs to understand the process a transaction undergoes. A transaction can\n",
    "\n",
    "1) Be a pool or a tree transaction\n",
    "2) Be on the main chain or not on the main chain\n",
    "3) Be finalized or not finalized\n",
    "\n",
    "Hence, we will analyze each of the following cases:\n",
    "1) A pool transaction on the main chain that is finalized\n",
    "2) A pool transaction not on the main chain\n",
    "3) A tree transaction on the main chain that is finalized\n",
    "4) A tree transaction on the main chain that is not finalized\n",
    "5) A tree transaction not on the main chain"
   ]
  },
  {
   "cell_type": "code",
   "execution_count": 11,
   "metadata": {},
   "outputs": [
    {
     "name": "stdout",
     "output_type": "stream",
     "text": [
      "OrderedDict([('id', '3aad3ad3b8'), ('source node', '85'), ('generated timestamp', '1.9200304859076223'), ('main chain arrival timestamp', '451.7505337296041'), ('pool block timestamp', '622.295166136546'), ('finalization timestamp', '440.79903601584635')])\n",
      "OrderedDict([('id', 'f3595ed55b'), ('source node', '67'), ('generated timestamp', '0.004686529837634325'), ('main chain arrival timestamp', '451.7505337296041'), ('pool block timestamp', '622.295166136546'), ('finalization timestamp', '440.79903601584635')])\n",
      "OrderedDict([('id', '438a7ff5d0'), ('source node', '40'), ('generated timestamp', '0.8817945476955974'), ('main chain arrival timestamp', '332.8340229293733'), ('pool block timestamp', '507.46572974244947'), ('finalization timestamp', '349.3240577319906')])\n",
      "OrderedDict([('id', '8e593888b0'), ('source node', '15'), ('generated timestamp', '0.25150728168678504'), ('main chain arrival timestamp', '332.8340229293733'), ('pool block timestamp', '507.46572974244947'), ('finalization timestamp', '349.3240577319906')])\n",
      "OrderedDict([('id', '47de728448'), ('source node', '46'), ('generated timestamp', '0.12657139831622827'), ('main chain arrival timestamp', '332.8340229293733'), ('pool block timestamp', '507.46572974244947'), ('finalization timestamp', '349.3240577319906')])\n",
      "OrderedDict([('id', 'aea33a1c83'), ('source node', '11'), ('generated timestamp', '0.16641686524238367'), ('main chain arrival timestamp', '332.8340229293733'), ('pool block timestamp', '507.46572974244947'), ('finalization timestamp', '349.3240577319906')])\n",
      "OrderedDict([('id', 'd5310b3868'), ('source node', '28'), ('generated timestamp', '0.07632210041374378'), ('main chain arrival timestamp', '332.8340229293733'), ('pool block timestamp', '507.46572974244947'), ('finalization timestamp', '349.3240577319906')])\n",
      "OrderedDict([('id', '2bfe195061'), ('source node', '38'), ('generated timestamp', '1.4476465083284076'), ('main chain arrival timestamp', '332.8340229293733'), ('pool block timestamp', '507.46572974244947'), ('finalization timestamp', '349.3240577319906')])\n",
      "OrderedDict([('id', 'b833c2d0f1'), ('source node', '12'), ('generated timestamp', '1.2419556635340898'), ('main chain arrival timestamp', '332.8340229293733'), ('pool block timestamp', '507.46572974244947'), ('finalization timestamp', '349.3240577319906')])\n",
      "OrderedDict([('id', 'db19eb0ba4'), ('source node', '2'), ('generated timestamp', '0.2563850763348731'), ('main chain arrival timestamp', '332.8340229293733'), ('pool block timestamp', '507.46572974244947'), ('finalization timestamp', '349.3240577319906')])\n"
     ]
    }
   ],
   "source": [
    "import csv\n",
    "\n",
    "finalized_main_chain_pool_tx = None\n",
    "not_on_main_chain_pool_tx = None\n",
    "finalized_main_chain_tree_tx = None\n",
    "unfinalized_main_chain_tree_tx = None\n",
    "not_on_main_chain_tree_tx = None\n",
    "\n",
    "with open('../logs/transactions.csv', newline='') as csvfile:\n",
    "    reader = csv.DictReader(csvfile)\n",
    "    row_count = 0\n",
    "    for row in reader:\n",
    "        if row['finalization timestamp']!='None'and row['main chain arrival timestamp']!='None' and row['pool block timestamp']!='None' and finalized_main_chain_pool_tx==None:\n",
    "            finalized_main_chain_pool_tx = row\n",
    "        elif row['main chain arrival timestamp']=='None' and row['pool block timestamp']!='None' and not_on_main_chain_pool_tx==None:\n",
    "            not_on_main_chain_pool_tx = row\n",
    "        elif row['finalization timestamp']!='None' and row['main chain arrival timestamp']!='None' and row['pool block timestamp']=='None' and finalized_main_chain_tree_tx==None:\n",
    "            finalized_main_chain_tree_tx = row\n",
    "        elif row['finalization timestamp']=='None' and row['main chain arrival timestamp']!='None' and row['pool block timestamp']=='None' and unfinalized_main_chain_tree_tx==None:\n",
    "            unfinalized_main_chain_tree_tx = row\n",
    "        elif row['main chain arrival timestamp']=='None' and row['pool block timestamp']=='None' and not_on_main_chain_tree_tx==None: \n",
    "            not_on_main_chain_tree_tx = row\n",
    "        if row_count<10:\n",
    "            print(row)\n",
    "        row_count+=1"
   ]
  },
  {
   "cell_type": "code",
   "execution_count": 12,
   "metadata": {},
   "outputs": [
    {
     "name": "stdout",
     "output_type": "stream",
     "text": [
      "Finalized Pool Transaction:\n",
      "OrderedDict([('id', '3aad3ad3b8'), ('source node', '85'), ('generated timestamp', '1.9200304859076223'), ('main chain arrival timestamp', '451.7505337296041'), ('pool block timestamp', '622.295166136546'), ('finalization timestamp', '440.79903601584635')])\n",
      "Pool Transaction Not on Main Chain:\n",
      "OrderedDict([('id', '7da6163261'), ('source node', '2'), ('generated timestamp', '1.0473281804196783'), ('main chain arrival timestamp', 'None'), ('pool block timestamp', '592.2007763690855'), ('finalization timestamp', 'None')])\n",
      "Finalized Tree Transaction:\n",
      "None\n",
      "Unfinalized Tree Transaction:\n",
      "None\n",
      "Tree Transaction Not on Main Chain:\n",
      "OrderedDict([('id', '6db53a8cf3'), ('source node', '77'), ('generated timestamp', '13.500968691143443'), ('main chain arrival timestamp', 'None'), ('pool block timestamp', 'None'), ('finalization timestamp', 'None')])\n"
     ]
    }
   ],
   "source": [
    "print(f'Finalized Pool Transaction:\\n{finalized_main_chain_pool_tx}')\n",
    "print(f'Pool Transaction Not on Main Chain:\\n{not_on_main_chain_pool_tx}')\n",
    "print(f'Finalized Tree Transaction:\\n{finalized_main_chain_tree_tx}')\n",
    "print(f'Unfinalized Tree Transaction:\\n{unfinalized_main_chain_tree_tx}')\n",
    "print(f'Tree Transaction Not on Main Chain:\\n{not_on_main_chain_tree_tx}')\n"
   ]
  },
  {
   "cell_type": "markdown",
   "metadata": {},
   "source": [
    "Let's consider the first case of the finalized pool transaction. If we look into `blocks.csv`,\n",
    "we should be able to see that the transaction's main chain arrival timestamp and pool block timestamp\n",
    "should be equivalent to a tree block's proposal time. Additionally, the finalization time should be\n",
    "the tree block's finalization time."
   ]
  },
  {
   "cell_type": "code",
   "execution_count": 13,
   "metadata": {},
   "outputs": [
    {
     "name": "stdout",
     "output_type": "stream",
     "text": [
      "OrderedDict([('id', 'd3800'), ('parent id', 'Genesis'), ('proposal timestamp', '25.77728505415487'), ('pool block timestamp', 'None'), ('finalization timestamp', 'None'), ('depth', '1'), ('finalized', 'False'), ('transactions', 'bd69eaf94b;a93d70d95c;13e57d64f6;cb8cc8f9d8;62324fc5d7;b8c0e94aa2;8814681175;19ed14b4b6;06865204ad;ea299bad72;481431b005;f4321af813;755752eb95;4302146ee0;0cbef67a3d;d7fc1c3f5f;d78a298db6;2b0cecf23a;6dabf50606;297bfa2754;48187c5476;a2fbd9dda0;1444267774;22ae075136;958796a5b0;eaf0d7f2b1;9c0074e999;9dbb8e00e7;1d74898765;8dd6b6537a;3aad3ad3b8;f3595ed55b;438a7ff5d0;8e593888b0;47de728448;aea33a1c83;d5310b3868;2bfe195061;b833c2d0f1;db19eb0ba4;d70c9ac5ea;88676048f9;2c6c596a92;ea9fc13c17;c969f9b83f;ed30c14dff;53145fe79f;1388e28fa8;1c52af48a5;d98d8e3405;55d266be34')])\n"
     ]
    }
   ],
   "source": [
    "with open('../logs/blocks.csv', newline='') as csvfile:\n",
    "    reader = csv.DictReader(csvfile)\n",
    "    if finalized_main_chain_pool_tx!=None:\n",
    "        for row in reader:\n",
    "            if finalized_main_chain_pool_tx['id'] in row['transactions']:\n",
    "                print(row)\n",
    "                break"
   ]
  },
  {
   "cell_type": "markdown",
   "metadata": {},
   "source": [
    "Now let's consider the second case of the pool transaction not on the main chain.\n",
    "We should see that it belongs to a block that is not finalized and not on the main chain, indicated\n",
    "by the fact the block's finalization timestamp and main chain arrival timestamp will both be `'None'`. However, the pool block timestamp should be equal to the block's proposal timestamp."
   ]
  },
  {
   "cell_type": "code",
   "execution_count": 14,
   "metadata": {},
   "outputs": [
    {
     "name": "stdout",
     "output_type": "stream",
     "text": [
      "OrderedDict([('id', '9722a'), ('parent id', 'None'), ('proposal timestamp', '5.394665741295533'), ('pool block timestamp', ''), ('finalization timestamp', 'None'), ('depth', 'NA'), ('finalized', 'False'), ('transactions', 'db19eb0ba4;6a4a81cc20;ae097a2641;d9ba950391;7da6163261;f33d271efa;8d0a6e09e0;9415ee9db5;84d0dd4dd7;0a7d2114d6')])\n"
     ]
    }
   ],
   "source": [
    "with open('../logs/blocks.csv', newline='') as csvfile:\n",
    "    reader = csv.DictReader(csvfile)\n",
    "    if not_on_main_chain_pool_tx!=None:\n",
    "        for row in reader:\n",
    "            if not_on_main_chain_pool_tx['id'] in row['transactions']:\n",
    "                print(row)\n",
    "                break"
   ]
  },
  {
   "cell_type": "markdown",
   "metadata": {},
   "source": [
    "The third case is the tree finalized tree transaction on the main chain. We should see that it\n",
    "belongs to a block with equal finalization and main chain arrival timestamps, but a pool block timestamp equal to `'None'`."
   ]
  },
  {
   "cell_type": "code",
   "execution_count": 15,
   "metadata": {},
   "outputs": [],
   "source": [
    "with open('../logs/blocks.csv', newline='') as csvfile:\n",
    "    reader = csv.DictReader(csvfile)\n",
    "    if finalized_main_chain_tree_tx!=None:\n",
    "        for row in reader:\n",
    "            if finalized_main_chain_tree_tx['id'] in row['transactions']:\n",
    "                print(row)\n",
    "                break"
   ]
  },
  {
   "cell_type": "markdown",
   "metadata": {},
   "source": [
    "The fourth case is the unfinalized tree transaction on the main chain. We should see that it\n",
    "belongs to a block with equal main chain arrival timestamp, but pool block and finalization\n",
    "timestamps equal to `'None'`."
   ]
  },
  {
   "cell_type": "code",
   "execution_count": 16,
   "metadata": {},
   "outputs": [],
   "source": [
    "with open('../logs/blocks.csv', newline='') as csvfile:\n",
    "    reader = csv.DictReader(csvfile)\n",
    "    if unfinalized_main_chain_tree_tx!=None:\n",
    "        for row in reader:\n",
    "            if unfinalized_main_chain_tree_tx['id'] in row['transactions']:\n",
    "                print(row)\n",
    "                break"
   ]
  },
  {
   "cell_type": "markdown",
   "metadata": {},
   "source": [
    "The final case is the tree transaction not on the main chain. The block is not used for any statistics and is not logged."
   ]
  },
  {
   "cell_type": "code",
   "execution_count": null,
   "metadata": {},
   "outputs": [],
   "source": []
  }
 ],
 "metadata": {
  "kernelspec": {
   "display_name": "Python 3",
   "language": "python",
   "name": "python3"
  },
  "language_info": {
   "codemirror_mode": {
    "name": "ipython",
    "version": 3
   },
   "file_extension": ".py",
   "mimetype": "text/x-python",
   "name": "python",
   "nbconvert_exporter": "python",
   "pygments_lexer": "ipython3",
   "version": "3.7.0"
  }
 },
 "nbformat": 4,
 "nbformat_minor": 2
}
