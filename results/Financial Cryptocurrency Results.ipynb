{
 "cells": [
  {
   "cell_type": "markdown",
   "metadata": {},
   "source": [
    "## Introduction\n",
    "\n",
    "### Definitions\n",
    "\n",
    "##### Global Blocktree\n",
    "A global tree maintained during the simulation used to determine certain statistics\n",
    "\n",
    "##### Node Tree\n",
    "A Node has a tree structure consisting of tree blocks just like in the Longest Chain Protocol.\n",
    "\n",
    "##### Main Chain\n",
    "On a tree structure, the main chain is defined in this protocol as the Longest Chain from the Genesis block to a leaf block.\n",
    "\n",
    "##### Node Pool\n",
    "A node also has a pool structure consisting of pool blocks. \n",
    "\n",
    "##### Tree Block\n",
    "A block on the global blocktree or in a node's local tree.\n",
    "\n",
    "##### Pool Block\n",
    "A block in a node's local pool. The block may or may not be referenced by the next tree block proposed by the node.\n",
    "\n",
    "##### Finalized\n",
    "A block is considered finalized in two cases:\n",
    "\n",
    "1) If in a tree block - if the block is `k` blocks deep on the main chain\n",
    "2) If in a pool block - if the pool block is referenced by a tree block that is finalized\n",
    "\n",
    "A transaction is considered finalized if it is in a finalized block"
   ]
  },
  {
   "cell_type": "markdown",
   "metadata": {},
   "source": [
    "## Simulation Description\n",
    "\n",
    "We measure multiple metrics to understand a transactions behavior during the simulation. \n",
    "\n",
    "#### Throughput\n",
    "How many of the transactions generated actually get finalized in the simulation? \n",
    "\n",
    "#### Pool Block Arrival Latency\n",
    "How long does it take for a transaction to make it into a pool block and get referenced?\n",
    "\n",
    "#### Main Chain Arrival Latency\n",
    "How long does it take for a transaction to make it onto the main chain?\n",
    "\n",
    "#### Finalization Latency\n",
    "How long does it take for a transaction to be finalized once it arrives on the main chain?\n"
   ]
  },
  {
   "cell_type": "markdown",
   "metadata": {},
   "source": [
    "### Experimental Parameters"
   ]
  },
  {
   "cell_type": "code",
   "execution_count": 1,
   "metadata": {},
   "outputs": [],
   "source": [
    "import numpy as np\n",
    "%matplotlib inline\n",
    "\n",
    "num_tests = 10\n",
    "\n",
    "tree_proposal_rates = np.linspace(0.1, 0.1, num_tests)\n",
    "pool_proposal_rates = np.linspace(0.1, 5, num_tests)\n",
    "n_trials = 1\n",
    "import json\n",
    "\n",
    "# Create experimental parameters and write to JSON file\n",
    "\n",
    "params = {'Block tree proposal rate parameter': 0,\n",
    " 'Block pool proposal rate parameter': 0,\n",
    " 'Transaction rate parameter': 0,\n",
    " 'Block size (txs)': 50,\n",
    " 'Duration (sec)': 0,\n",
    " 'Fork choice rule': 'longest-chain-with-pool',\n",
    " 'Network model': 'Decker-Wattenhorf',\n",
    " 'Number of adversaries': 1,\n",
    " 'Number of nodes': 100,\n",
    " 'Probability of error in transaction confirmation': 0.1,\n",
    " 'Transaction dataset': 'poisson',\n",
    " 'Logging enabled': True}"
   ]
  },
  {
   "cell_type": "markdown",
   "metadata": {},
   "source": [
    "### Run experiments"
   ]
  },
  {
   "cell_type": "code",
   "execution_count": 2,
   "metadata": {},
   "outputs": [
    {
     "name": "stdout",
     "output_type": "stream",
     "text": [
      "Parameters:\n",
      "{'longest-chain-with-pool': {'Block pool proposal rate parameter': 0.1,\n",
      "                             'Block size (txs)': 50,\n",
      "                             'Block tree proposal rate parameter': 0.1,\n",
      "                             'Duration (sec)': 300,\n",
      "                             'Fork choice rule': 'longest-chain-with-pool',\n",
      "                             'Logging enabled': True,\n",
      "                             'Network model': 'Decker-Wattenhorf',\n",
      "                             'Number of adversaries': 1,\n",
      "                             'Number of nodes': 100,\n",
      "                             'Probability of error in transaction confirmation': 0.1,\n",
      "                             'Transaction dataset': 'poisson',\n",
      "                             'Transaction rate parameter': 5.0},\n",
      " 'setting-name': 'longest-chain-with-pool'}\n",
      "Parameters:\n",
      "{'longest-chain-with-pool': {'Block pool proposal rate parameter': 0.6444444444444445,\n",
      "                             'Block size (txs)': 50,\n",
      "                             'Block tree proposal rate parameter': 0.1,\n",
      "                             'Duration (sec)': 300,\n",
      "                             'Fork choice rule': 'longest-chain-with-pool',\n",
      "                             'Logging enabled': True,\n",
      "                             'Network model': 'Decker-Wattenhorf',\n",
      "                             'Number of adversaries': 1,\n",
      "                             'Number of nodes': 100,\n",
      "                             'Probability of error in transaction confirmation': 0.1,\n",
      "                             'Transaction dataset': 'poisson',\n",
      "                             'Transaction rate parameter': 32.22222222222222},\n",
      " 'setting-name': 'longest-chain-with-pool'}\n",
      "Parameters:\n",
      "{'longest-chain-with-pool': {'Block pool proposal rate parameter': 1.188888888888889,\n",
      "                             'Block size (txs)': 50,\n",
      "                             'Block tree proposal rate parameter': 0.1,\n",
      "                             'Duration (sec)': 300,\n",
      "                             'Fork choice rule': 'longest-chain-with-pool',\n",
      "                             'Logging enabled': True,\n",
      "                             'Network model': 'Decker-Wattenhorf',\n",
      "                             'Number of adversaries': 1,\n",
      "                             'Number of nodes': 100,\n",
      "                             'Probability of error in transaction confirmation': 0.1,\n",
      "                             'Transaction dataset': 'poisson',\n",
      "                             'Transaction rate parameter': 59.44444444444446},\n",
      " 'setting-name': 'longest-chain-with-pool'}\n",
      "Parameters:\n",
      "{'longest-chain-with-pool': {'Block pool proposal rate parameter': 1.7333333333333336,\n",
      "                             'Block size (txs)': 50,\n",
      "                             'Block tree proposal rate parameter': 0.1,\n",
      "                             'Duration (sec)': 300,\n",
      "                             'Fork choice rule': 'longest-chain-with-pool',\n",
      "                             'Logging enabled': True,\n",
      "                             'Network model': 'Decker-Wattenhorf',\n",
      "                             'Number of adversaries': 1,\n",
      "                             'Number of nodes': 100,\n",
      "                             'Probability of error in transaction confirmation': 0.1,\n",
      "                             'Transaction dataset': 'poisson',\n",
      "                             'Transaction rate parameter': 86.66666666666669},\n",
      " 'setting-name': 'longest-chain-with-pool'}\n",
      "Parameters:\n",
      "{'longest-chain-with-pool': {'Block pool proposal rate parameter': 2.277777777777778,\n",
      "                             'Block size (txs)': 50,\n",
      "                             'Block tree proposal rate parameter': 0.1,\n",
      "                             'Duration (sec)': 300,\n",
      "                             'Fork choice rule': 'longest-chain-with-pool',\n",
      "                             'Logging enabled': True,\n",
      "                             'Network model': 'Decker-Wattenhorf',\n",
      "                             'Number of adversaries': 1,\n",
      "                             'Number of nodes': 100,\n",
      "                             'Probability of error in transaction confirmation': 0.1,\n",
      "                             'Transaction dataset': 'poisson',\n",
      "                             'Transaction rate parameter': 113.8888888888889},\n",
      " 'setting-name': 'longest-chain-with-pool'}\n",
      "Parameters:\n",
      "{'longest-chain-with-pool': {'Block pool proposal rate parameter': 2.8222222222222224,\n",
      "                             'Block size (txs)': 50,\n",
      "                             'Block tree proposal rate parameter': 0.1,\n",
      "                             'Duration (sec)': 300,\n",
      "                             'Fork choice rule': 'longest-chain-with-pool',\n",
      "                             'Logging enabled': True,\n",
      "                             'Network model': 'Decker-Wattenhorf',\n",
      "                             'Number of adversaries': 1,\n",
      "                             'Number of nodes': 100,\n",
      "                             'Probability of error in transaction confirmation': 0.1,\n",
      "                             'Transaction dataset': 'poisson',\n",
      "                             'Transaction rate parameter': 141.11111111111111},\n",
      " 'setting-name': 'longest-chain-with-pool'}\n",
      "Parameters:\n",
      "{'longest-chain-with-pool': {'Block pool proposal rate parameter': 3.366666666666667,\n",
      "                             'Block size (txs)': 50,\n",
      "                             'Block tree proposal rate parameter': 0.1,\n",
      "                             'Duration (sec)': 300,\n",
      "                             'Fork choice rule': 'longest-chain-with-pool',\n",
      "                             'Logging enabled': True,\n",
      "                             'Network model': 'Decker-Wattenhorf',\n",
      "                             'Number of adversaries': 1,\n",
      "                             'Number of nodes': 100,\n",
      "                             'Probability of error in transaction confirmation': 0.1,\n",
      "                             'Transaction dataset': 'poisson',\n",
      "                             'Transaction rate parameter': 168.33333333333337},\n",
      " 'setting-name': 'longest-chain-with-pool'}\n",
      "Parameters:\n",
      "{'longest-chain-with-pool': {'Block pool proposal rate parameter': 3.911111111111112,\n",
      "                             'Block size (txs)': 50,\n",
      "                             'Block tree proposal rate parameter': 0.1,\n",
      "                             'Duration (sec)': 300,\n",
      "                             'Fork choice rule': 'longest-chain-with-pool',\n",
      "                             'Logging enabled': True,\n",
      "                             'Network model': 'Decker-Wattenhorf',\n",
      "                             'Number of adversaries': 1,\n",
      "                             'Number of nodes': 100,\n",
      "                             'Probability of error in transaction confirmation': 0.1,\n",
      "                             'Transaction dataset': 'poisson',\n",
      "                             'Transaction rate parameter': 195.5555555555556},\n",
      " 'setting-name': 'longest-chain-with-pool'}\n",
      "Parameters:\n",
      "{'longest-chain-with-pool': {'Block pool proposal rate parameter': 4.455555555555556,\n",
      "                             'Block size (txs)': 50,\n",
      "                             'Block tree proposal rate parameter': 0.1,\n",
      "                             'Duration (sec)': 300,\n",
      "                             'Fork choice rule': 'longest-chain-with-pool',\n",
      "                             'Logging enabled': True,\n",
      "                             'Network model': 'Decker-Wattenhorf',\n",
      "                             'Number of adversaries': 1,\n",
      "                             'Number of nodes': 100,\n",
      "                             'Probability of error in transaction confirmation': 0.1,\n",
      "                             'Transaction dataset': 'poisson',\n",
      "                             'Transaction rate parameter': 222.77777777777777},\n",
      " 'setting-name': 'longest-chain-with-pool'}\n",
      "Parameters:\n",
      "{'longest-chain-with-pool': {'Block pool proposal rate parameter': 5.0,\n",
      "                             'Block size (txs)': 50,\n",
      "                             'Block tree proposal rate parameter': 0.1,\n",
      "                             'Duration (sec)': 300,\n",
      "                             'Fork choice rule': 'longest-chain-with-pool',\n",
      "                             'Logging enabled': True,\n",
      "                             'Network model': 'Decker-Wattenhorf',\n",
      "                             'Number of adversaries': 1,\n",
      "                             'Number of nodes': 100,\n",
      "                             'Probability of error in transaction confirmation': 0.1,\n",
      "                             'Transaction dataset': 'poisson',\n",
      "                             'Transaction rate parameter': 250.0},\n",
      " 'setting-name': 'longest-chain-with-pool'}\n"
     ]
    },
    {
     "name": "stdout",
     "output_type": "stream",
     "text": [
      "Throughputs:\n",
      " {(0.1, 0.1): [3.484], (0.1, 0.6444444444444445): [11.576], (0.1, 1.188888888888889): [8.884], (0.1, 1.7333333333333336): [13.484], (0.1, 2.277777777777778): [16.356], (0.1, 2.8222222222222224): [20.068], (0.1, 3.366666666666667): [17.868], (0.1, 3.911111111111112): [18.252], (0.1, 4.455555555555556): [22.34], (0.1, 5.0): [25.776]}\n",
      "Main Chain Arrival Latencies:\n",
      " {(0.1, 0.1): [46.64769575592758], (0.1, 0.6444444444444445): [128.7153329394039], (0.1, 1.188888888888889): [125.31488228592593], (0.1, 1.7333333333333336): [138.03993023386568], (0.1, 2.277777777777778): [159.47913126815098], (0.1, 2.8222222222222224): [165.49754532363085], (0.1, 3.366666666666667): [153.3741283630506], (0.1, 3.911111111111112): [154.46141360478632], (0.1, 4.455555555555556): [181.3427034481943], (0.1, 5.0): [158.62612142836915]}\n",
      "Pool Block Latencies:\n",
      " {(0.1, 0.1): [115.18164581252046], (0.1, 0.6444444444444445): [231.7208762938317], (0.1, 1.188888888888889): [213.38849869313094], (0.1, 1.7333333333333336): [257.52423207112344], (0.1, 2.277777777777778): [225.96847781591353], (0.1, 2.8222222222222224): [218.8634959869354], (0.1, 3.366666666666667): [225.71879982436306], (0.1, 3.911111111111112): [230.72464554916078], (0.1, 4.455555555555556): [239.78143697186775], (0.1, 5.0): [261.95716670014326]}\n",
      "Finalization Latencies:\n",
      " {(0.1, 0.1): [8.722205061279409], (0.1, 0.6444444444444445): [7.695208581065041], (0.1, 1.188888888888889): [20.769980004689828], (0.1, 1.7333333333333336): [10.680479365536842], (0.1, 2.277777777777778): [8.526573431850458], (0.1, 2.8222222222222224): [6.494640167093707], (0.1, 3.366666666666667): [5.374805125869338], (0.1, 3.911111111111112): [30.9489853482752], (0.1, 4.455555555555556): [11.451467957704011], (0.1, 5.0): [28.129042748529805]}\n"
     ]
    }
   ],
   "source": [
    "import os, shutil, pprint, glob, csv\n",
    "\n",
    "pp = pprint.PrettyPrinter()\n",
    "os.system('touch longest_chain_with_pool.json')\n",
    "os.chdir('..')\n",
    "\n",
    "import metrics\n",
    "\n",
    "throughputs = {}\n",
    "main_chain_arrival_latencies = {}\n",
    "pool_block_latencies = {}\n",
    "finalization_latencies = {}\n",
    "hist_data = {}\n",
    "\n",
    "for i in range(0, num_tests):\n",
    "    tree_rate = tree_proposal_rates[i]\n",
    "    pool_rate = pool_proposal_rates[i]\n",
    "    params['Block tree proposal rate parameter'] = tree_rate\n",
    "    params['Block pool proposal rate parameter'] = pool_rate\n",
    "    params['Transaction rate parameter'] = pool_rate*int(params['Block size (txs)'])\n",
    "    params['Duration (sec)'] = 300\n",
    "    d = {}\n",
    "    d['setting-name'] = f'longest-chain-with-pool'\n",
    "    d[f'longest-chain-with-pool'] = params\n",
    "    print('Parameters:')\n",
    "    pp.pprint(d)\n",
    "    with open('results/longest_chain_with_pool.json', 'w+') as outfile:\n",
    "        json.dump(d, outfile)\n",
    "    throughputs[(tree_rate, pool_rate)] = []\n",
    "    main_chain_arrival_latencies[(tree_rate, pool_rate)] = []\n",
    "    pool_block_latencies[(tree_rate, pool_rate)] = []\n",
    "    finalization_latencies[(tree_rate, pool_rate)] = []\n",
    "    for trial in range(0, n_trials):\n",
    "        os.system('python3 main.py -f results/longest_chain_with_pool.json')\n",
    "        throughput = metrics.compute_throughput()\n",
    "        avg_main_chain_arrival_latency, avg_pool_block_latency, avg_finalization_latency = metrics.compute_latency()\n",
    "        throughputs[(tree_rate, pool_rate)].append(throughput)\n",
    "        main_chain_arrival_latencies[(tree_rate, pool_rate)].append(avg_main_chain_arrival_latency)\n",
    "        pool_block_latencies[(tree_rate, pool_rate)].append(avg_pool_block_latency)\n",
    "        finalization_latencies[(tree_rate, pool_rate)].append(avg_finalization_latency)\n",
    "    \n",
    "os.chdir('results/')\n",
    "os.remove('longest_chain_with_pool.json')\n",
    "print('Throughputs:\\n', throughputs)\n",
    "print('Main Chain Arrival Latencies:\\n', main_chain_arrival_latencies)\n",
    "print('Pool Block Latencies:\\n', pool_block_latencies)\n",
    "print('Finalization Latencies:\\n', finalization_latencies)"
   ]
  },
  {
   "cell_type": "markdown",
   "metadata": {},
   "source": [
    "### Compute Averages\n",
    "\n",
    "Average throughput is the number of finalized transactions divided by the duration of the experiment.\n",
    "\n",
    "Average main chain latency is the time for a transaction to be added to the global blocktree - the timestamp the transaction was generated.\n",
    "\n",
    "Average pool block latency is the time for a transaction to be added to a pool block AND referenced by a tree block.\n",
    "\n",
    "Average finalization latency is the time for a transaction to be k blocks deep - to be added to the global blocktree."
   ]
  },
  {
   "cell_type": "code",
   "execution_count": 3,
   "metadata": {},
   "outputs": [
    {
     "name": "stdout",
     "output_type": "stream",
     "text": [
      "Average Throughputs: {(0.1, 0.1): 3.484, (0.1, 0.6444444444444445): 11.576, (0.1, 1.188888888888889): 8.884, (0.1, 1.7333333333333336): 13.484, (0.1, 2.277777777777778): 16.356, (0.1, 2.8222222222222224): 20.068, (0.1, 3.366666666666667): 17.868, (0.1, 3.911111111111112): 18.252, (0.1, 4.455555555555556): 22.34, (0.1, 5.0): 25.776}\n",
      "Average Main Chain Arrival Latency: {(0.1, 0.1): 46.64769575592758, (0.1, 0.6444444444444445): 128.7153329394039, (0.1, 1.188888888888889): 125.31488228592593, (0.1, 1.7333333333333336): 138.03993023386568, (0.1, 2.277777777777778): 159.47913126815098, (0.1, 2.8222222222222224): 165.49754532363085, (0.1, 3.366666666666667): 153.3741283630506, (0.1, 3.911111111111112): 154.46141360478632, (0.1, 4.455555555555556): 181.3427034481943, (0.1, 5.0): 158.62612142836915}\n",
      "Average Main Chain Arrival Latency: {(0.1, 0.1): 46.64769575592758, (0.1, 0.6444444444444445): 128.7153329394039, (0.1, 1.188888888888889): 125.31488228592593, (0.1, 1.7333333333333336): 138.03993023386568, (0.1, 2.277777777777778): 159.47913126815098, (0.1, 2.8222222222222224): 165.49754532363085, (0.1, 3.366666666666667): 153.3741283630506, (0.1, 3.911111111111112): 154.46141360478632, (0.1, 4.455555555555556): 181.3427034481943, (0.1, 5.0): 158.62612142836915}\n",
      "Average Finalization Latency: {(0.1, 0.1): 8.722205061279409, (0.1, 0.6444444444444445): 7.695208581065041, (0.1, 1.188888888888889): 20.769980004689828, (0.1, 1.7333333333333336): 10.680479365536842, (0.1, 2.277777777777778): 8.526573431850458, (0.1, 2.8222222222222224): 6.494640167093707, (0.1, 3.366666666666667): 5.374805125869338, (0.1, 3.911111111111112): 30.9489853482752, (0.1, 4.455555555555556): 11.451467957704011, (0.1, 5.0): 28.129042748529805}\n"
     ]
    }
   ],
   "source": [
    "avg_throughputs = {}\n",
    "for rate in throughputs:\n",
    "    avg_throughputs[rate] = sum(throughputs[rate])/len(throughputs[rate])\n",
    "\n",
    "print(\"Average Throughputs:\", avg_throughputs)\n",
    "    \n",
    "avg_main_chain_latencies = {}\n",
    "for rate in main_chain_arrival_latencies:\n",
    "    avg_main_chain_latencies[rate] = sum(main_chain_arrival_latencies[rate])/len(main_chain_arrival_latencies[rate])\n",
    "\n",
    "print(\"Average Main Chain Arrival Latency:\", avg_main_chain_latencies)\n",
    "\n",
    "avg_pool_block_latencies = {}\n",
    "for rate in pool_block_latencies:\n",
    "    avg_pool_block_latencies[rate] = sum(pool_block_latencies[rate])/len(pool_block_latencies[rate])\n",
    "\n",
    "print(\"Average Main Chain Arrival Latency:\", avg_main_chain_latencies)\n",
    "\n",
    "avg_finalization_latencies = {}\n",
    "for rate in finalization_latencies:\n",
    "    avg_finalization_latencies[rate] = sum(finalization_latencies[rate])/len(finalization_latencies[rate])\n",
    "    \n",
    "print(\"Average Finalization Latency:\", avg_finalization_latencies)"
   ]
  },
  {
   "cell_type": "markdown",
   "metadata": {},
   "source": [
    "### Extract Finalization Depth and Delta for Blocks"
   ]
  },
  {
   "cell_type": "code",
   "execution_count": 4,
   "metadata": {},
   "outputs": [],
   "source": [
    "import csv\n",
    "with open('../logs/stats.csv', newline='') as csvfile:\n",
    "    reader = csv.reader(csvfile, delimiter=',')\n",
    "    for row in reader:\n",
    "        if row[0]=='Finalization depth':\n",
    "            k = int(row[1])\n",
    "        elif row[0]=='Average network latency for blocks (sec)':\n",
    "            delta = float(row[1])"
   ]
  },
  {
   "cell_type": "markdown",
   "metadata": {},
   "source": [
    "### Plotting the results"
   ]
  },
  {
   "cell_type": "code",
   "execution_count": 5,
   "metadata": {},
   "outputs": [],
   "source": [
    "import matplotlib.pylab as plt\n",
    "x = [key[1] for key in avg_main_chain_latencies.keys()]\n",
    "y1 = avg_throughputs.values()\n",
    "y2 = avg_main_chain_latencies.values()\n",
    "y3 = avg_pool_block_latencies.values()\n",
    "y4 = avg_finalization_latencies.values()"
   ]
  },
  {
   "cell_type": "code",
   "execution_count": 6,
   "metadata": {},
   "outputs": [
    {
     "data": {
      "image/png": "[encoded data removed]",
      "text/plain": [
       "<Figure size 432x288 with 1 Axes>"
      ]
     },
     "metadata": {
      "needs_background": "light"
     },
     "output_type": "display_data"
    }
   ],
   "source": [
    "plt.xlabel('Pool Block Proposal Rate (blocks/sec)')\n",
    "plt.ylabel('Throughput (txs/sec)')\n",
    "plt.title(f'Transaction Throughput vs. Pool Block Proposal Rate (k={k}, delta={delta})')\n",
    "plt.grid(True)\n",
    "\n",
    "plt.plot(x, y1, label='observed rate')\n",
    "plt.legend()\n",
    "plt.show()"
   ]
  },
  {
   "cell_type": "code",
   "execution_count": 7,
   "metadata": {},
   "outputs": [
    {
     "data": {
      "image/png": "[encoded data removed]",
      "text/plain": [
       "<Figure size 432x288 with 1 Axes>"
      ]
     },
     "metadata": {
      "needs_background": "light"
     },
     "output_type": "display_data"
    }
   ],
   "source": [
    "plt.xlabel('Pool Block Proposal Rate (blocks/sec)')\n",
    "plt.ylabel('Main Chain Arrival Latency (sec)')\n",
    "plt.title(f'Main Chain Arrival Latency vs. Pool Block Proposal Rate (k={k}, delta={delta})')\n",
    "plt.grid(True)\n",
    "\n",
    "plt.plot(x, y2, label='observed rate')\n",
    "plt.legend()\n",
    "plt.show()"
   ]
  },
  {
   "cell_type": "code",
   "execution_count": 8,
   "metadata": {},
   "outputs": [
    {
     "data": {
      "image/png": "[encoded data removed]",
      "text/plain": [
       "<Figure size 432x288 with 1 Axes>"
      ]
     },
     "metadata": {
      "needs_background": "light"
     },
     "output_type": "display_data"
    }
   ],
   "source": [
    "plt.xlabel('Pool Block Proposal Rate (blocks/sec)')\n",
    "plt.ylabel('Pool Block Latency (sec)')\n",
    "plt.title(f'Pool Block Latency vs. Pool Block Proposal Rate (k={k}, delta={delta})')\n",
    "plt.grid(True)\n",
    "\n",
    "plt.plot(x, y2, label='observed rate')\n",
    "plt.legend()\n",
    "plt.show()"
   ]
  },
  {
   "cell_type": "code",
   "execution_count": 9,
   "metadata": {},
   "outputs": [
    {
     "data": {
      "image/png": "[encoded data removed]",
      "text/plain": [
       "<Figure size 432x288 with 1 Axes>"
      ]
     },
     "metadata": {
      "needs_background": "light"
     },
     "output_type": "display_data"
    }
   ],
   "source": [
    "plt.xlabel('Pool Block Proposal Rate (blocks/sec)')\n",
    "plt.ylabel('Finalization Latency (sec)')\n",
    "plt.title(f'Finalization Latency vs. Pool Block Proposal Rate (k={k}, delta={delta})')\n",
    "plt.grid(True)\n",
    "plt.plot(x, y4, label='observed rate')\n",
    "plt.legend()\n",
    "plt.show()"
   ]
  },
  {
   "cell_type": "markdown",
   "metadata": {},
   "source": [
    "### Results\n",
    "\n",
    "We can look through the logs of the blocks to understand the process a block undergoes:"
   ]
  },
  {
   "cell_type": "code",
   "execution_count": 10,
   "metadata": {},
   "outputs": [
    {
     "name": "stdout",
     "output_type": "stream",
     "text": [
      "id,parent id,proposal timestamp,pool block timestamp,finalization timestamp,depth,finalized,transactions\n",
      "\n",
      "Genesis,None,0,None,3.589339873748993,0,True,\n",
      "\n",
      "9575d,Genesis,9.066282689409247,None,21.52104135514891,1,True,94cf06f0c4;06beb56090;1b4537251d;2d6186e065;747e52182d;3ec7fb0141;99c6a361ed;5cdcad6460;a0c93b5805;1e36ddb320;54812d691d;bb3bc880f1;d710b04c9b;577559afd0;193f2e668c;1b5a73b42d;f7f9230f15;41a3a365d6;cb60e8358b;4486226506;fdafecbfc3;82d261bd55;f9d9426f8f;c27f11a673;393a5f81d0;14a526bce4;e62983293b;18bd679696;2ce73fe6f0;6daf3dccd0;99f9f99bc5;b9c018f211;67d283f0be;2edaf78923;2e26c07328;9fc5270534;c4fbde26a5;bc2f13c38a;b17169d7c1;9f9eb3f3ae;c51c3197d2;6d85dbc8bb;056d2814a5;5948d0a724;9e3eb55241;2b851cf487;ad9f0251db;98b5f9caa1;1184a8df60;f35604716b;dbf9099590\n",
      "\n",
      "9d1da,None,3.589339873748993,,21.52104135514891,NA,True,94cf06f0c4;06beb56090;1b4537251d;2d6186e065;747e52182d\n",
      "\n",
      "57dfe,None,7.365162264896657,,21.52104135514891,NA,True,94cf06f0c4;06beb56090;1b4537251d;2d6186e065;747e52182d;3ec7fb0141;99c6a361ed;5cdcad6460;a0c93b5805;1e36ddb320;54812d691d;bb3bc880f1;d710b04c9b;577559afd0;193f2e668c;1b5a73b42d;f7f9230f15;41a3a365d6;cb60e8358b;4486226506;fdafecbfc3;82d261bd55;f9d9426f8f;c27f11a673;393a5f81d0;14a526bce4;e62983293b;18bd679696;2ce73fe6f0;6daf3dccd0;99f9f99bc5;b9c018f211;67d283f0be;2edaf78923;2e26c07328;9fc5270534;c4fbde26a5;bc2f13c38a;b17169d7c1;9f9eb3f3ae\n",
      "\n",
      "305c5,Genesis,24.958352120270963,None,None,1,False,b56c30b535;2812570de8;795fb8fe26;b00fe87d1e;b3282e0c25;6dda665efb;b9bc1901bb;2c03fea890;e3607f38b1;bc78b782a8;ce71c22b78;c71e4f0c5b;c25bb9eb3b;c340912057;4705039720;df8af8c0a7;9d258b937e;99fad45f4b;c2e80af98a;6f3af1afd1;216e1775a8;9895e4f5ab;dfb4c8bab5;0a29cfc310;fbb2c80937;a77e218e92;87a1247190;3d4078d7bb;12e7d87815;0228e37453;3eb7a12d9d;1e36ddb320;54812d691d;bb3bc880f1;d710b04c9b;577559afd0;193f2e668c;1b5a73b42d;f7f9230f15;41a3a365d6;cb60e8358b;4486226506;fdafecbfc3;82d261bd55;f9d9426f8f;c27f11a673;393a5f81d0;14a526bce4;e62983293b;18bd679696;2ce73fe6f0\n",
      "\n",
      "c5894,None,1.3939226716739954,,None,NA,False,\n",
      "\n",
      "2b0ba,None,4.815914303226667,,None,NA,False,\n",
      "\n",
      "7ab0a,None,1.2570543304383621,,None,NA,False,57929fab4f\n",
      "\n",
      "3be29,None,10.75541607281148,,None,NA,False,\n",
      "\n"
     ]
    }
   ],
   "source": [
    "with open('../logs/blocks.csv') as f:\n",
    "    for line in f.readlines()[:10]:\n",
    "        print(line)"
   ]
  },
  {
   "cell_type": "markdown",
   "metadata": {},
   "source": [
    "Additionally, we can visualize the results to see the global blocktree. In the following image, blue nodes indicate tree blocks on the main chain and yellow blocks indicate tree blocks\n",
    "off the main chain (i.e. 'orphan blocks').\n",
    "![title](../logs/blocktree.png)"
   ]
  },
  {
   "cell_type": "markdown",
   "metadata": {},
   "source": [
    "We can look through the logs to understand the process a transaction undergoes. A transaction can\n",
    "\n",
    "1) Be a pool or a tree transaction\n",
    "2) Be on the main chain or not on the main chain\n",
    "3) Be finalized or not finalized\n",
    "\n",
    "Hence, we will analyze each of the following cases:\n",
    "1) A pool transaction on the main chain that is finalized\n",
    "2) A pool transaction not on the main chain\n",
    "3) A tree transaction on the main chain that is finalized\n",
    "4) A tree transaction on the main chain that is not finalized\n",
    "5) A tree transaction not on the main chain"
   ]
  },
  {
   "cell_type": "code",
   "execution_count": 11,
   "metadata": {},
   "outputs": [
    {
     "name": "stdout",
     "output_type": "stream",
     "text": [
      "OrderedDict([('id', '1e36ddb320'), ('source node', '37'), ('generated timestamp', '1.9449882588221448'), ('main chain arrival timestamp', '267.7192870604125'), ('pool block timestamp', '309.20973877274855'), ('finalization timestamp', '266.7480791542135')])\n",
      "OrderedDict([('id', '54812d691d'), ('source node', '54'), ('generated timestamp', '1.0424026099372323'), ('main chain arrival timestamp', '267.7192870604125'), ('pool block timestamp', '309.20973877274855'), ('finalization timestamp', '266.7480791542135')])\n",
      "OrderedDict([('id', 'bb3bc880f1'), ('source node', '77'), ('generated timestamp', '1.5227837374509543'), ('main chain arrival timestamp', '267.7192870604125'), ('pool block timestamp', '309.20973877274855'), ('finalization timestamp', '266.7480791542135')])\n",
      "OrderedDict([('id', 'd710b04c9b'), ('source node', '66'), ('generated timestamp', '0.7421710673388979'), ('main chain arrival timestamp', '267.7192870604125'), ('pool block timestamp', '309.20973877274855'), ('finalization timestamp', '266.7480791542135')])\n",
      "OrderedDict([('id', '577559afd0'), ('source node', '29'), ('generated timestamp', '2.0790794822115126'), ('main chain arrival timestamp', '267.7192870604125'), ('pool block timestamp', '309.20973877274855'), ('finalization timestamp', '266.7480791542135')])\n",
      "OrderedDict([('id', '193f2e668c'), ('source node', '43'), ('generated timestamp', '1.2479463414629477'), ('main chain arrival timestamp', '267.7192870604125'), ('pool block timestamp', '309.20973877274855'), ('finalization timestamp', '266.7480791542135')])\n",
      "OrderedDict([('id', '1b5a73b42d'), ('source node', '36'), ('generated timestamp', '1.6881035262643507'), ('main chain arrival timestamp', '267.7192870604125'), ('pool block timestamp', '309.20973877274855'), ('finalization timestamp', '266.7480791542135')])\n",
      "OrderedDict([('id', 'f7f9230f15'), ('source node', '39'), ('generated timestamp', '0.04609313632521958'), ('main chain arrival timestamp', '267.7192870604125'), ('pool block timestamp', '309.20973877274855'), ('finalization timestamp', '266.7480791542135')])\n",
      "OrderedDict([('id', '41a3a365d6'), ('source node', '26'), ('generated timestamp', '0.2931510855487991'), ('main chain arrival timestamp', '267.7192870604125'), ('pool block timestamp', '309.20973877274855'), ('finalization timestamp', '266.7480791542135')])\n",
      "OrderedDict([('id', 'cb60e8358b'), ('source node', '39'), ('generated timestamp', '0.3927566722871595'), ('main chain arrival timestamp', '267.7192870604125'), ('pool block timestamp', '309.20973877274855'), ('finalization timestamp', '266.7480791542135')])\n"
     ]
    }
   ],
   "source": [
    "import csv\n",
    "\n",
    "finalized_main_chain_pool_tx = None\n",
    "not_on_main_chain_pool_tx = None\n",
    "finalized_main_chain_tree_tx = None\n",
    "unfinalized_main_chain_tree_tx = None\n",
    "not_on_main_chain_tree_tx = None\n",
    "\n",
    "with open('../logs/transactions.csv', newline='') as csvfile:\n",
    "    reader = csv.DictReader(csvfile)\n",
    "    row_count = 0\n",
    "    for row in reader:\n",
    "        if row['finalization timestamp']!='None'and row['main chain arrival timestamp']!='None' and row['pool block timestamp']!='None' and finalized_main_chain_pool_tx==None:\n",
    "            finalized_main_chain_pool_tx = row\n",
    "        elif row['main chain arrival timestamp']=='None' and row['pool block timestamp']!='None' and not_on_main_chain_pool_tx==None:\n",
    "            not_on_main_chain_pool_tx = row\n",
    "        elif row['finalization timestamp']!='None' and row['main chain arrival timestamp']!='None' and row['pool block timestamp']=='None' and finalized_main_chain_tree_tx==None:\n",
    "            finalized_main_chain_tree_tx = row\n",
    "        elif row['finalization timestamp']=='None' and row['main chain arrival timestamp']!='None' and row['pool block timestamp']=='None' and unfinalized_main_chain_tree_tx==None:\n",
    "            unfinalized_main_chain_tree_tx = row\n",
    "        elif row['main chain arrival timestamp']=='None' and row['pool block timestamp']=='None' and not_on_main_chain_tree_tx==None: \n",
    "            not_on_main_chain_tree_tx = row\n",
    "        if row_count<10:\n",
    "            print(row)\n",
    "        row_count+=1"
   ]
  },
  {
   "cell_type": "code",
   "execution_count": 12,
   "metadata": {},
   "outputs": [
    {
     "name": "stdout",
     "output_type": "stream",
     "text": [
      "Finalized Pool Transaction:\n",
      "OrderedDict([('id', '1e36ddb320'), ('source node', '37'), ('generated timestamp', '1.9449882588221448'), ('main chain arrival timestamp', '267.7192870604125'), ('pool block timestamp', '309.20973877274855'), ('finalization timestamp', '266.7480791542135')])\n",
      "Pool Transaction Not on Main Chain:\n",
      "OrderedDict([('id', 'f0b337de33'), ('source node', '55'), ('generated timestamp', '3.2035035376885386'), ('main chain arrival timestamp', 'None'), ('pool block timestamp', '262.3368675618195'), ('finalization timestamp', 'None')])\n",
      "Finalized Tree Transaction:\n",
      "None\n",
      "Unfinalized Tree Transaction:\n",
      "None\n",
      "Tree Transaction Not on Main Chain:\n",
      "OrderedDict([('id', 'c76b3741bf'), ('source node', '80'), ('generated timestamp', '17.020348677532382'), ('main chain arrival timestamp', 'None'), ('pool block timestamp', 'None'), ('finalization timestamp', 'None')])\n"
     ]
    }
   ],
   "source": [
    "print(f'Finalized Pool Transaction:\\n{finalized_main_chain_pool_tx}')\n",
    "print(f'Pool Transaction Not on Main Chain:\\n{not_on_main_chain_pool_tx}')\n",
    "print(f'Finalized Tree Transaction:\\n{finalized_main_chain_tree_tx}')\n",
    "print(f'Unfinalized Tree Transaction:\\n{unfinalized_main_chain_tree_tx}')\n",
    "print(f'Tree Transaction Not on Main Chain:\\n{not_on_main_chain_tree_tx}')\n"
   ]
  },
  {
   "cell_type": "markdown",
   "metadata": {},
   "source": [
    "Let's consider the first case of the finalized pool transaction. If we look into `blocks.csv`,\n",
    "we should be able to see that the transaction's main chain arrival timestamp and pool block timestamp\n",
    "should be equivalent to a tree block's proposal time. Additionally, the finalization time should be\n",
    "the tree block's finalization time."
   ]
  },
  {
   "cell_type": "code",
   "execution_count": 13,
   "metadata": {},
   "outputs": [
    {
     "name": "stdout",
     "output_type": "stream",
     "text": [
      "OrderedDict([('id', '9575d'), ('parent id', 'Genesis'), ('proposal timestamp', '9.066282689409247'), ('pool block timestamp', 'None'), ('finalization timestamp', '21.52104135514891'), ('depth', '1'), ('finalized', 'True'), ('transactions', '94cf06f0c4;06beb56090;1b4537251d;2d6186e065;747e52182d;3ec7fb0141;99c6a361ed;5cdcad6460;a0c93b5805;1e36ddb320;54812d691d;bb3bc880f1;d710b04c9b;577559afd0;193f2e668c;1b5a73b42d;f7f9230f15;41a3a365d6;cb60e8358b;4486226506;fdafecbfc3;82d261bd55;f9d9426f8f;c27f11a673;393a5f81d0;14a526bce4;e62983293b;18bd679696;2ce73fe6f0;6daf3dccd0;99f9f99bc5;b9c018f211;67d283f0be;2edaf78923;2e26c07328;9fc5270534;c4fbde26a5;bc2f13c38a;b17169d7c1;9f9eb3f3ae;c51c3197d2;6d85dbc8bb;056d2814a5;5948d0a724;9e3eb55241;2b851cf487;ad9f0251db;98b5f9caa1;1184a8df60;f35604716b;dbf9099590')])\n"
     ]
    }
   ],
   "source": [
    "with open('../logs/blocks.csv', newline='') as csvfile:\n",
    "    reader = csv.DictReader(csvfile)\n",
    "    if finalized_main_chain_pool_tx!=None:\n",
    "        for row in reader:\n",
    "            if finalized_main_chain_pool_tx['id'] in row['transactions']:\n",
    "                print(row)\n",
    "                break"
   ]
  },
  {
   "cell_type": "markdown",
   "metadata": {},
   "source": [
    "Now let's consider the second case of the pool transaction not on the main chain.\n",
    "We should see that it belongs to a block that is not finalized and not on the main chain, indicated\n",
    "by the fact the block's finalization timestamp and main chain arrival timestamp will both be `'None'`. However, the pool block timestamp should be equal to the block's proposal timestamp."
   ]
  },
  {
   "cell_type": "code",
   "execution_count": 14,
   "metadata": {},
   "outputs": [
    {
     "name": "stdout",
     "output_type": "stream",
     "text": [
      "OrderedDict([('id', '499f6'), ('parent id', 'None'), ('proposal timestamp', '5.42171711709395'), ('pool block timestamp', ''), ('finalization timestamp', 'None'), ('depth', 'NA'), ('finalized', 'False'), ('transactions', '99f9f99bc5;236e1c748a;c1828a4eca;4125aabcb8;8169c0555a;9af9f1591d;5e5c85e7a5;130914394c;0d6b6dc82c;f0b337de33;0e8b583ecb;7784049675;967ac1b7cb;dc78173696;6833734846')])\n"
     ]
    }
   ],
   "source": [
    "with open('../logs/blocks.csv', newline='') as csvfile:\n",
    "    reader = csv.DictReader(csvfile)\n",
    "    if not_on_main_chain_pool_tx!=None:\n",
    "        for row in reader:\n",
    "            if not_on_main_chain_pool_tx['id'] in row['transactions']:\n",
    "                print(row)\n",
    "                break"
   ]
  },
  {
   "cell_type": "markdown",
   "metadata": {},
   "source": [
    "The third case is the tree finalized tree transaction on the main chain. We should see that it\n",
    "belongs to a block with equal finalization and main chain arrival timestamps, but a pool block timestamp equal to `'None'`."
   ]
  },
  {
   "cell_type": "code",
   "execution_count": 15,
   "metadata": {},
   "outputs": [],
   "source": [
    "with open('../logs/blocks.csv', newline='') as csvfile:\n",
    "    reader = csv.DictReader(csvfile)\n",
    "    if finalized_main_chain_tree_tx!=None:\n",
    "        for row in reader:\n",
    "            if finalized_main_chain_tree_tx['id'] in row['transactions']:\n",
    "                print(row)\n",
    "                break"
   ]
  },
  {
   "cell_type": "markdown",
   "metadata": {},
   "source": [
    "The fourth case is the unfinalized tree transaction on the main chain. We should see that it\n",
    "belongs to a block with equal main chain arrival timestamp, but pool block and finalization\n",
    "timestamps equal to `'None'`."
   ]
  },
  {
   "cell_type": "code",
   "execution_count": 16,
   "metadata": {},
   "outputs": [],
   "source": [
    "with open('../logs/blocks.csv', newline='') as csvfile:\n",
    "    reader = csv.DictReader(csvfile)\n",
    "    if unfinalized_main_chain_tree_tx!=None:\n",
    "        for row in reader:\n",
    "            if unfinalized_main_chain_tree_tx['id'] in row['transactions']:\n",
    "                print(row)\n",
    "                break"
   ]
  },
  {
   "cell_type": "markdown",
   "metadata": {},
   "source": [
    "The final case is the tree transaction not on the main chain. The block is not used for any statistics and is not logged."
   ]
  },
  {
   "cell_type": "code",
   "execution_count": null,
   "metadata": {},
   "outputs": [],
   "source": []
  }
 ],
 "metadata": {
  "kernelspec": {
   "display_name": "Python 3",
   "language": "python",
   "name": "python3"
  },
  "language_info": {
   "codemirror_mode": {
    "name": "ipython",
    "version": 3
   },
   "file_extension": ".py",
   "mimetype": "text/x-python",
   "name": "python",
   "nbconvert_exporter": "python",
   "pygments_lexer": "ipython3",
   "version": "3.7.0"
  }
 },
 "nbformat": 4,
 "nbformat_minor": 2
}
