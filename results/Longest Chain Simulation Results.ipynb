{
 "cells": [
  {
   "cell_type": "markdown",
   "metadata": {},
   "source": [
    "### Experimental Parameters"
   ]
  },
  {
   "cell_type": "code",
   "execution_count": 1,
   "metadata": {},
   "outputs": [],
   "source": [
    "import numpy as np\n",
    "\n",
    "proposal_rates = np.linspace(0.001, 1, 10)\n",
    "n_trials = 2"
   ]
  },
  {
   "cell_type": "markdown",
   "metadata": {},
   "source": [
    "### Setup JSON File"
   ]
  },
  {
   "cell_type": "code",
   "execution_count": 2,
   "metadata": {},
   "outputs": [],
   "source": [
    "import json\n",
    "\n",
    "# Create experimental parameters and write to JSON file\n",
    "\n",
    "params = {'Block proposal rate parameter': 0,\n",
    " 'Block size (txs)': 50,\n",
    " 'Duration (sec)': 0,\n",
    " 'Fork choice rule': 'longest-chain',\n",
    " 'Network model': 'Decker-Wattenhorf',\n",
    " 'Number of adversaries': 1,\n",
    " 'Number of nodes': 100,\n",
    " 'Probability of error in transaction confirmation': 0.1,\n",
    " 'Transaction dataset': 'poisson'}\n"
   ]
  },
  {
   "cell_type": "markdown",
   "metadata": {},
   "source": [
    "### Run experiments"
   ]
  },
  {
   "cell_type": "code",
   "execution_count": 3,
   "metadata": {},
   "outputs": [
    {
     "name": "stdout",
     "output_type": "stream",
     "text": [
      "Parameters:\n",
      "{'longest-chain-test': {'Block proposal rate parameter': 0.001,\n",
      "                        'Block size (txs)': 50,\n",
      "                        'Duration (sec)': 5000,\n",
      "                        'Fork choice rule': 'longest-chain',\n",
      "                        'Network model': 'Decker-Wattenhorf',\n",
      "                        'Number of adversaries': 1,\n",
      "                        'Number of nodes': 100,\n",
      "                        'Probability of error in transaction confirmation': 0.1,\n",
      "                        'Transaction dataset': 'poisson'},\n",
      " 'setting-name': 'longest-chain-test'}\n",
      "Parameters:\n",
      "{'longest-chain-test': {'Block proposal rate parameter': 0.112,\n",
      "                        'Block size (txs)': 50,\n",
      "                        'Duration (sec)': 5000,\n",
      "                        'Fork choice rule': 'longest-chain',\n",
      "                        'Network model': 'Decker-Wattenhorf',\n",
      "                        'Number of adversaries': 1,\n",
      "                        'Number of nodes': 100,\n",
      "                        'Probability of error in transaction confirmation': 0.1,\n",
      "                        'Transaction dataset': 'poisson'},\n",
      " 'setting-name': 'longest-chain-test'}\n",
      "Parameters:\n",
      "{'longest-chain-test': {'Block proposal rate parameter': 0.223,\n",
      "                        'Block size (txs)': 50,\n",
      "                        'Duration (sec)': 5000,\n",
      "                        'Fork choice rule': 'longest-chain',\n",
      "                        'Network model': 'Decker-Wattenhorf',\n",
      "                        'Number of adversaries': 1,\n",
      "                        'Number of nodes': 100,\n",
      "                        'Probability of error in transaction confirmation': 0.1,\n",
      "                        'Transaction dataset': 'poisson'},\n",
      " 'setting-name': 'longest-chain-test'}\n",
      "Parameters:\n",
      "{'longest-chain-test': {'Block proposal rate parameter': 0.334,\n",
      "                        'Block size (txs)': 50,\n",
      "                        'Duration (sec)': 5000,\n",
      "                        'Fork choice rule': 'longest-chain',\n",
      "                        'Network model': 'Decker-Wattenhorf',\n",
      "                        'Number of adversaries': 1,\n",
      "                        'Number of nodes': 100,\n",
      "                        'Probability of error in transaction confirmation': 0.1,\n",
      "                        'Transaction dataset': 'poisson'},\n",
      " 'setting-name': 'longest-chain-test'}\n",
      "Parameters:\n",
      "{'longest-chain-test': {'Block proposal rate parameter': 0.445,\n",
      "                        'Block size (txs)': 50,\n",
      "                        'Duration (sec)': 5000,\n",
      "                        'Fork choice rule': 'longest-chain',\n",
      "                        'Network model': 'Decker-Wattenhorf',\n",
      "                        'Number of adversaries': 1,\n",
      "                        'Number of nodes': 100,\n",
      "                        'Probability of error in transaction confirmation': 0.1,\n",
      "                        'Transaction dataset': 'poisson'},\n",
      " 'setting-name': 'longest-chain-test'}\n",
      "Parameters:\n",
      "{'longest-chain-test': {'Block proposal rate parameter': 0.556,\n",
      "                        'Block size (txs)': 50,\n",
      "                        'Duration (sec)': 5000,\n",
      "                        'Fork choice rule': 'longest-chain',\n",
      "                        'Network model': 'Decker-Wattenhorf',\n",
      "                        'Number of adversaries': 1,\n",
      "                        'Number of nodes': 100,\n",
      "                        'Probability of error in transaction confirmation': 0.1,\n",
      "                        'Transaction dataset': 'poisson'},\n",
      " 'setting-name': 'longest-chain-test'}\n",
      "Parameters:\n",
      "{'longest-chain-test': {'Block proposal rate parameter': 0.667,\n",
      "                        'Block size (txs)': 50,\n",
      "                        'Duration (sec)': 5000,\n",
      "                        'Fork choice rule': 'longest-chain',\n",
      "                        'Network model': 'Decker-Wattenhorf',\n",
      "                        'Number of adversaries': 1,\n",
      "                        'Number of nodes': 100,\n",
      "                        'Probability of error in transaction confirmation': 0.1,\n",
      "                        'Transaction dataset': 'poisson'},\n",
      " 'setting-name': 'longest-chain-test'}\n",
      "Parameters:\n",
      "{'longest-chain-test': {'Block proposal rate parameter': 0.778,\n",
      "                        'Block size (txs)': 50,\n",
      "                        'Duration (sec)': 5000,\n",
      "                        'Fork choice rule': 'longest-chain',\n",
      "                        'Network model': 'Decker-Wattenhorf',\n",
      "                        'Number of adversaries': 1,\n",
      "                        'Number of nodes': 100,\n",
      "                        'Probability of error in transaction confirmation': 0.1,\n",
      "                        'Transaction dataset': 'poisson'},\n",
      " 'setting-name': 'longest-chain-test'}\n",
      "Parameters:\n",
      "{'longest-chain-test': {'Block proposal rate parameter': 0.889,\n",
      "                        'Block size (txs)': 50,\n",
      "                        'Duration (sec)': 5000,\n",
      "                        'Fork choice rule': 'longest-chain',\n",
      "                        'Network model': 'Decker-Wattenhorf',\n",
      "                        'Number of adversaries': 1,\n",
      "                        'Number of nodes': 100,\n",
      "                        'Probability of error in transaction confirmation': 0.1,\n",
      "                        'Transaction dataset': 'poisson'},\n",
      " 'setting-name': 'longest-chain-test'}\n",
      "Parameters:\n",
      "{'longest-chain-test': {'Block proposal rate parameter': 1.0,\n",
      "                        'Block size (txs)': 50,\n",
      "                        'Duration (sec)': 5000,\n",
      "                        'Fork choice rule': 'longest-chain',\n",
      "                        'Network model': 'Decker-Wattenhorf',\n",
      "                        'Number of adversaries': 1,\n",
      "                        'Number of nodes': 100,\n",
      "                        'Probability of error in transaction confirmation': 0.1,\n",
      "                        'Transaction dataset': 'poisson'},\n",
      " 'setting-name': 'longest-chain-test'}\n",
      "Throughputs:\n",
      " {0.001: [1, 1], 0.112: [1, 1], 0.223: [1, 1], 0.334: [1, 1], 0.445: [1, 1], 0.556: [1, 1], 0.667: [1, 1], 0.778: [1, 1], 0.889: [1, 1], 1.0: [1, 1]}\n",
      "Main Chain Arrival Latencies:\n",
      " {0.001: [2761.7731059871107, 1168.7146785981838], 0.112: [-2420.100651148611, -2359.795547397202], 0.223: [-2405.6711505723497, -2438.4721672180713], 0.334: [-2475.480427923122, -2435.4064849394185], 0.445: [-2414.3023349626787, -2462.4637129294574], 0.556: [-2459.1545927248585, -2434.8920636135035], 0.667: [-2475.4032556050643, -2413.5714989381904], 0.778: [-2455.155704940853, -2451.704155814178], 0.889: [-2477.2805790262555, -2445.7632299418433], 1.0: [-2434.3466864692327, -2463.4114942999286]}\n",
      "Finalization Latencies:\n",
      " {0.001: [0, 4278.560765619973], 0.112: [103.54397172137271, -8.100437598512949], 0.223: [30.752560144445756, 8.640159270885196], 0.334: [25.673291395531106, 41.72292028002627], 0.445: [57.03381847221448, 30.782314206273714], 0.556: [49.32811330902757, 54.3101380081381], 0.667: [21.63929729912824, 43.00429124668956], 0.778: [19.899328177056884, 21.445907239466866], 0.889: [9.193600043729223, 42.20136570453191], 1.0: [27.986265658170666, 19.754683413314698]}\n"
     ]
    }
   ],
   "source": [
    "import os, shutil, pprint\n",
    "\n",
    "pp = pprint.PrettyPrinter()\n",
    "os.system('touch longest_chain.json')\n",
    "os.chdir('..')\n",
    "\n",
    "import metrics\n",
    "\n",
    "throughputs = {}\n",
    "main_chain_arrival_latencies = {}\n",
    "finalization_latencies = {}\n",
    "\n",
    "for i in range(0, len(proposal_rates)):\n",
    "    rate = proposal_rates[i]\n",
    "    params['Block proposal rate parameter'] = rate\n",
    "    params['Duration (sec)'] = 5000\n",
    "    d = {}\n",
    "    d['setting-name'] = f'longest-chain-test'\n",
    "    d[f'longest-chain-test'] = params\n",
    "    print('Parameters:')\n",
    "    pp.pprint(d)\n",
    "    with open('results/longest_chain.json', 'w+') as outfile:\n",
    "        json.dump(d, outfile)\n",
    "    throughputs[rate] = []\n",
    "    main_chain_arrival_latencies[rate] = []\n",
    "    finalization_latencies[rate] = []\n",
    "    for trial in range(0, n_trials):\n",
    "        os.system('python3 main.py -f results/longest_chain.json')\n",
    "        throughput = metrics.compute_throughput()\n",
    "        avg_main_chain_arrival_latency, avg_finalization_latency = metrics.compute_latency()\n",
    "        throughputs[rate].append(throughput)\n",
    "        main_chain_arrival_latencies[rate].append(avg_main_chain_arrival_latency)\n",
    "        finalization_latencies[rate].append(avg_finalization_latency)\n",
    "\n",
    "\n",
    "os.chdir('results/')\n",
    "os.remove('longest_chain.json')\n",
    "\n",
    "print('Throughputs:\\n', throughputs)\n",
    "print('Main Chain Arrival Latencies:\\n', main_chain_arrival_latencies)\n",
    "print('Finalization Latencies:\\n', finalization_latencies)"
   ]
  },
  {
   "cell_type": "markdown",
   "metadata": {},
   "source": [
    "### Compute Averages\n",
    "\n",
    "Average main chain latency is the time for a transaction to be added to the global blocktree - the timestamp the transaction was created.\n",
    "\n",
    "Average finalization latency is the time for a transaction to be k blocks deep - to be added to the global blocktree."
   ]
  },
  {
   "cell_type": "code",
   "execution_count": 4,
   "metadata": {},
   "outputs": [
    {
     "name": "stdout",
     "output_type": "stream",
     "text": [
      "Average Main Chain Arrival Latency: {0.001: 1965.2438922926472, 0.112: -2389.948099272907, 0.223: -2422.0716588952105, 0.334: -2455.4434564312705, 0.445: -2438.383023946068, 0.556: -2447.023328169181, 0.667: -2444.4873772716273, 0.778: -2453.4299303775156, 0.889: -2461.5219044840496, 1.0: -2448.8790903845806}\n",
      "Average Finalization Latency: {0.001: 2139.2803828099863, 0.112: 47.72176706142988, 0.223: 19.696359707665476, 0.334: 33.69810583777869, 0.445: 43.908066339244094, 0.556: 51.819125658582834, 0.667: 32.3217942729089, 0.778: 20.672617708261875, 0.889: 25.697482874130564, 1.0: 23.87047453574268}\n"
     ]
    }
   ],
   "source": [
    "avg_main_chain_latencies = {}\n",
    "for rate in main_chain_arrival_latencies:\n",
    "    avg_main_chain_latencies[rate] = sum(main_chain_arrival_latencies[rate])/len(main_chain_arrival_latencies[rate])\n",
    "\n",
    "print(\"Average Main Chain Arrival Latency:\", avg_main_chain_latencies)\n",
    "avg_finalization_latencies = {}\n",
    "for rate in finalization_latencies:\n",
    "    avg_finalization_latencies[rate] = sum(finalization_latencies[rate])/len(finalization_latencies[rate])\n",
    "    \n",
    "print(\"Average Finalization Latency:\", avg_finalization_latencies)\n"
   ]
  },
  {
   "cell_type": "markdown",
   "metadata": {},
   "source": [
    "### Extract Finalization Depth and Delta for Blocks"
   ]
  },
  {
   "cell_type": "code",
   "execution_count": 5,
   "metadata": {},
   "outputs": [],
   "source": [
    "import csv\n",
    "with open('../logs/stats.csv', newline='') as csvfile:\n",
    "    reader = csv.reader(csvfile, delimiter=',')\n",
    "    for row in reader:\n",
    "        if row[0]=='Finalization depth':\n",
    "            k = int(row[1])\n",
    "        elif row[0]=='Average network latency for blocks (sec)':\n",
    "            delta = float(row[1])"
   ]
  },
  {
   "cell_type": "markdown",
   "metadata": {},
   "source": [
    "### Plotting the results"
   ]
  },
  {
   "cell_type": "code",
   "execution_count": 8,
   "metadata": {},
   "outputs": [
    {
     "data": {
      "image/png": "[encoded data removed]",
      "text/plain": [
       "<Figure size 432x288 with 1 Axes>"
      ]
     },
     "metadata": {
      "needs_background": "light"
     },
     "output_type": "display_data"
    }
   ],
   "source": [
    "import matplotlib.pylab as plt\n",
    "x = avg_main_chain_latencies.keys()\n",
    "y1 = avg_main_chain_latencies.values()\n",
    "expected_y1 = (1.0/delta+1.0/proposal_rates)\n",
    "y2 = avg_finalization_latencies.values()\n",
    "expected_y2 = k*(delta+1.0/proposal_rates)\n",
    "\n",
    "plt.xlabel('Block Proposal Rate (blocks/sec)')\n",
    "plt.ylabel('Main Chain Arrival Latency (sec)')\n",
    "plt.title(f'Main Chain Arrival Latency vs. Proposal Rate (k={k}, delta={delta})')\n",
    "plt.grid(True)\n",
    "\n",
    "plt.plot(x, y1, label='observed rate')\n",
    "plt.plot(x, expected_y1, '--', label='expected rate')\n",
    "plt.legend()\n",
    "plt.show()"
   ]
  },
  {
   "cell_type": "code",
   "execution_count": 7,
   "metadata": {},
   "outputs": [
    {
     "data": {
      "image/png": "[encoded data removed]",
      "text/plain": [
       "<Figure size 432x288 with 1 Axes>"
      ]
     },
     "metadata": {
      "needs_background": "light"
     },
     "output_type": "display_data"
    }
   ],
   "source": [
    "plt.xlabel('Block Proposal Rate (blocks/sec)')\n",
    "plt.ylabel('Finalization Latency (sec)')\n",
    "plt.title(f'Finalization Latency vs. Proposal Rate (k={k}, delta={delta})')\n",
    "plt.grid(True)\n",
    "\n",
    "plt.plot(x, y2, label='observed rate')\n",
    "plt.plot(x, expected_y2, '--', label='expected rate')\n",
    "plt.legend()\n",
    "plt.show()"
   ]
  },
  {
   "cell_type": "code",
   "execution_count": null,
   "metadata": {},
   "outputs": [],
   "source": []
  },
  {
   "cell_type": "code",
   "execution_count": null,
   "metadata": {},
   "outputs": [],
   "source": []
  }
 ],
 "metadata": {
  "kernelspec": {
   "display_name": "Python 3",
   "language": "python",
   "name": "python3"
  },
  "language_info": {
   "codemirror_mode": {
    "name": "ipython",
    "version": 3
   },
   "file_extension": ".py",
   "mimetype": "text/x-python",
   "name": "python",
   "nbconvert_exporter": "python",
   "pygments_lexer": "ipython3",
   "version": "3.7.0"
  }
 },
 "nbformat": 4,
 "nbformat_minor": 2
}
