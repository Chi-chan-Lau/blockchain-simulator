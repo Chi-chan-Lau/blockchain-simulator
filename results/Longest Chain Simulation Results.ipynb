{
 "cells": [
  {
   "cell_type": "markdown",
   "metadata": {},
   "source": [
    "### Experimental Parameters"
   ]
  },
  {
   "cell_type": "code",
   "execution_count": 1,
   "metadata": {},
   "outputs": [],
   "source": [
    "import numpy as np\n",
    "%matplotlib inline\n",
    "\n",
    "proposal_rates = np.linspace(0.1, 1, 5)\n",
    "n_trials = 1"
   ]
  },
  {
   "cell_type": "markdown",
   "metadata": {},
   "source": [
    "### Setup JSON File"
   ]
  },
  {
   "cell_type": "code",
   "execution_count": 2,
   "metadata": {},
   "outputs": [],
   "source": [
    "import sys\n",
    "import json\n",
    "\n",
    "# Create experimental parameters and write to JSON file\n",
    "\n",
    "params = {'Block proposal rate parameter': 0,\n",
    " 'Block size (txs)': 50,\n",
    " 'Duration (sec)': 0,\n",
    " 'Fork choice rule': 'longest-chain',\n",
    " 'Network model': 'Decker-Wattenhorf',\n",
    " 'Number of adversaries': 1,\n",
    " 'Number of nodes': 100,\n",
    " 'Probability of error in transaction confirmation': 0.01,\n",
    " 'Transaction dataset': 'poisson',\n",
    " 'Transaction scheduling rule': 'FIFO',\n",
    " 'Logging enabled': True}"
   ]
  },
  {
   "cell_type": "markdown",
   "metadata": {},
   "source": [
    "### Run experiments"
   ]
  },
  {
   "cell_type": "code",
   "execution_count": 3,
   "metadata": {},
   "outputs": [
    {
     "name": "stdout",
     "output_type": "stream",
     "text": [
      "Parameters:\n",
      "{'longest-chain-test': {'Block proposal rate parameter': 0.1,\n",
      "                        'Block size (txs)': 50,\n",
      "                        'Duration (sec)': 1000,\n",
      "                        'Fork choice rule': 'longest-chain',\n",
      "                        'Logging enabled': True,\n",
      "                        'Network model': 'Decker-Wattenhorf',\n",
      "                        'Number of adversaries': 1,\n",
      "                        'Number of nodes': 100,\n",
      "                        'Probability of error in transaction confirmation': 0.01,\n",
      "                        'Transaction dataset': 'poisson',\n",
      "                        'Transaction scheduling rule': 'FIFO'},\n",
      " 'setting-name': 'longest-chain-test'}\n",
      "1005 1005\n",
      "Parameters:\n",
      "{'longest-chain-test': {'Block proposal rate parameter': 0.325,\n",
      "                        'Block size (txs)': 50,\n",
      "                        'Duration (sec)': 1000,\n",
      "                        'Fork choice rule': 'longest-chain',\n",
      "                        'Logging enabled': True,\n",
      "                        'Network model': 'Decker-Wattenhorf',\n",
      "                        'Number of adversaries': 1,\n",
      "                        'Number of nodes': 100,\n",
      "                        'Probability of error in transaction confirmation': 0.01,\n",
      "                        'Transaction dataset': 'poisson',\n",
      "                        'Transaction scheduling rule': 'FIFO'},\n",
      " 'setting-name': 'longest-chain-test'}\n",
      "1037 1037\n",
      "Parameters:\n",
      "{'longest-chain-test': {'Block proposal rate parameter': 0.55,\n",
      "                        'Block size (txs)': 50,\n",
      "                        'Duration (sec)': 1000,\n",
      "                        'Fork choice rule': 'longest-chain',\n",
      "                        'Logging enabled': True,\n",
      "                        'Network model': 'Decker-Wattenhorf',\n",
      "                        'Number of adversaries': 1,\n",
      "                        'Number of nodes': 100,\n",
      "                        'Probability of error in transaction confirmation': 0.01,\n",
      "                        'Transaction dataset': 'poisson',\n",
      "                        'Transaction scheduling rule': 'FIFO'},\n",
      " 'setting-name': 'longest-chain-test'}\n",
      "1017 1013\n",
      "Parameters:\n",
      "{'longest-chain-test': {'Block proposal rate parameter': 0.775,\n",
      "                        'Block size (txs)': 50,\n",
      "                        'Duration (sec)': 1000,\n",
      "                        'Fork choice rule': 'longest-chain',\n",
      "                        'Logging enabled': True,\n",
      "                        'Network model': 'Decker-Wattenhorf',\n",
      "                        'Number of adversaries': 1,\n",
      "                        'Number of nodes': 100,\n",
      "                        'Probability of error in transaction confirmation': 0.01,\n",
      "                        'Transaction dataset': 'poisson',\n",
      "                        'Transaction scheduling rule': 'FIFO'},\n",
      " 'setting-name': 'longest-chain-test'}\n",
      "1010 1009\n",
      "Parameters:\n",
      "{'longest-chain-test': {'Block proposal rate parameter': 1.0,\n",
      "                        'Block size (txs)': 50,\n",
      "                        'Duration (sec)': 1000,\n",
      "                        'Fork choice rule': 'longest-chain',\n",
      "                        'Logging enabled': True,\n",
      "                        'Network model': 'Decker-Wattenhorf',\n",
      "                        'Number of adversaries': 1,\n",
      "                        'Number of nodes': 100,\n",
      "                        'Probability of error in transaction confirmation': 0.01,\n",
      "                        'Transaction dataset': 'poisson',\n",
      "                        'Transaction scheduling rule': 'FIFO'},\n",
      " 'setting-name': 'longest-chain-test'}\n",
      "962 952\n",
      "Throughputs:\n",
      " {0.1: [(1.005, 1.005)], 0.325: [(1.037, 1.037)], 0.55: [(1.017, 1.013)], 0.775: [(1.01, 1.009)], 1.0: [(0.962, 0.952)]}\n",
      "Main Chain Arrival Latencies:\n",
      " {0.1: [12.027621223596993], 0.325: [4.056886902661828], 0.55: [3.2617475364936306], 0.775: [2.939248150398518], 1.0: [2.9982205723341924]}\n",
      "Finalization Latencies:\n",
      " {0.1: [26.10335753284703], 0.325: [9.81036636982085], 0.55: [7.210303426882567], 0.775: [5.759539073591967], 1.0: [5.414081976462198]}\n"
     ]
    }
   ],
   "source": [
    "import os, shutil, pprint, glob, csv\n",
    "\n",
    "pp = pprint.PrettyPrinter()\n",
    "os.system('touch longest_chain.json')\n",
    "os.chdir('..')\n",
    "\n",
    "import metrics\n",
    "\n",
    "throughputs = {}\n",
    "main_chain_arrival_latencies = {}\n",
    "finalization_latencies = {}\n",
    "\n",
    "for i in range(0, len(proposal_rates)):\n",
    "    rate = proposal_rates[i]\n",
    "    params['Block proposal rate parameter'] = rate\n",
    "    params['Duration (sec)'] = 1000\n",
    "    d = {}\n",
    "    d['setting-name'] = f'longest-chain-test'\n",
    "    d[f'longest-chain-test'] = params\n",
    "    print('Parameters:')\n",
    "    pp.pprint(d)\n",
    "    with open('results/longest_chain.json', 'w+') as outfile:\n",
    "        json.dump(d, outfile)\n",
    "    throughputs[rate] = []\n",
    "    main_chain_arrival_latencies[rate] = []\n",
    "    finalization_latencies[rate] = []\n",
    "    for trial in range(0, n_trials):\n",
    "        os.system('python3.7 main.py -f results/longest_chain.json')\n",
    "        throughput = metrics.compute_throughputs()\n",
    "        avg_main_chain_arrival_latency, avg_finalization_latency = metrics.compute_latency()\n",
    "        throughputs[rate].append(throughput)\n",
    "        main_chain_arrival_latencies[rate].append(avg_main_chain_arrival_latency)\n",
    "        finalization_latencies[rate].append(avg_finalization_latency)\n",
    "\n",
    "    \n",
    "os.chdir('results/')\n",
    "os.remove('longest_chain.json')\n",
    "print('Throughputs:\\n', throughputs)\n",
    "print('Main Chain Arrival Latencies:\\n', main_chain_arrival_latencies)\n",
    "print('Finalization Latencies:\\n', finalization_latencies)"
   ]
  },
  {
   "cell_type": "markdown",
   "metadata": {},
   "source": [
    "### Compute Averages\n",
    "\n",
    "Average main chain latency is the time for a transaction to be added to the global blocktree - the timestamp the transaction was created.\n",
    "\n",
    "Average finalization latency is the time for a transaction to be k blocks deep - to be added to the global blocktree."
   ]
  },
  {
   "cell_type": "code",
   "execution_count": 4,
   "metadata": {},
   "outputs": [
    {
     "name": "stdout",
     "output_type": "stream",
     "text": [
      "Average Main Chain Arrival Latency: {0.1: 12.027621223596993, 0.325: 4.056886902661828, 0.55: 3.2617475364936306, 0.775: 2.939248150398518, 1.0: 2.9982205723341924}\n",
      "Average Finalization Latency: {0.1: 26.10335753284703, 0.325: 9.81036636982085, 0.55: 7.210303426882567, 0.775: 5.759539073591967, 1.0: 5.414081976462198}\n"
     ]
    }
   ],
   "source": [
    "avg_main_chain_latencies = {}\n",
    "for rate in main_chain_arrival_latencies:\n",
    "    avg_main_chain_latencies[rate] = sum(main_chain_arrival_latencies[rate])/len(main_chain_arrival_latencies[rate])\n",
    "\n",
    "print(\"Average Main Chain Arrival Latency:\", avg_main_chain_latencies)\n",
    "avg_finalization_latencies = {}\n",
    "for rate in finalization_latencies:\n",
    "    avg_finalization_latencies[rate] = sum(finalization_latencies[rate])/len(finalization_latencies[rate])\n",
    "    \n",
    "print(\"Average Finalization Latency:\", avg_finalization_latencies)"
   ]
  },
  {
   "cell_type": "markdown",
   "metadata": {},
   "source": [
    "### Extract Finalization Depth and Delta for Blocks"
   ]
  },
  {
   "cell_type": "code",
   "execution_count": 5,
   "metadata": {},
   "outputs": [],
   "source": [
    "import csv\n",
    "with open('../logs/stats.csv', newline='') as csvfile:\n",
    "    reader = csv.reader(csvfile, delimiter=',')\n",
    "    for row in reader:\n",
    "        if row[0]=='Finalization depth':\n",
    "            k = int(row[1])\n",
    "        elif row[0]=='Average network latency for blocks (sec)':\n",
    "            delta = float(row[1])"
   ]
  },
  {
   "cell_type": "markdown",
   "metadata": {},
   "source": [
    "### Plotting the results"
   ]
  },
  {
   "cell_type": "code",
   "execution_count": 6,
   "metadata": {},
   "outputs": [
    {
     "data": {
      "image/png": "[encoded data removed]",
      "text/plain": [
       "<matplotlib.figure.Figure at 0x112e36dd8>"
      ]
     },
     "metadata": {
      "needs_background": "light"
     },
     "output_type": "display_data"
    }
   ],
   "source": [
    "import matplotlib.pylab as plt\n",
    "x = avg_main_chain_latencies.keys()\n",
    "y1 = avg_main_chain_latencies.values()\n",
    "expected_y1 = (1.0/delta+1.0/proposal_rates)\n",
    "y2 = avg_finalization_latencies.values()\n",
    "expected_y2 = k*(delta+1.0/proposal_rates)\n",
    "\n",
    "plt.xlabel('Block Proposal Rate (blocks/sec)')\n",
    "plt.ylabel('Main Chain Arrival Latency (sec)')\n",
    "plt.title(f'Main Chain Arrival Latency vs. Proposal Rate (k={k}, delta={delta})')\n",
    "plt.grid(True)\n",
    "\n",
    "plt.plot(x, y1, label='observed rate')\n",
    "plt.plot(x, expected_y1, '--', label='expected rate')\n",
    "plt.legend()\n",
    "plt.show()"
   ]
  },
  {
   "cell_type": "code",
   "execution_count": 7,
   "metadata": {},
   "outputs": [
    {
     "data": {
      "image/png": "[encoded data removed]",
      "text/plain": [
       "<matplotlib.figure.Figure at 0x112e36828>"
      ]
     },
     "metadata": {
      "needs_background": "light"
     },
     "output_type": "display_data"
    }
   ],
   "source": [
    "plt.xlabel('Block Proposal Rate (blocks/sec)')\n",
    "plt.ylabel('Finalization Latency (sec)')\n",
    "plt.title(f'Finalization Latency vs. Proposal Rate (k={k}, delta={delta})')\n",
    "plt.grid(True)\n",
    "\n",
    "plt.plot(x, y2, label='observed rate')\n",
    "plt.plot(x, expected_y2, '--', label='expected rate')\n",
    "plt.legend()\n",
    "plt.show()"
   ]
  },
  {
   "cell_type": "code",
   "execution_count": null,
   "metadata": {},
   "outputs": [],
   "source": []
  }
 ],
 "metadata": {
  "kernelspec": {
   "display_name": "Python 3",
   "language": "python",
   "name": "python3"
  },
  "language_info": {
   "codemirror_mode": {
    "name": "ipython",
    "version": 3
   },
   "file_extension": ".py",
   "mimetype": "text/x-python",
   "name": "python",
   "nbconvert_exporter": "python",
   "pygments_lexer": "ipython3",
   "version": "3.6.6"
  }
 },
 "nbformat": 4,
 "nbformat_minor": 2
}
