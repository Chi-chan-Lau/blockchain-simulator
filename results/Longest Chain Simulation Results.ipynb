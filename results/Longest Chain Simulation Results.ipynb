{
 "cells": [
  {
   "cell_type": "markdown",
   "metadata": {},
   "source": [
    "### Experimental Parameters"
   ]
  },
  {
   "cell_type": "code",
   "execution_count": 1,
   "metadata": {},
   "outputs": [],
   "source": [
    "import numpy as np\n",
    "\n",
    "proposal_rates = np.linspace(0.01, 1, 10)\n",
    "n_trials = 2"
   ]
  },
  {
   "cell_type": "markdown",
   "metadata": {},
   "source": [
    "### Setup JSON File"
   ]
  },
  {
   "cell_type": "code",
   "execution_count": 2,
   "metadata": {},
   "outputs": [],
   "source": [
    "import json\n",
    "\n",
    "# Create experimental parameters and write to JSON file\n",
    "\n",
    "params = {'Block proposal rate parameter': 0,\n",
    " 'Block size (txs)': 50,\n",
    " 'Duration (sec)': 0,\n",
    " 'Fork choice rule': 'longest-chain',\n",
    " 'Network model': 'Decker-Wattenhorf',\n",
    " 'Number of adversaries': 1,\n",
    " 'Number of nodes': 100,\n",
    " 'Probability of error in transaction confirmation': 0.1,\n",
    " 'Transaction dataset': 'poisson'}\n"
   ]
  },
  {
   "cell_type": "markdown",
   "metadata": {},
   "source": [
    "### Run experiments"
   ]
  },
  {
   "cell_type": "code",
   "execution_count": 3,
   "metadata": {},
   "outputs": [
    {
     "name": "stdout",
     "output_type": "stream",
     "text": [
      "Parameters:\n",
      "{'longest-chain-test': {'Block proposal rate parameter': 0.01,\n",
      "                        'Block size (txs)': 50,\n",
      "                        'Duration (sec)': 2400,\n",
      "                        'Fork choice rule': 'longest-chain',\n",
      "                        'Network model': 'Decker-Wattenhorf',\n",
      "                        'Number of adversaries': 1,\n",
      "                        'Number of nodes': 100,\n",
      "                        'Probability of error in transaction confirmation': 0.1,\n",
      "                        'Transaction dataset': 'poisson'},\n",
      " 'setting-name': 'longest-chain-test'}\n",
      "Parameters:\n",
      "{'longest-chain-test': {'Block proposal rate parameter': 0.12,\n",
      "                        'Block size (txs)': 50,\n",
      "                        'Duration (sec)': 2400,\n",
      "                        'Fork choice rule': 'longest-chain',\n",
      "                        'Network model': 'Decker-Wattenhorf',\n",
      "                        'Number of adversaries': 1,\n",
      "                        'Number of nodes': 100,\n",
      "                        'Probability of error in transaction confirmation': 0.1,\n",
      "                        'Transaction dataset': 'poisson'},\n",
      " 'setting-name': 'longest-chain-test'}\n",
      "Parameters:\n",
      "{'longest-chain-test': {'Block proposal rate parameter': 0.23,\n",
      "                        'Block size (txs)': 50,\n",
      "                        'Duration (sec)': 2400,\n",
      "                        'Fork choice rule': 'longest-chain',\n",
      "                        'Network model': 'Decker-Wattenhorf',\n",
      "                        'Number of adversaries': 1,\n",
      "                        'Number of nodes': 100,\n",
      "                        'Probability of error in transaction confirmation': 0.1,\n",
      "                        'Transaction dataset': 'poisson'},\n",
      " 'setting-name': 'longest-chain-test'}\n",
      "Parameters:\n",
      "{'longest-chain-test': {'Block proposal rate parameter': 0.34,\n",
      "                        'Block size (txs)': 50,\n",
      "                        'Duration (sec)': 2400,\n",
      "                        'Fork choice rule': 'longest-chain',\n",
      "                        'Network model': 'Decker-Wattenhorf',\n",
      "                        'Number of adversaries': 1,\n",
      "                        'Number of nodes': 100,\n",
      "                        'Probability of error in transaction confirmation': 0.1,\n",
      "                        'Transaction dataset': 'poisson'},\n",
      " 'setting-name': 'longest-chain-test'}\n",
      "Parameters:\n",
      "{'longest-chain-test': {'Block proposal rate parameter': 0.45,\n",
      "                        'Block size (txs)': 50,\n",
      "                        'Duration (sec)': 2400,\n",
      "                        'Fork choice rule': 'longest-chain',\n",
      "                        'Network model': 'Decker-Wattenhorf',\n",
      "                        'Number of adversaries': 1,\n",
      "                        'Number of nodes': 100,\n",
      "                        'Probability of error in transaction confirmation': 0.1,\n",
      "                        'Transaction dataset': 'poisson'},\n",
      " 'setting-name': 'longest-chain-test'}\n",
      "Parameters:\n",
      "{'longest-chain-test': {'Block proposal rate parameter': 0.56,\n",
      "                        'Block size (txs)': 50,\n",
      "                        'Duration (sec)': 2400,\n",
      "                        'Fork choice rule': 'longest-chain',\n",
      "                        'Network model': 'Decker-Wattenhorf',\n",
      "                        'Number of adversaries': 1,\n",
      "                        'Number of nodes': 100,\n",
      "                        'Probability of error in transaction confirmation': 0.1,\n",
      "                        'Transaction dataset': 'poisson'},\n",
      " 'setting-name': 'longest-chain-test'}\n",
      "Parameters:\n",
      "{'longest-chain-test': {'Block proposal rate parameter': 0.67,\n",
      "                        'Block size (txs)': 50,\n",
      "                        'Duration (sec)': 2400,\n",
      "                        'Fork choice rule': 'longest-chain',\n",
      "                        'Network model': 'Decker-Wattenhorf',\n",
      "                        'Number of adversaries': 1,\n",
      "                        'Number of nodes': 100,\n",
      "                        'Probability of error in transaction confirmation': 0.1,\n",
      "                        'Transaction dataset': 'poisson'},\n",
      " 'setting-name': 'longest-chain-test'}\n",
      "Parameters:\n",
      "{'longest-chain-test': {'Block proposal rate parameter': 0.78,\n",
      "                        'Block size (txs)': 50,\n",
      "                        'Duration (sec)': 2400,\n",
      "                        'Fork choice rule': 'longest-chain',\n",
      "                        'Network model': 'Decker-Wattenhorf',\n",
      "                        'Number of adversaries': 1,\n",
      "                        'Number of nodes': 100,\n",
      "                        'Probability of error in transaction confirmation': 0.1,\n",
      "                        'Transaction dataset': 'poisson'},\n",
      " 'setting-name': 'longest-chain-test'}\n",
      "Parameters:\n",
      "{'longest-chain-test': {'Block proposal rate parameter': 0.89,\n",
      "                        'Block size (txs)': 50,\n",
      "                        'Duration (sec)': 2400,\n",
      "                        'Fork choice rule': 'longest-chain',\n",
      "                        'Network model': 'Decker-Wattenhorf',\n",
      "                        'Number of adversaries': 1,\n",
      "                        'Number of nodes': 100,\n",
      "                        'Probability of error in transaction confirmation': 0.1,\n",
      "                        'Transaction dataset': 'poisson'},\n",
      " 'setting-name': 'longest-chain-test'}\n",
      "Parameters:\n",
      "{'longest-chain-test': {'Block proposal rate parameter': 1.0,\n",
      "                        'Block size (txs)': 50,\n",
      "                        'Duration (sec)': 2400,\n",
      "                        'Fork choice rule': 'longest-chain',\n",
      "                        'Network model': 'Decker-Wattenhorf',\n",
      "                        'Number of adversaries': 1,\n",
      "                        'Number of nodes': 100,\n",
      "                        'Probability of error in transaction confirmation': 0.1,\n",
      "                        'Transaction dataset': 'poisson'},\n",
      " 'setting-name': 'longest-chain-test'}\n",
      "Throughputs:\n",
      " {0.01: [1, 1], 0.12: [1, 1], 0.23: [1, 1], 0.34: [1, 1], 0.45: [1, 1], 0.56: [1, 1], 0.67: [1, 1], 0.78: [1, 1], 0.89: [1, 1], 1.0: [1, 1]}\n",
      "Main Chain Arrival Latencies:\n",
      " {0.01: [846.9030877899368, 476.80510790800747], 0.12: [9.892190393618868, 9.521951883170427], 0.23: [5.889831897263916, 5.868556414153064], 0.34: [4.507356460433238, 4.776846587179697], 0.45: [4.482507655340488, 4.722696801723477], 0.56: [4.156127578098894, 4.401156809499585], 0.67: [4.6364084241028145, 4.581815174374698], 0.78: [4.488083838642618, 4.300718196423225], 0.89: [4.329770704796599, 4.302454603877978], 1.0: [4.879852028149269, 4.5053919261132584]}\n",
      "Finalization Latencies:\n",
      " {0.01: [830.9071153985919, 504.8765723655119], 0.12: [67.82074295896491, 66.36129776028352], 0.23: [40.01551696233478, 40.200335086417994], 0.34: [31.732633153021666, 33.9622995481112], 0.45: [28.998193701933083, 30.90976004143035], 0.56: [27.10046122492902, 28.86089873222916], 0.67: [27.428737633461722, 26.362918864861907], 0.78: [25.83536571319532, 25.524239953203804], 0.89: [24.90683735766502, 24.760403285873917], 1.0: [26.948837843654694, 24.463683218076557]}\n"
     ]
    }
   ],
   "source": [
    "import os, shutil, pprint\n",
    "\n",
    "pp = pprint.PrettyPrinter()\n",
    "os.system('touch longest_chain.json')\n",
    "os.chdir('..')\n",
    "\n",
    "import metrics\n",
    "\n",
    "throughputs = {}\n",
    "main_chain_arrival_latencies = {}\n",
    "finalization_latencies = {}\n",
    "\n",
    "for i in range(0, len(proposal_rates)):\n",
    "    rate = proposal_rates[i]\n",
    "    params['Block proposal rate parameter'] = rate\n",
    "    params['Duration (sec)'] = 2400\n",
    "    d = {}\n",
    "    d['setting-name'] = f'longest-chain-test'\n",
    "    d[f'longest-chain-test'] = params\n",
    "    print('Parameters:')\n",
    "    pp.pprint(d)\n",
    "    with open('results/longest_chain.json', 'w+') as outfile:\n",
    "        json.dump(d, outfile)\n",
    "    throughputs[rate] = []\n",
    "    main_chain_arrival_latencies[rate] = []\n",
    "    finalization_latencies[rate] = []\n",
    "    for trial in range(0, n_trials):\n",
    "        os.system('python3 main.py -f results/longest_chain.json')\n",
    "        throughput = metrics.compute_throughput()\n",
    "        avg_main_chain_arrival_latency, avg_finalization_latency = metrics.compute_latency()\n",
    "        throughputs[rate].append(throughput)\n",
    "        main_chain_arrival_latencies[rate].append(avg_main_chain_arrival_latency)\n",
    "        finalization_latencies[rate].append(avg_finalization_latency)\n",
    "\n",
    "\n",
    "os.chdir('results/')\n",
    "os.remove('longest_chain.json')\n",
    "\n",
    "print('Throughputs:\\n', throughputs)\n",
    "print('Main Chain Arrival Latencies:\\n', main_chain_arrival_latencies)\n",
    "print('Finalization Latencies:\\n', finalization_latencies)"
   ]
  },
  {
   "cell_type": "markdown",
   "metadata": {},
   "source": [
    "### Compute Averages\n",
    "\n",
    "Average main chain latency is the time for a transaction to be added to the global blocktree - the timestamp the transaction was created.\n",
    "\n",
    "Average finalization latency is the time for a transaction to be k blocks deep - to be added to the global blocktree."
   ]
  },
  {
   "cell_type": "code",
   "execution_count": 4,
   "metadata": {},
   "outputs": [
    {
     "name": "stdout",
     "output_type": "stream",
     "text": [
      "Average Main Chain Arrival Latency: {0.01: 661.8540978489721, 0.12: 9.707071138394648, 0.23: 5.87919415570849, 0.34: 4.642101523806467, 0.45: 4.602602228531982, 0.56: 4.278642193799239, 0.67: 4.6091117992387565, 0.78: 4.394401017532921, 0.89: 4.316112654337289, 1.0: 4.692621977131264}\n",
      "Average Finalization Latency: {0.01: 667.891843882052, 0.12: 67.09102035962422, 0.23: 40.10792602437638, 0.34: 32.847466350566435, 0.45: 29.953976871681718, 0.56: 27.98067997857909, 0.67: 26.895828249161816, 0.78: 25.67980283319956, 0.89: 24.833620321769466, 1.0: 25.706260530865627}\n"
     ]
    }
   ],
   "source": [
    "avg_main_chain_latencies = {}\n",
    "for rate in main_chain_arrival_latencies:\n",
    "    avg_main_chain_latencies[rate] = sum(main_chain_arrival_latencies[rate])/len(main_chain_arrival_latencies[rate])\n",
    "\n",
    "print(\"Average Main Chain Arrival Latency:\", avg_main_chain_latencies)\n",
    "avg_finalization_latencies = {}\n",
    "for rate in finalization_latencies:\n",
    "    avg_finalization_latencies[rate] = sum(finalization_latencies[rate])/len(finalization_latencies[rate])\n",
    "    \n",
    "print(\"Average Finalization Latency:\", avg_finalization_latencies)\n"
   ]
  },
  {
   "cell_type": "markdown",
   "metadata": {},
   "source": [
    "### Extract Finalization Depth and Delta for Blocks"
   ]
  },
  {
   "cell_type": "code",
   "execution_count": 5,
   "metadata": {},
   "outputs": [],
   "source": [
    "import csv\n",
    "with open('../logs/stats.csv', newline='') as csvfile:\n",
    "    reader = csv.reader(csvfile, delimiter=',')\n",
    "    for row in reader:\n",
    "        if row[0]=='Finalization depth':\n",
    "            k = int(row[1])\n",
    "        elif row[0]=='Average network latency for blocks (sec)':\n",
    "            delta = float(row[1])"
   ]
  },
  {
   "cell_type": "markdown",
   "metadata": {},
   "source": [
    "### Plotting the results"
   ]
  },
  {
   "cell_type": "code",
   "execution_count": 8,
   "metadata": {},
   "outputs": [
    {
     "data": {
      "image/png": "[encoded data removed]",
      "text/plain": [
       "<Figure size 432x288 with 1 Axes>"
      ]
     },
     "metadata": {
      "needs_background": "light"
     },
     "output_type": "display_data"
    }
   ],
   "source": [
    "import matplotlib.pylab as plt\n",
    "x = avg_main_chain_latencies.keys()\n",
    "y1 = avg_main_chain_latencies.values()\n",
    "expected_y1 = (1.0/delta+1.0/proposal_rates)\n",
    "y2 = avg_finalization_latencies.values()\n",
    "expected_y2 = k*(delta+1.0/proposal_rates)\n",
    "\n",
    "plt.xlabel('Block Proposal Rate (blocks/sec)')\n",
    "plt.ylabel('Main Chain Arrival Latency (sec)')\n",
    "plt.title(f'Main Chain Arrival Latency vs. Proposal Rate (k={k}, delta={delta})')\n",
    "plt.grid(True)\n",
    "\n",
    "plt.plot(x, y1, label='observed rate')\n",
    "plt.plot(x, expected_y1, '--', label='expected rate')\n",
    "plt.legend()\n",
    "plt.show()"
   ]
  },
  {
   "cell_type": "code",
   "execution_count": 9,
   "metadata": {},
   "outputs": [
    {
     "data": {
      "image/png": "[encoded data removed]",
      "text/plain": [
       "<Figure size 432x288 with 1 Axes>"
      ]
     },
     "metadata": {
      "needs_background": "light"
     },
     "output_type": "display_data"
    }
   ],
   "source": [
    "plt.xlabel('Block Proposal Rate (blocks/sec)')\n",
    "plt.ylabel('Finalization Latency (sec)')\n",
    "plt.title(f'Finalization Latency vs. Proposal Rate (k={k}, delta={delta})')\n",
    "plt.grid(True)\n",
    "\n",
    "plt.plot(x, y2, label='observed rate')\n",
    "plt.plot(x, expected_y2, '--', label='expected rate')\n",
    "plt.legend()\n",
    "plt.show()"
   ]
  },
  {
   "cell_type": "code",
   "execution_count": null,
   "metadata": {},
   "outputs": [],
   "source": []
  },
  {
   "cell_type": "code",
   "execution_count": null,
   "metadata": {},
   "outputs": [],
   "source": []
  }
 ],
 "metadata": {
  "kernelspec": {
   "display_name": "Python 3",
   "language": "python",
   "name": "python3"
  },
  "language_info": {
   "codemirror_mode": {
    "name": "ipython",
    "version": 3
   },
   "file_extension": ".py",
   "mimetype": "text/x-python",
   "name": "python",
   "nbconvert_exporter": "python",
   "pygments_lexer": "ipython3",
   "version": "3.7.0"
  }
 },
 "nbformat": 4,
 "nbformat_minor": 2
}
